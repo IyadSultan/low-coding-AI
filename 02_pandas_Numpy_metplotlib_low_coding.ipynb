{
  "nbformat": 4,
  "nbformat_minor": 0,
  "metadata": {
    "colab": {
      "provenance": [],
      "mount_file_id": "1vBeXiAn7yg6vWx2uwYQrNLayadSrgv4o",
      "authorship_tag": "ABX9TyNgm905/bIHsyUhJkNYO62h",
      "include_colab_link": true
    },
    "kernelspec": {
      "name": "python3",
      "display_name": "Python 3"
    },
    "language_info": {
      "name": "python"
    }
  },
  "cells": [
    {
      "cell_type": "markdown",
      "metadata": {
        "id": "view-in-github",
        "colab_type": "text"
      },
      "source": [
        "<a href=\"https://colab.research.google.com/github/IyadSultan/low-coding-AI/blob/main/02_pandas_Numpy_metplotlib_low_coding.ipynb\" target=\"_parent\"><img src=\"https://colab.research.google.com/assets/colab-badge.svg\" alt=\"Open In Colab\"/></a>"
      ]
    },
    {
      "cell_type": "markdown",
      "source": [
        "#pandas\n",
        "\n",
        "You are an expert Python tutor specializing in data analysis with pandas. Provide me with a step-by-step guide on how to effectively utilize pandas to its fullest potential. Your instructions should include explanations in text along with code examples embedded directly in the text (rather than as separate chunks).\n",
        "\n",
        "To demonstrate, use the CSV file available at this GitHub link https://github.com/kirenz/datasets/blob/master/gapminder.csv. Start by showing how to download the dataset, explore its structure, list its column names, determine its shape, and perform an initial exploratory analysis. Highlight the features and strengths of pandas throughout your explanation. Avoid using additional packages for now, focusing solely on pandas."
      ],
      "metadata": {
        "id": "4yWPEzdk6da_"
      }
    },
    {
      "cell_type": "markdown",
      "source": [],
      "metadata": {
        "id": "YW22M5sw69zr"
      }
    },
    {
      "cell_type": "markdown",
      "source": [
        "Step 1: Import pandas and Download the Dataset\n",
        "To begin, ensure pandas is imported. Since the dataset is hosted on GitHub, we can download it using its raw URL."
      ],
      "metadata": {
        "id": "K39Zy_-Q7O8K"
      }
    },
    {
      "cell_type": "code",
      "source": [
        "# %pip install pandas\n",
        "\n",
        "import pandas as pd\n",
        "url = 'https://raw.githubusercontent.com/kirenz/datasets/master/gapminder.csv'\n",
        "df = pd.read_csv(url, sep=',')\n"
      ],
      "metadata": {
        "id": "Px4i0CQ38DId"
      },
      "execution_count": null,
      "outputs": []
    },
    {
      "cell_type": "markdown",
      "source": [
        "Step 2: Explore the Dataset's Structure\n",
        "Once the dataset is loaded, we need to understand its structure. Use the .head() method to view the first few rows:"
      ],
      "metadata": {
        "id": "XA-DKsfB7O5A"
      }
    },
    {
      "cell_type": "code",
      "source": [
        "df.head(n=10)"
      ],
      "metadata": {
        "colab": {
          "base_uri": "https://localhost:8080/",
          "height": 363
        },
        "id": "Fd8fJeKb8ELP",
        "outputId": "8e034a30-9f60-44d9-f369-246425451149"
      },
      "execution_count": null,
      "outputs": [
        {
          "output_type": "execute_result",
          "data": {
            "text/plain": [
              "       country continent  year  lifeExp       pop   gdpPercap\n",
              "0  Afghanistan      Asia  1952   28.801   8425333  779.445314\n",
              "1  Afghanistan      Asia  1957   30.332   9240934  820.853030\n",
              "2  Afghanistan      Asia  1962   31.997  10267083  853.100710\n",
              "3  Afghanistan      Asia  1967   34.020  11537966  836.197138\n",
              "4  Afghanistan      Asia  1972   36.088  13079460  739.981106\n",
              "5  Afghanistan      Asia  1977   38.438  14880372  786.113360\n",
              "6  Afghanistan      Asia  1982   39.854  12881816  978.011439\n",
              "7  Afghanistan      Asia  1987   40.822  13867957  852.395945\n",
              "8  Afghanistan      Asia  1992   41.674  16317921  649.341395\n",
              "9  Afghanistan      Asia  1997   41.763  22227415  635.341351"
            ],
            "text/html": [
              "\n",
              "  <div id=\"df-03f9c78a-7943-4851-b67b-edcdfa1c3ccd\" class=\"colab-df-container\">\n",
              "    <div>\n",
              "<style scoped>\n",
              "    .dataframe tbody tr th:only-of-type {\n",
              "        vertical-align: middle;\n",
              "    }\n",
              "\n",
              "    .dataframe tbody tr th {\n",
              "        vertical-align: top;\n",
              "    }\n",
              "\n",
              "    .dataframe thead th {\n",
              "        text-align: right;\n",
              "    }\n",
              "</style>\n",
              "<table border=\"1\" class=\"dataframe\">\n",
              "  <thead>\n",
              "    <tr style=\"text-align: right;\">\n",
              "      <th></th>\n",
              "      <th>country</th>\n",
              "      <th>continent</th>\n",
              "      <th>year</th>\n",
              "      <th>lifeExp</th>\n",
              "      <th>pop</th>\n",
              "      <th>gdpPercap</th>\n",
              "    </tr>\n",
              "  </thead>\n",
              "  <tbody>\n",
              "    <tr>\n",
              "      <th>0</th>\n",
              "      <td>Afghanistan</td>\n",
              "      <td>Asia</td>\n",
              "      <td>1952</td>\n",
              "      <td>28.801</td>\n",
              "      <td>8425333</td>\n",
              "      <td>779.445314</td>\n",
              "    </tr>\n",
              "    <tr>\n",
              "      <th>1</th>\n",
              "      <td>Afghanistan</td>\n",
              "      <td>Asia</td>\n",
              "      <td>1957</td>\n",
              "      <td>30.332</td>\n",
              "      <td>9240934</td>\n",
              "      <td>820.853030</td>\n",
              "    </tr>\n",
              "    <tr>\n",
              "      <th>2</th>\n",
              "      <td>Afghanistan</td>\n",
              "      <td>Asia</td>\n",
              "      <td>1962</td>\n",
              "      <td>31.997</td>\n",
              "      <td>10267083</td>\n",
              "      <td>853.100710</td>\n",
              "    </tr>\n",
              "    <tr>\n",
              "      <th>3</th>\n",
              "      <td>Afghanistan</td>\n",
              "      <td>Asia</td>\n",
              "      <td>1967</td>\n",
              "      <td>34.020</td>\n",
              "      <td>11537966</td>\n",
              "      <td>836.197138</td>\n",
              "    </tr>\n",
              "    <tr>\n",
              "      <th>4</th>\n",
              "      <td>Afghanistan</td>\n",
              "      <td>Asia</td>\n",
              "      <td>1972</td>\n",
              "      <td>36.088</td>\n",
              "      <td>13079460</td>\n",
              "      <td>739.981106</td>\n",
              "    </tr>\n",
              "    <tr>\n",
              "      <th>5</th>\n",
              "      <td>Afghanistan</td>\n",
              "      <td>Asia</td>\n",
              "      <td>1977</td>\n",
              "      <td>38.438</td>\n",
              "      <td>14880372</td>\n",
              "      <td>786.113360</td>\n",
              "    </tr>\n",
              "    <tr>\n",
              "      <th>6</th>\n",
              "      <td>Afghanistan</td>\n",
              "      <td>Asia</td>\n",
              "      <td>1982</td>\n",
              "      <td>39.854</td>\n",
              "      <td>12881816</td>\n",
              "      <td>978.011439</td>\n",
              "    </tr>\n",
              "    <tr>\n",
              "      <th>7</th>\n",
              "      <td>Afghanistan</td>\n",
              "      <td>Asia</td>\n",
              "      <td>1987</td>\n",
              "      <td>40.822</td>\n",
              "      <td>13867957</td>\n",
              "      <td>852.395945</td>\n",
              "    </tr>\n",
              "    <tr>\n",
              "      <th>8</th>\n",
              "      <td>Afghanistan</td>\n",
              "      <td>Asia</td>\n",
              "      <td>1992</td>\n",
              "      <td>41.674</td>\n",
              "      <td>16317921</td>\n",
              "      <td>649.341395</td>\n",
              "    </tr>\n",
              "    <tr>\n",
              "      <th>9</th>\n",
              "      <td>Afghanistan</td>\n",
              "      <td>Asia</td>\n",
              "      <td>1997</td>\n",
              "      <td>41.763</td>\n",
              "      <td>22227415</td>\n",
              "      <td>635.341351</td>\n",
              "    </tr>\n",
              "  </tbody>\n",
              "</table>\n",
              "</div>\n",
              "    <div class=\"colab-df-buttons\">\n",
              "\n",
              "  <div class=\"colab-df-container\">\n",
              "    <button class=\"colab-df-convert\" onclick=\"convertToInteractive('df-03f9c78a-7943-4851-b67b-edcdfa1c3ccd')\"\n",
              "            title=\"Convert this dataframe to an interactive table.\"\n",
              "            style=\"display:none;\">\n",
              "\n",
              "  <svg xmlns=\"http://www.w3.org/2000/svg\" height=\"24px\" viewBox=\"0 -960 960 960\">\n",
              "    <path d=\"M120-120v-720h720v720H120Zm60-500h600v-160H180v160Zm220 220h160v-160H400v160Zm0 220h160v-160H400v160ZM180-400h160v-160H180v160Zm440 0h160v-160H620v160ZM180-180h160v-160H180v160Zm440 0h160v-160H620v160Z\"/>\n",
              "  </svg>\n",
              "    </button>\n",
              "\n",
              "  <style>\n",
              "    .colab-df-container {\n",
              "      display:flex;\n",
              "      gap: 12px;\n",
              "    }\n",
              "\n",
              "    .colab-df-convert {\n",
              "      background-color: #E8F0FE;\n",
              "      border: none;\n",
              "      border-radius: 50%;\n",
              "      cursor: pointer;\n",
              "      display: none;\n",
              "      fill: #1967D2;\n",
              "      height: 32px;\n",
              "      padding: 0 0 0 0;\n",
              "      width: 32px;\n",
              "    }\n",
              "\n",
              "    .colab-df-convert:hover {\n",
              "      background-color: #E2EBFA;\n",
              "      box-shadow: 0px 1px 2px rgba(60, 64, 67, 0.3), 0px 1px 3px 1px rgba(60, 64, 67, 0.15);\n",
              "      fill: #174EA6;\n",
              "    }\n",
              "\n",
              "    .colab-df-buttons div {\n",
              "      margin-bottom: 4px;\n",
              "    }\n",
              "\n",
              "    [theme=dark] .colab-df-convert {\n",
              "      background-color: #3B4455;\n",
              "      fill: #D2E3FC;\n",
              "    }\n",
              "\n",
              "    [theme=dark] .colab-df-convert:hover {\n",
              "      background-color: #434B5C;\n",
              "      box-shadow: 0px 1px 3px 1px rgba(0, 0, 0, 0.15);\n",
              "      filter: drop-shadow(0px 1px 2px rgba(0, 0, 0, 0.3));\n",
              "      fill: #FFFFFF;\n",
              "    }\n",
              "  </style>\n",
              "\n",
              "    <script>\n",
              "      const buttonEl =\n",
              "        document.querySelector('#df-03f9c78a-7943-4851-b67b-edcdfa1c3ccd button.colab-df-convert');\n",
              "      buttonEl.style.display =\n",
              "        google.colab.kernel.accessAllowed ? 'block' : 'none';\n",
              "\n",
              "      async function convertToInteractive(key) {\n",
              "        const element = document.querySelector('#df-03f9c78a-7943-4851-b67b-edcdfa1c3ccd');\n",
              "        const dataTable =\n",
              "          await google.colab.kernel.invokeFunction('convertToInteractive',\n",
              "                                                    [key], {});\n",
              "        if (!dataTable) return;\n",
              "\n",
              "        const docLinkHtml = 'Like what you see? Visit the ' +\n",
              "          '<a target=\"_blank\" href=https://colab.research.google.com/notebooks/data_table.ipynb>data table notebook</a>'\n",
              "          + ' to learn more about interactive tables.';\n",
              "        element.innerHTML = '';\n",
              "        dataTable['output_type'] = 'display_data';\n",
              "        await google.colab.output.renderOutput(dataTable, element);\n",
              "        const docLink = document.createElement('div');\n",
              "        docLink.innerHTML = docLinkHtml;\n",
              "        element.appendChild(docLink);\n",
              "      }\n",
              "    </script>\n",
              "  </div>\n",
              "\n",
              "\n",
              "<div id=\"df-956e84a6-600b-4b4f-ab3d-228fcfa1e94c\">\n",
              "  <button class=\"colab-df-quickchart\" onclick=\"quickchart('df-956e84a6-600b-4b4f-ab3d-228fcfa1e94c')\"\n",
              "            title=\"Suggest charts\"\n",
              "            style=\"display:none;\">\n",
              "\n",
              "<svg xmlns=\"http://www.w3.org/2000/svg\" height=\"24px\"viewBox=\"0 0 24 24\"\n",
              "     width=\"24px\">\n",
              "    <g>\n",
              "        <path d=\"M19 3H5c-1.1 0-2 .9-2 2v14c0 1.1.9 2 2 2h14c1.1 0 2-.9 2-2V5c0-1.1-.9-2-2-2zM9 17H7v-7h2v7zm4 0h-2V7h2v10zm4 0h-2v-4h2v4z\"/>\n",
              "    </g>\n",
              "</svg>\n",
              "  </button>\n",
              "\n",
              "<style>\n",
              "  .colab-df-quickchart {\n",
              "      --bg-color: #E8F0FE;\n",
              "      --fill-color: #1967D2;\n",
              "      --hover-bg-color: #E2EBFA;\n",
              "      --hover-fill-color: #174EA6;\n",
              "      --disabled-fill-color: #AAA;\n",
              "      --disabled-bg-color: #DDD;\n",
              "  }\n",
              "\n",
              "  [theme=dark] .colab-df-quickchart {\n",
              "      --bg-color: #3B4455;\n",
              "      --fill-color: #D2E3FC;\n",
              "      --hover-bg-color: #434B5C;\n",
              "      --hover-fill-color: #FFFFFF;\n",
              "      --disabled-bg-color: #3B4455;\n",
              "      --disabled-fill-color: #666;\n",
              "  }\n",
              "\n",
              "  .colab-df-quickchart {\n",
              "    background-color: var(--bg-color);\n",
              "    border: none;\n",
              "    border-radius: 50%;\n",
              "    cursor: pointer;\n",
              "    display: none;\n",
              "    fill: var(--fill-color);\n",
              "    height: 32px;\n",
              "    padding: 0;\n",
              "    width: 32px;\n",
              "  }\n",
              "\n",
              "  .colab-df-quickchart:hover {\n",
              "    background-color: var(--hover-bg-color);\n",
              "    box-shadow: 0 1px 2px rgba(60, 64, 67, 0.3), 0 1px 3px 1px rgba(60, 64, 67, 0.15);\n",
              "    fill: var(--button-hover-fill-color);\n",
              "  }\n",
              "\n",
              "  .colab-df-quickchart-complete:disabled,\n",
              "  .colab-df-quickchart-complete:disabled:hover {\n",
              "    background-color: var(--disabled-bg-color);\n",
              "    fill: var(--disabled-fill-color);\n",
              "    box-shadow: none;\n",
              "  }\n",
              "\n",
              "  .colab-df-spinner {\n",
              "    border: 2px solid var(--fill-color);\n",
              "    border-color: transparent;\n",
              "    border-bottom-color: var(--fill-color);\n",
              "    animation:\n",
              "      spin 1s steps(1) infinite;\n",
              "  }\n",
              "\n",
              "  @keyframes spin {\n",
              "    0% {\n",
              "      border-color: transparent;\n",
              "      border-bottom-color: var(--fill-color);\n",
              "      border-left-color: var(--fill-color);\n",
              "    }\n",
              "    20% {\n",
              "      border-color: transparent;\n",
              "      border-left-color: var(--fill-color);\n",
              "      border-top-color: var(--fill-color);\n",
              "    }\n",
              "    30% {\n",
              "      border-color: transparent;\n",
              "      border-left-color: var(--fill-color);\n",
              "      border-top-color: var(--fill-color);\n",
              "      border-right-color: var(--fill-color);\n",
              "    }\n",
              "    40% {\n",
              "      border-color: transparent;\n",
              "      border-right-color: var(--fill-color);\n",
              "      border-top-color: var(--fill-color);\n",
              "    }\n",
              "    60% {\n",
              "      border-color: transparent;\n",
              "      border-right-color: var(--fill-color);\n",
              "    }\n",
              "    80% {\n",
              "      border-color: transparent;\n",
              "      border-right-color: var(--fill-color);\n",
              "      border-bottom-color: var(--fill-color);\n",
              "    }\n",
              "    90% {\n",
              "      border-color: transparent;\n",
              "      border-bottom-color: var(--fill-color);\n",
              "    }\n",
              "  }\n",
              "</style>\n",
              "\n",
              "  <script>\n",
              "    async function quickchart(key) {\n",
              "      const quickchartButtonEl =\n",
              "        document.querySelector('#' + key + ' button');\n",
              "      quickchartButtonEl.disabled = true;  // To prevent multiple clicks.\n",
              "      quickchartButtonEl.classList.add('colab-df-spinner');\n",
              "      try {\n",
              "        const charts = await google.colab.kernel.invokeFunction(\n",
              "            'suggestCharts', [key], {});\n",
              "      } catch (error) {\n",
              "        console.error('Error during call to suggestCharts:', error);\n",
              "      }\n",
              "      quickchartButtonEl.classList.remove('colab-df-spinner');\n",
              "      quickchartButtonEl.classList.add('colab-df-quickchart-complete');\n",
              "    }\n",
              "    (() => {\n",
              "      let quickchartButtonEl =\n",
              "        document.querySelector('#df-956e84a6-600b-4b4f-ab3d-228fcfa1e94c button');\n",
              "      quickchartButtonEl.style.display =\n",
              "        google.colab.kernel.accessAllowed ? 'block' : 'none';\n",
              "    })();\n",
              "  </script>\n",
              "</div>\n",
              "\n",
              "    </div>\n",
              "  </div>\n"
            ],
            "application/vnd.google.colaboratory.intrinsic+json": {
              "type": "dataframe",
              "variable_name": "df",
              "summary": "{\n  \"name\": \"df\",\n  \"rows\": 1704,\n  \"fields\": [\n    {\n      \"column\": \"country\",\n      \"properties\": {\n        \"dtype\": \"category\",\n        \"num_unique_values\": 142,\n        \"samples\": [\n          \"Turkey\",\n          \"Cameroon\",\n          \"Mauritius\"\n        ],\n        \"semantic_type\": \"\",\n        \"description\": \"\"\n      }\n    },\n    {\n      \"column\": \"continent\",\n      \"properties\": {\n        \"dtype\": \"category\",\n        \"num_unique_values\": 5,\n        \"samples\": [\n          \"Europe\",\n          \"Oceania\",\n          \"Africa\"\n        ],\n        \"semantic_type\": \"\",\n        \"description\": \"\"\n      }\n    },\n    {\n      \"column\": \"year\",\n      \"properties\": {\n        \"dtype\": \"number\",\n        \"std\": 17,\n        \"min\": 1952,\n        \"max\": 2007,\n        \"num_unique_values\": 12,\n        \"samples\": [\n          2002,\n          1997,\n          1952\n        ],\n        \"semantic_type\": \"\",\n        \"description\": \"\"\n      }\n    },\n    {\n      \"column\": \"lifeExp\",\n      \"properties\": {\n        \"dtype\": \"number\",\n        \"std\": 12.917107415241187,\n        \"min\": 23.599,\n        \"max\": 82.603,\n        \"num_unique_values\": 1626,\n        \"samples\": [\n          66.662,\n          51.445,\n          62.4\n        ],\n        \"semantic_type\": \"\",\n        \"description\": \"\"\n      }\n    },\n    {\n      \"column\": \"pop\",\n      \"properties\": {\n        \"dtype\": \"number\",\n        \"std\": 106157896,\n        \"min\": 60011,\n        \"max\": 1318683096,\n        \"num_unique_values\": 1704,\n        \"samples\": [\n          23634436,\n          2878220,\n          2156814\n        ],\n        \"semantic_type\": \"\",\n        \"description\": \"\"\n      }\n    },\n    {\n      \"column\": \"gdpPercap\",\n      \"properties\": {\n        \"dtype\": \"number\",\n        \"std\": 9857.454542541445,\n        \"min\": 241.1658765,\n        \"max\": 113523.1329,\n        \"num_unique_values\": 1704,\n        \"samples\": [\n          388.0,\n          5599.077872,\n          6650.195573\n        ],\n        \"semantic_type\": \"\",\n        \"description\": \"\"\n      }\n    }\n  ]\n}"
            }
          },
          "metadata": {},
          "execution_count": 6
        }
      ]
    },
    {
      "cell_type": "markdown",
      "source": [
        "Step 3: View the Column Names\n",
        "To see the column names, use the .columns attribute:"
      ],
      "metadata": {
        "id": "dlHSySPz7O2L"
      }
    },
    {
      "cell_type": "code",
      "source": [
        "df.columns"
      ],
      "metadata": {
        "colab": {
          "base_uri": "https://localhost:8080/",
          "height": 35
        },
        "id": "dRxrMwa38FEM",
        "outputId": "79940768-6903-478d-9d07-3fae7610f7eb"
      },
      "execution_count": null,
      "outputs": [
        {
          "output_type": "execute_result",
          "data": {
            "text/plain": [
              "'country'"
            ],
            "application/vnd.google.colaboratory.intrinsic+json": {
              "type": "string"
            }
          },
          "metadata": {},
          "execution_count": 10
        }
      ]
    },
    {
      "cell_type": "markdown",
      "source": [
        "Step 4: Determine the Dataset's Shape\n",
        "The shape of a DataFrame (rows and columns) is critical to understanding the dataset's size. Use the .shape attribute:"
      ],
      "metadata": {
        "id": "NKtlvVOY7OzC"
      }
    },
    {
      "cell_type": "code",
      "source": [
        "df.shape"
      ],
      "metadata": {
        "colab": {
          "base_uri": "https://localhost:8080/"
        },
        "id": "zqYp8ykP8FaW",
        "outputId": "3f042707-926f-4925-fb22-02c142f16eb0"
      },
      "execution_count": null,
      "outputs": [
        {
          "output_type": "execute_result",
          "data": {
            "text/plain": [
              "(1704, 6)"
            ]
          },
          "metadata": {},
          "execution_count": 11
        }
      ]
    },
    {
      "cell_type": "markdown",
      "source": [
        "Step 5: Check the Data Types\n",
        "Different columns may have different data types (e.g., integers, floats, strings). Use the .info() method to summarize the dataset, including column data types and non-null counts:"
      ],
      "metadata": {
        "id": "4j1wzwrR7Ov_"
      }
    },
    {
      "cell_type": "code",
      "source": [
        "df.info()"
      ],
      "metadata": {
        "colab": {
          "base_uri": "https://localhost:8080/"
        },
        "id": "cd1vq07C8F87",
        "outputId": "a996b9b5-3e12-478b-d8d0-62d9abd12f62"
      },
      "execution_count": null,
      "outputs": [
        {
          "output_type": "stream",
          "name": "stdout",
          "text": [
            "<class 'pandas.core.frame.DataFrame'>\n",
            "RangeIndex: 1704 entries, 0 to 1703\n",
            "Data columns (total 6 columns):\n",
            " #   Column     Non-Null Count  Dtype  \n",
            "---  ------     --------------  -----  \n",
            " 0   country    1704 non-null   object \n",
            " 1   continent  1704 non-null   object \n",
            " 2   year       1704 non-null   int64  \n",
            " 3   lifeExp    1704 non-null   float64\n",
            " 4   pop        1704 non-null   int64  \n",
            " 5   gdpPercap  1704 non-null   float64\n",
            "dtypes: float64(2), int64(2), object(2)\n",
            "memory usage: 80.0+ KB\n"
          ]
        }
      ]
    },
    {
      "cell_type": "markdown",
      "source": [
        "Step 6: Perform Initial Exploratory Analysis\n",
        "For numerical columns, calculate basic statistics using the .describe() method:"
      ],
      "metadata": {
        "id": "_czUpgES7Osu"
      }
    },
    {
      "cell_type": "code",
      "source": [
        "df.describe()"
      ],
      "metadata": {
        "colab": {
          "base_uri": "https://localhost:8080/",
          "height": 300
        },
        "id": "68HL4b5z8GWs",
        "outputId": "9ea86676-8345-4e6e-ddf2-d58d90837bf6"
      },
      "execution_count": null,
      "outputs": [
        {
          "output_type": "execute_result",
          "data": {
            "text/plain": [
              "             year      lifeExp           pop      gdpPercap\n",
              "count  1704.00000  1704.000000  1.704000e+03    1704.000000\n",
              "mean   1979.50000    59.474439  2.960121e+07    7215.327081\n",
              "std      17.26533    12.917107  1.061579e+08    9857.454543\n",
              "min    1952.00000    23.599000  6.001100e+04     241.165876\n",
              "25%    1965.75000    48.198000  2.793664e+06    1202.060309\n",
              "50%    1979.50000    60.712500  7.023596e+06    3531.846988\n",
              "75%    1993.25000    70.845500  1.958522e+07    9325.462346\n",
              "max    2007.00000    82.603000  1.318683e+09  113523.132900"
            ],
            "text/html": [
              "\n",
              "  <div id=\"df-d8fdee64-3a4a-4d71-88d7-11df959b0c1f\" class=\"colab-df-container\">\n",
              "    <div>\n",
              "<style scoped>\n",
              "    .dataframe tbody tr th:only-of-type {\n",
              "        vertical-align: middle;\n",
              "    }\n",
              "\n",
              "    .dataframe tbody tr th {\n",
              "        vertical-align: top;\n",
              "    }\n",
              "\n",
              "    .dataframe thead th {\n",
              "        text-align: right;\n",
              "    }\n",
              "</style>\n",
              "<table border=\"1\" class=\"dataframe\">\n",
              "  <thead>\n",
              "    <tr style=\"text-align: right;\">\n",
              "      <th></th>\n",
              "      <th>year</th>\n",
              "      <th>lifeExp</th>\n",
              "      <th>pop</th>\n",
              "      <th>gdpPercap</th>\n",
              "    </tr>\n",
              "  </thead>\n",
              "  <tbody>\n",
              "    <tr>\n",
              "      <th>count</th>\n",
              "      <td>1704.00000</td>\n",
              "      <td>1704.000000</td>\n",
              "      <td>1.704000e+03</td>\n",
              "      <td>1704.000000</td>\n",
              "    </tr>\n",
              "    <tr>\n",
              "      <th>mean</th>\n",
              "      <td>1979.50000</td>\n",
              "      <td>59.474439</td>\n",
              "      <td>2.960121e+07</td>\n",
              "      <td>7215.327081</td>\n",
              "    </tr>\n",
              "    <tr>\n",
              "      <th>std</th>\n",
              "      <td>17.26533</td>\n",
              "      <td>12.917107</td>\n",
              "      <td>1.061579e+08</td>\n",
              "      <td>9857.454543</td>\n",
              "    </tr>\n",
              "    <tr>\n",
              "      <th>min</th>\n",
              "      <td>1952.00000</td>\n",
              "      <td>23.599000</td>\n",
              "      <td>6.001100e+04</td>\n",
              "      <td>241.165876</td>\n",
              "    </tr>\n",
              "    <tr>\n",
              "      <th>25%</th>\n",
              "      <td>1965.75000</td>\n",
              "      <td>48.198000</td>\n",
              "      <td>2.793664e+06</td>\n",
              "      <td>1202.060309</td>\n",
              "    </tr>\n",
              "    <tr>\n",
              "      <th>50%</th>\n",
              "      <td>1979.50000</td>\n",
              "      <td>60.712500</td>\n",
              "      <td>7.023596e+06</td>\n",
              "      <td>3531.846988</td>\n",
              "    </tr>\n",
              "    <tr>\n",
              "      <th>75%</th>\n",
              "      <td>1993.25000</td>\n",
              "      <td>70.845500</td>\n",
              "      <td>1.958522e+07</td>\n",
              "      <td>9325.462346</td>\n",
              "    </tr>\n",
              "    <tr>\n",
              "      <th>max</th>\n",
              "      <td>2007.00000</td>\n",
              "      <td>82.603000</td>\n",
              "      <td>1.318683e+09</td>\n",
              "      <td>113523.132900</td>\n",
              "    </tr>\n",
              "  </tbody>\n",
              "</table>\n",
              "</div>\n",
              "    <div class=\"colab-df-buttons\">\n",
              "\n",
              "  <div class=\"colab-df-container\">\n",
              "    <button class=\"colab-df-convert\" onclick=\"convertToInteractive('df-d8fdee64-3a4a-4d71-88d7-11df959b0c1f')\"\n",
              "            title=\"Convert this dataframe to an interactive table.\"\n",
              "            style=\"display:none;\">\n",
              "\n",
              "  <svg xmlns=\"http://www.w3.org/2000/svg\" height=\"24px\" viewBox=\"0 -960 960 960\">\n",
              "    <path d=\"M120-120v-720h720v720H120Zm60-500h600v-160H180v160Zm220 220h160v-160H400v160Zm0 220h160v-160H400v160ZM180-400h160v-160H180v160Zm440 0h160v-160H620v160ZM180-180h160v-160H180v160Zm440 0h160v-160H620v160Z\"/>\n",
              "  </svg>\n",
              "    </button>\n",
              "\n",
              "  <style>\n",
              "    .colab-df-container {\n",
              "      display:flex;\n",
              "      gap: 12px;\n",
              "    }\n",
              "\n",
              "    .colab-df-convert {\n",
              "      background-color: #E8F0FE;\n",
              "      border: none;\n",
              "      border-radius: 50%;\n",
              "      cursor: pointer;\n",
              "      display: none;\n",
              "      fill: #1967D2;\n",
              "      height: 32px;\n",
              "      padding: 0 0 0 0;\n",
              "      width: 32px;\n",
              "    }\n",
              "\n",
              "    .colab-df-convert:hover {\n",
              "      background-color: #E2EBFA;\n",
              "      box-shadow: 0px 1px 2px rgba(60, 64, 67, 0.3), 0px 1px 3px 1px rgba(60, 64, 67, 0.15);\n",
              "      fill: #174EA6;\n",
              "    }\n",
              "\n",
              "    .colab-df-buttons div {\n",
              "      margin-bottom: 4px;\n",
              "    }\n",
              "\n",
              "    [theme=dark] .colab-df-convert {\n",
              "      background-color: #3B4455;\n",
              "      fill: #D2E3FC;\n",
              "    }\n",
              "\n",
              "    [theme=dark] .colab-df-convert:hover {\n",
              "      background-color: #434B5C;\n",
              "      box-shadow: 0px 1px 3px 1px rgba(0, 0, 0, 0.15);\n",
              "      filter: drop-shadow(0px 1px 2px rgba(0, 0, 0, 0.3));\n",
              "      fill: #FFFFFF;\n",
              "    }\n",
              "  </style>\n",
              "\n",
              "    <script>\n",
              "      const buttonEl =\n",
              "        document.querySelector('#df-d8fdee64-3a4a-4d71-88d7-11df959b0c1f button.colab-df-convert');\n",
              "      buttonEl.style.display =\n",
              "        google.colab.kernel.accessAllowed ? 'block' : 'none';\n",
              "\n",
              "      async function convertToInteractive(key) {\n",
              "        const element = document.querySelector('#df-d8fdee64-3a4a-4d71-88d7-11df959b0c1f');\n",
              "        const dataTable =\n",
              "          await google.colab.kernel.invokeFunction('convertToInteractive',\n",
              "                                                    [key], {});\n",
              "        if (!dataTable) return;\n",
              "\n",
              "        const docLinkHtml = 'Like what you see? Visit the ' +\n",
              "          '<a target=\"_blank\" href=https://colab.research.google.com/notebooks/data_table.ipynb>data table notebook</a>'\n",
              "          + ' to learn more about interactive tables.';\n",
              "        element.innerHTML = '';\n",
              "        dataTable['output_type'] = 'display_data';\n",
              "        await google.colab.output.renderOutput(dataTable, element);\n",
              "        const docLink = document.createElement('div');\n",
              "        docLink.innerHTML = docLinkHtml;\n",
              "        element.appendChild(docLink);\n",
              "      }\n",
              "    </script>\n",
              "  </div>\n",
              "\n",
              "\n",
              "<div id=\"df-36b13c68-8101-4881-8aaf-8aef1df5b0fd\">\n",
              "  <button class=\"colab-df-quickchart\" onclick=\"quickchart('df-36b13c68-8101-4881-8aaf-8aef1df5b0fd')\"\n",
              "            title=\"Suggest charts\"\n",
              "            style=\"display:none;\">\n",
              "\n",
              "<svg xmlns=\"http://www.w3.org/2000/svg\" height=\"24px\"viewBox=\"0 0 24 24\"\n",
              "     width=\"24px\">\n",
              "    <g>\n",
              "        <path d=\"M19 3H5c-1.1 0-2 .9-2 2v14c0 1.1.9 2 2 2h14c1.1 0 2-.9 2-2V5c0-1.1-.9-2-2-2zM9 17H7v-7h2v7zm4 0h-2V7h2v10zm4 0h-2v-4h2v4z\"/>\n",
              "    </g>\n",
              "</svg>\n",
              "  </button>\n",
              "\n",
              "<style>\n",
              "  .colab-df-quickchart {\n",
              "      --bg-color: #E8F0FE;\n",
              "      --fill-color: #1967D2;\n",
              "      --hover-bg-color: #E2EBFA;\n",
              "      --hover-fill-color: #174EA6;\n",
              "      --disabled-fill-color: #AAA;\n",
              "      --disabled-bg-color: #DDD;\n",
              "  }\n",
              "\n",
              "  [theme=dark] .colab-df-quickchart {\n",
              "      --bg-color: #3B4455;\n",
              "      --fill-color: #D2E3FC;\n",
              "      --hover-bg-color: #434B5C;\n",
              "      --hover-fill-color: #FFFFFF;\n",
              "      --disabled-bg-color: #3B4455;\n",
              "      --disabled-fill-color: #666;\n",
              "  }\n",
              "\n",
              "  .colab-df-quickchart {\n",
              "    background-color: var(--bg-color);\n",
              "    border: none;\n",
              "    border-radius: 50%;\n",
              "    cursor: pointer;\n",
              "    display: none;\n",
              "    fill: var(--fill-color);\n",
              "    height: 32px;\n",
              "    padding: 0;\n",
              "    width: 32px;\n",
              "  }\n",
              "\n",
              "  .colab-df-quickchart:hover {\n",
              "    background-color: var(--hover-bg-color);\n",
              "    box-shadow: 0 1px 2px rgba(60, 64, 67, 0.3), 0 1px 3px 1px rgba(60, 64, 67, 0.15);\n",
              "    fill: var(--button-hover-fill-color);\n",
              "  }\n",
              "\n",
              "  .colab-df-quickchart-complete:disabled,\n",
              "  .colab-df-quickchart-complete:disabled:hover {\n",
              "    background-color: var(--disabled-bg-color);\n",
              "    fill: var(--disabled-fill-color);\n",
              "    box-shadow: none;\n",
              "  }\n",
              "\n",
              "  .colab-df-spinner {\n",
              "    border: 2px solid var(--fill-color);\n",
              "    border-color: transparent;\n",
              "    border-bottom-color: var(--fill-color);\n",
              "    animation:\n",
              "      spin 1s steps(1) infinite;\n",
              "  }\n",
              "\n",
              "  @keyframes spin {\n",
              "    0% {\n",
              "      border-color: transparent;\n",
              "      border-bottom-color: var(--fill-color);\n",
              "      border-left-color: var(--fill-color);\n",
              "    }\n",
              "    20% {\n",
              "      border-color: transparent;\n",
              "      border-left-color: var(--fill-color);\n",
              "      border-top-color: var(--fill-color);\n",
              "    }\n",
              "    30% {\n",
              "      border-color: transparent;\n",
              "      border-left-color: var(--fill-color);\n",
              "      border-top-color: var(--fill-color);\n",
              "      border-right-color: var(--fill-color);\n",
              "    }\n",
              "    40% {\n",
              "      border-color: transparent;\n",
              "      border-right-color: var(--fill-color);\n",
              "      border-top-color: var(--fill-color);\n",
              "    }\n",
              "    60% {\n",
              "      border-color: transparent;\n",
              "      border-right-color: var(--fill-color);\n",
              "    }\n",
              "    80% {\n",
              "      border-color: transparent;\n",
              "      border-right-color: var(--fill-color);\n",
              "      border-bottom-color: var(--fill-color);\n",
              "    }\n",
              "    90% {\n",
              "      border-color: transparent;\n",
              "      border-bottom-color: var(--fill-color);\n",
              "    }\n",
              "  }\n",
              "</style>\n",
              "\n",
              "  <script>\n",
              "    async function quickchart(key) {\n",
              "      const quickchartButtonEl =\n",
              "        document.querySelector('#' + key + ' button');\n",
              "      quickchartButtonEl.disabled = true;  // To prevent multiple clicks.\n",
              "      quickchartButtonEl.classList.add('colab-df-spinner');\n",
              "      try {\n",
              "        const charts = await google.colab.kernel.invokeFunction(\n",
              "            'suggestCharts', [key], {});\n",
              "      } catch (error) {\n",
              "        console.error('Error during call to suggestCharts:', error);\n",
              "      }\n",
              "      quickchartButtonEl.classList.remove('colab-df-spinner');\n",
              "      quickchartButtonEl.classList.add('colab-df-quickchart-complete');\n",
              "    }\n",
              "    (() => {\n",
              "      let quickchartButtonEl =\n",
              "        document.querySelector('#df-36b13c68-8101-4881-8aaf-8aef1df5b0fd button');\n",
              "      quickchartButtonEl.style.display =\n",
              "        google.colab.kernel.accessAllowed ? 'block' : 'none';\n",
              "    })();\n",
              "  </script>\n",
              "</div>\n",
              "\n",
              "    </div>\n",
              "  </div>\n"
            ],
            "application/vnd.google.colaboratory.intrinsic+json": {
              "type": "dataframe",
              "summary": "{\n  \"name\": \"df\",\n  \"rows\": 8,\n  \"fields\": [\n    {\n      \"column\": \"year\",\n      \"properties\": {\n        \"dtype\": \"number\",\n        \"std\": 686.837859857699,\n        \"min\": 17.265329508973615,\n        \"max\": 2007.0,\n        \"num_unique_values\": 7,\n        \"samples\": [\n          1704.0,\n          1979.5,\n          1993.25\n        ],\n        \"semantic_type\": \"\",\n        \"description\": \"\"\n      }\n    },\n    {\n      \"column\": \"lifeExp\",\n      \"properties\": {\n        \"dtype\": \"number\",\n        \"std\": 584.815924898437,\n        \"min\": 12.917107415241187,\n        \"max\": 1704.0,\n        \"num_unique_values\": 8,\n        \"samples\": [\n          59.474439366197174,\n          60.7125,\n          1704.0\n        ],\n        \"semantic_type\": \"\",\n        \"description\": \"\"\n      }\n    },\n    {\n      \"column\": \"pop\",\n      \"properties\": {\n        \"dtype\": \"number\",\n        \"std\": 459232944.69794166,\n        \"min\": 1704.0,\n        \"max\": 1318683096.0,\n        \"num_unique_values\": 8,\n        \"samples\": [\n          29601212.324530516,\n          7023595.5,\n          1704.0\n        ],\n        \"semantic_type\": \"\",\n        \"description\": \"\"\n      }\n    },\n    {\n      \"column\": \"gdpPercap\",\n      \"properties\": {\n        \"dtype\": \"number\",\n        \"std\": 38645.11701056914,\n        \"min\": 241.1658765,\n        \"max\": 113523.1329,\n        \"num_unique_values\": 8,\n        \"samples\": [\n          7215.327081212149,\n          3531.8469885,\n          1704.0\n        ],\n        \"semantic_type\": \"\",\n        \"description\": \"\"\n      }\n    }\n  ]\n}"
            }
          },
          "metadata": {},
          "execution_count": 13
        }
      ]
    },
    {
      "cell_type": "code",
      "source": [
        "# prompt: I need a table showing the range of each numeric column of df\n",
        "\n",
        "import pandas as pd\n",
        "\n",
        "url = 'https://raw.githubusercontent.com/kirenz/datasets/master/gapminder.csv'\n",
        "df = pd.read_csv(url, sep=',')\n",
        "\n",
        "# Select only numeric columns\n",
        "numeric_df = df.select_dtypes(include=['number'])\n",
        "\n",
        "# Create an empty list to store the results\n",
        "ranges = []\n",
        "\n",
        "# Iterate through each numeric column\n",
        "for col in numeric_df.columns:\n",
        "    min_val = numeric_df[col].min()\n",
        "    max_val = numeric_df[col].max()\n",
        "    ranges.append([col, min_val, max_val])\n",
        "\n",
        "# Create a DataFrame from the list of ranges\n",
        "range_df = pd.DataFrame(ranges, columns=['Column', 'Min', 'Max'])\n",
        "\n",
        "# Display the table\n",
        "range_df"
      ],
      "metadata": {
        "colab": {
          "base_uri": "https://localhost:8080/",
          "height": 174
        },
        "id": "AmbW4aEKE2iy",
        "outputId": "81441b33-6abc-4f82-d3e4-fb7f9200b620"
      },
      "execution_count": null,
      "outputs": [
        {
          "output_type": "execute_result",
          "data": {
            "text/plain": [
              "      Column           Min           Max\n",
              "0       year   1952.000000  2.007000e+03\n",
              "1    lifeExp     23.599000  8.260300e+01\n",
              "2        pop  60011.000000  1.318683e+09\n",
              "3  gdpPercap    241.165876  1.135231e+05"
            ],
            "text/html": [
              "\n",
              "  <div id=\"df-3976f225-a0ba-48d4-b030-600f027232e8\" class=\"colab-df-container\">\n",
              "    <div>\n",
              "<style scoped>\n",
              "    .dataframe tbody tr th:only-of-type {\n",
              "        vertical-align: middle;\n",
              "    }\n",
              "\n",
              "    .dataframe tbody tr th {\n",
              "        vertical-align: top;\n",
              "    }\n",
              "\n",
              "    .dataframe thead th {\n",
              "        text-align: right;\n",
              "    }\n",
              "</style>\n",
              "<table border=\"1\" class=\"dataframe\">\n",
              "  <thead>\n",
              "    <tr style=\"text-align: right;\">\n",
              "      <th></th>\n",
              "      <th>Column</th>\n",
              "      <th>Min</th>\n",
              "      <th>Max</th>\n",
              "    </tr>\n",
              "  </thead>\n",
              "  <tbody>\n",
              "    <tr>\n",
              "      <th>0</th>\n",
              "      <td>year</td>\n",
              "      <td>1952.000000</td>\n",
              "      <td>2.007000e+03</td>\n",
              "    </tr>\n",
              "    <tr>\n",
              "      <th>1</th>\n",
              "      <td>lifeExp</td>\n",
              "      <td>23.599000</td>\n",
              "      <td>8.260300e+01</td>\n",
              "    </tr>\n",
              "    <tr>\n",
              "      <th>2</th>\n",
              "      <td>pop</td>\n",
              "      <td>60011.000000</td>\n",
              "      <td>1.318683e+09</td>\n",
              "    </tr>\n",
              "    <tr>\n",
              "      <th>3</th>\n",
              "      <td>gdpPercap</td>\n",
              "      <td>241.165876</td>\n",
              "      <td>1.135231e+05</td>\n",
              "    </tr>\n",
              "  </tbody>\n",
              "</table>\n",
              "</div>\n",
              "    <div class=\"colab-df-buttons\">\n",
              "\n",
              "  <div class=\"colab-df-container\">\n",
              "    <button class=\"colab-df-convert\" onclick=\"convertToInteractive('df-3976f225-a0ba-48d4-b030-600f027232e8')\"\n",
              "            title=\"Convert this dataframe to an interactive table.\"\n",
              "            style=\"display:none;\">\n",
              "\n",
              "  <svg xmlns=\"http://www.w3.org/2000/svg\" height=\"24px\" viewBox=\"0 -960 960 960\">\n",
              "    <path d=\"M120-120v-720h720v720H120Zm60-500h600v-160H180v160Zm220 220h160v-160H400v160Zm0 220h160v-160H400v160ZM180-400h160v-160H180v160Zm440 0h160v-160H620v160ZM180-180h160v-160H180v160Zm440 0h160v-160H620v160Z\"/>\n",
              "  </svg>\n",
              "    </button>\n",
              "\n",
              "  <style>\n",
              "    .colab-df-container {\n",
              "      display:flex;\n",
              "      gap: 12px;\n",
              "    }\n",
              "\n",
              "    .colab-df-convert {\n",
              "      background-color: #E8F0FE;\n",
              "      border: none;\n",
              "      border-radius: 50%;\n",
              "      cursor: pointer;\n",
              "      display: none;\n",
              "      fill: #1967D2;\n",
              "      height: 32px;\n",
              "      padding: 0 0 0 0;\n",
              "      width: 32px;\n",
              "    }\n",
              "\n",
              "    .colab-df-convert:hover {\n",
              "      background-color: #E2EBFA;\n",
              "      box-shadow: 0px 1px 2px rgba(60, 64, 67, 0.3), 0px 1px 3px 1px rgba(60, 64, 67, 0.15);\n",
              "      fill: #174EA6;\n",
              "    }\n",
              "\n",
              "    .colab-df-buttons div {\n",
              "      margin-bottom: 4px;\n",
              "    }\n",
              "\n",
              "    [theme=dark] .colab-df-convert {\n",
              "      background-color: #3B4455;\n",
              "      fill: #D2E3FC;\n",
              "    }\n",
              "\n",
              "    [theme=dark] .colab-df-convert:hover {\n",
              "      background-color: #434B5C;\n",
              "      box-shadow: 0px 1px 3px 1px rgba(0, 0, 0, 0.15);\n",
              "      filter: drop-shadow(0px 1px 2px rgba(0, 0, 0, 0.3));\n",
              "      fill: #FFFFFF;\n",
              "    }\n",
              "  </style>\n",
              "\n",
              "    <script>\n",
              "      const buttonEl =\n",
              "        document.querySelector('#df-3976f225-a0ba-48d4-b030-600f027232e8 button.colab-df-convert');\n",
              "      buttonEl.style.display =\n",
              "        google.colab.kernel.accessAllowed ? 'block' : 'none';\n",
              "\n",
              "      async function convertToInteractive(key) {\n",
              "        const element = document.querySelector('#df-3976f225-a0ba-48d4-b030-600f027232e8');\n",
              "        const dataTable =\n",
              "          await google.colab.kernel.invokeFunction('convertToInteractive',\n",
              "                                                    [key], {});\n",
              "        if (!dataTable) return;\n",
              "\n",
              "        const docLinkHtml = 'Like what you see? Visit the ' +\n",
              "          '<a target=\"_blank\" href=https://colab.research.google.com/notebooks/data_table.ipynb>data table notebook</a>'\n",
              "          + ' to learn more about interactive tables.';\n",
              "        element.innerHTML = '';\n",
              "        dataTable['output_type'] = 'display_data';\n",
              "        await google.colab.output.renderOutput(dataTable, element);\n",
              "        const docLink = document.createElement('div');\n",
              "        docLink.innerHTML = docLinkHtml;\n",
              "        element.appendChild(docLink);\n",
              "      }\n",
              "    </script>\n",
              "  </div>\n",
              "\n",
              "\n",
              "<div id=\"df-9686d33b-27a6-4117-9707-504094dde293\">\n",
              "  <button class=\"colab-df-quickchart\" onclick=\"quickchart('df-9686d33b-27a6-4117-9707-504094dde293')\"\n",
              "            title=\"Suggest charts\"\n",
              "            style=\"display:none;\">\n",
              "\n",
              "<svg xmlns=\"http://www.w3.org/2000/svg\" height=\"24px\"viewBox=\"0 0 24 24\"\n",
              "     width=\"24px\">\n",
              "    <g>\n",
              "        <path d=\"M19 3H5c-1.1 0-2 .9-2 2v14c0 1.1.9 2 2 2h14c1.1 0 2-.9 2-2V5c0-1.1-.9-2-2-2zM9 17H7v-7h2v7zm4 0h-2V7h2v10zm4 0h-2v-4h2v4z\"/>\n",
              "    </g>\n",
              "</svg>\n",
              "  </button>\n",
              "\n",
              "<style>\n",
              "  .colab-df-quickchart {\n",
              "      --bg-color: #E8F0FE;\n",
              "      --fill-color: #1967D2;\n",
              "      --hover-bg-color: #E2EBFA;\n",
              "      --hover-fill-color: #174EA6;\n",
              "      --disabled-fill-color: #AAA;\n",
              "      --disabled-bg-color: #DDD;\n",
              "  }\n",
              "\n",
              "  [theme=dark] .colab-df-quickchart {\n",
              "      --bg-color: #3B4455;\n",
              "      --fill-color: #D2E3FC;\n",
              "      --hover-bg-color: #434B5C;\n",
              "      --hover-fill-color: #FFFFFF;\n",
              "      --disabled-bg-color: #3B4455;\n",
              "      --disabled-fill-color: #666;\n",
              "  }\n",
              "\n",
              "  .colab-df-quickchart {\n",
              "    background-color: var(--bg-color);\n",
              "    border: none;\n",
              "    border-radius: 50%;\n",
              "    cursor: pointer;\n",
              "    display: none;\n",
              "    fill: var(--fill-color);\n",
              "    height: 32px;\n",
              "    padding: 0;\n",
              "    width: 32px;\n",
              "  }\n",
              "\n",
              "  .colab-df-quickchart:hover {\n",
              "    background-color: var(--hover-bg-color);\n",
              "    box-shadow: 0 1px 2px rgba(60, 64, 67, 0.3), 0 1px 3px 1px rgba(60, 64, 67, 0.15);\n",
              "    fill: var(--button-hover-fill-color);\n",
              "  }\n",
              "\n",
              "  .colab-df-quickchart-complete:disabled,\n",
              "  .colab-df-quickchart-complete:disabled:hover {\n",
              "    background-color: var(--disabled-bg-color);\n",
              "    fill: var(--disabled-fill-color);\n",
              "    box-shadow: none;\n",
              "  }\n",
              "\n",
              "  .colab-df-spinner {\n",
              "    border: 2px solid var(--fill-color);\n",
              "    border-color: transparent;\n",
              "    border-bottom-color: var(--fill-color);\n",
              "    animation:\n",
              "      spin 1s steps(1) infinite;\n",
              "  }\n",
              "\n",
              "  @keyframes spin {\n",
              "    0% {\n",
              "      border-color: transparent;\n",
              "      border-bottom-color: var(--fill-color);\n",
              "      border-left-color: var(--fill-color);\n",
              "    }\n",
              "    20% {\n",
              "      border-color: transparent;\n",
              "      border-left-color: var(--fill-color);\n",
              "      border-top-color: var(--fill-color);\n",
              "    }\n",
              "    30% {\n",
              "      border-color: transparent;\n",
              "      border-left-color: var(--fill-color);\n",
              "      border-top-color: var(--fill-color);\n",
              "      border-right-color: var(--fill-color);\n",
              "    }\n",
              "    40% {\n",
              "      border-color: transparent;\n",
              "      border-right-color: var(--fill-color);\n",
              "      border-top-color: var(--fill-color);\n",
              "    }\n",
              "    60% {\n",
              "      border-color: transparent;\n",
              "      border-right-color: var(--fill-color);\n",
              "    }\n",
              "    80% {\n",
              "      border-color: transparent;\n",
              "      border-right-color: var(--fill-color);\n",
              "      border-bottom-color: var(--fill-color);\n",
              "    }\n",
              "    90% {\n",
              "      border-color: transparent;\n",
              "      border-bottom-color: var(--fill-color);\n",
              "    }\n",
              "  }\n",
              "</style>\n",
              "\n",
              "  <script>\n",
              "    async function quickchart(key) {\n",
              "      const quickchartButtonEl =\n",
              "        document.querySelector('#' + key + ' button');\n",
              "      quickchartButtonEl.disabled = true;  // To prevent multiple clicks.\n",
              "      quickchartButtonEl.classList.add('colab-df-spinner');\n",
              "      try {\n",
              "        const charts = await google.colab.kernel.invokeFunction(\n",
              "            'suggestCharts', [key], {});\n",
              "      } catch (error) {\n",
              "        console.error('Error during call to suggestCharts:', error);\n",
              "      }\n",
              "      quickchartButtonEl.classList.remove('colab-df-spinner');\n",
              "      quickchartButtonEl.classList.add('colab-df-quickchart-complete');\n",
              "    }\n",
              "    (() => {\n",
              "      let quickchartButtonEl =\n",
              "        document.querySelector('#df-9686d33b-27a6-4117-9707-504094dde293 button');\n",
              "      quickchartButtonEl.style.display =\n",
              "        google.colab.kernel.accessAllowed ? 'block' : 'none';\n",
              "    })();\n",
              "  </script>\n",
              "</div>\n",
              "\n",
              "  <div id=\"id_f0647254-afcc-4e8d-844f-f9c7ce8c3ba2\">\n",
              "    <style>\n",
              "      .colab-df-generate {\n",
              "        background-color: #E8F0FE;\n",
              "        border: none;\n",
              "        border-radius: 50%;\n",
              "        cursor: pointer;\n",
              "        display: none;\n",
              "        fill: #1967D2;\n",
              "        height: 32px;\n",
              "        padding: 0 0 0 0;\n",
              "        width: 32px;\n",
              "      }\n",
              "\n",
              "      .colab-df-generate:hover {\n",
              "        background-color: #E2EBFA;\n",
              "        box-shadow: 0px 1px 2px rgba(60, 64, 67, 0.3), 0px 1px 3px 1px rgba(60, 64, 67, 0.15);\n",
              "        fill: #174EA6;\n",
              "      }\n",
              "\n",
              "      [theme=dark] .colab-df-generate {\n",
              "        background-color: #3B4455;\n",
              "        fill: #D2E3FC;\n",
              "      }\n",
              "\n",
              "      [theme=dark] .colab-df-generate:hover {\n",
              "        background-color: #434B5C;\n",
              "        box-shadow: 0px 1px 3px 1px rgba(0, 0, 0, 0.15);\n",
              "        filter: drop-shadow(0px 1px 2px rgba(0, 0, 0, 0.3));\n",
              "        fill: #FFFFFF;\n",
              "      }\n",
              "    </style>\n",
              "    <button class=\"colab-df-generate\" onclick=\"generateWithVariable('range_df')\"\n",
              "            title=\"Generate code using this dataframe.\"\n",
              "            style=\"display:none;\">\n",
              "\n",
              "  <svg xmlns=\"http://www.w3.org/2000/svg\" height=\"24px\"viewBox=\"0 0 24 24\"\n",
              "       width=\"24px\">\n",
              "    <path d=\"M7,19H8.4L18.45,9,17,7.55,7,17.6ZM5,21V16.75L18.45,3.32a2,2,0,0,1,2.83,0l1.4,1.43a1.91,1.91,0,0,1,.58,1.4,1.91,1.91,0,0,1-.58,1.4L9.25,21ZM18.45,9,17,7.55Zm-12,3A5.31,5.31,0,0,0,4.9,8.1,5.31,5.31,0,0,0,1,6.5,5.31,5.31,0,0,0,4.9,4.9,5.31,5.31,0,0,0,6.5,1,5.31,5.31,0,0,0,8.1,4.9,5.31,5.31,0,0,0,12,6.5,5.46,5.46,0,0,0,6.5,12Z\"/>\n",
              "  </svg>\n",
              "    </button>\n",
              "    <script>\n",
              "      (() => {\n",
              "      const buttonEl =\n",
              "        document.querySelector('#id_f0647254-afcc-4e8d-844f-f9c7ce8c3ba2 button.colab-df-generate');\n",
              "      buttonEl.style.display =\n",
              "        google.colab.kernel.accessAllowed ? 'block' : 'none';\n",
              "\n",
              "      buttonEl.onclick = () => {\n",
              "        google.colab.notebook.generateWithVariable('range_df');\n",
              "      }\n",
              "      })();\n",
              "    </script>\n",
              "  </div>\n",
              "\n",
              "    </div>\n",
              "  </div>\n"
            ],
            "application/vnd.google.colaboratory.intrinsic+json": {
              "type": "dataframe",
              "variable_name": "range_df",
              "summary": "{\n  \"name\": \"range_df\",\n  \"rows\": 4,\n  \"fields\": [\n    {\n      \"column\": \"Column\",\n      \"properties\": {\n        \"dtype\": \"string\",\n        \"num_unique_values\": 4,\n        \"samples\": [\n          \"lifeExp\",\n          \"gdpPercap\",\n          \"year\"\n        ],\n        \"semantic_type\": \"\",\n        \"description\": \"\"\n      }\n    },\n    {\n      \"column\": \"Min\",\n      \"properties\": {\n        \"dtype\": \"number\",\n        \"std\": 29648.583229285156,\n        \"min\": 23.599,\n        \"max\": 60011.0,\n        \"num_unique_values\": 4,\n        \"samples\": [\n          23.599,\n          241.1658765,\n          1952.0\n        ],\n        \"semantic_type\": \"\",\n        \"description\": \"\"\n      }\n    },\n    {\n      \"column\": \"Max\",\n      \"properties\": {\n        \"dtype\": \"number\",\n        \"std\": 659322281.3432018,\n        \"min\": 82.603,\n        \"max\": 1318683096.0,\n        \"num_unique_values\": 4,\n        \"samples\": [\n          82.603,\n          113523.1329,\n          2007.0\n        ],\n        \"semantic_type\": \"\",\n        \"description\": \"\"\n      }\n    }\n  ]\n}"
            }
          },
          "metadata": {},
          "execution_count": 14
        }
      ]
    },
    {
      "cell_type": "markdown",
      "source": [
        "Step 7: Inspect Missing Values\n",
        "To detect missing data, use .isnull() combined with .sum():"
      ],
      "metadata": {
        "id": "C1QKkHUi7Opl"
      }
    },
    {
      "cell_type": "code",
      "source": [
        "df.isnull().sum()"
      ],
      "metadata": {
        "colab": {
          "base_uri": "https://localhost:8080/",
          "height": 272
        },
        "id": "y5EkVG7u8G_l",
        "outputId": "2ba6396d-d51e-4c65-f004-348b5af56fd5"
      },
      "execution_count": null,
      "outputs": [
        {
          "output_type": "execute_result",
          "data": {
            "text/plain": [
              "country      0\n",
              "continent    0\n",
              "year         0\n",
              "lifeExp      0\n",
              "pop          0\n",
              "gdpPercap    0\n",
              "dtype: int64"
            ],
            "text/html": [
              "<div>\n",
              "<style scoped>\n",
              "    .dataframe tbody tr th:only-of-type {\n",
              "        vertical-align: middle;\n",
              "    }\n",
              "\n",
              "    .dataframe tbody tr th {\n",
              "        vertical-align: top;\n",
              "    }\n",
              "\n",
              "    .dataframe thead th {\n",
              "        text-align: right;\n",
              "    }\n",
              "</style>\n",
              "<table border=\"1\" class=\"dataframe\">\n",
              "  <thead>\n",
              "    <tr style=\"text-align: right;\">\n",
              "      <th></th>\n",
              "      <th>0</th>\n",
              "    </tr>\n",
              "  </thead>\n",
              "  <tbody>\n",
              "    <tr>\n",
              "      <th>country</th>\n",
              "      <td>0</td>\n",
              "    </tr>\n",
              "    <tr>\n",
              "      <th>continent</th>\n",
              "      <td>0</td>\n",
              "    </tr>\n",
              "    <tr>\n",
              "      <th>year</th>\n",
              "      <td>0</td>\n",
              "    </tr>\n",
              "    <tr>\n",
              "      <th>lifeExp</th>\n",
              "      <td>0</td>\n",
              "    </tr>\n",
              "    <tr>\n",
              "      <th>pop</th>\n",
              "      <td>0</td>\n",
              "    </tr>\n",
              "    <tr>\n",
              "      <th>gdpPercap</th>\n",
              "      <td>0</td>\n",
              "    </tr>\n",
              "  </tbody>\n",
              "</table>\n",
              "</div><br><label><b>dtype:</b> int64</label>"
            ]
          },
          "metadata": {},
          "execution_count": 16
        }
      ]
    },
    {
      "cell_type": "markdown",
      "source": [
        "Step 8: Preview Unique Values\n",
        "To understand categorical variables better, use .unique():\n"
      ],
      "metadata": {
        "id": "2tths6Nn7Ome"
      }
    },
    {
      "cell_type": "code",
      "source": [
        "# prompt: I need the unique values of continent column of df\n",
        "\n",
        "\n",
        "print(df['continent'].unique())"
      ],
      "metadata": {
        "colab": {
          "base_uri": "https://localhost:8080/"
        },
        "id": "SHrQ3aJm8Hih",
        "outputId": "f070df17-50ee-4180-b0b1-68b229dfa3b9"
      },
      "execution_count": null,
      "outputs": [
        {
          "output_type": "stream",
          "name": "stdout",
          "text": [
            "['Asia' 'Europe' 'Africa' 'Americas' 'Oceania']\n"
          ]
        }
      ]
    },
    {
      "cell_type": "markdown",
      "source": [
        "Step 9: Filter Data\n",
        "Filtering is essential in data analysis. For example, to view data for the year 2007:"
      ],
      "metadata": {
        "id": "0ItIsOyw7OjM"
      }
    },
    {
      "cell_type": "code",
      "source": [
        "# prompt: View data for countires in Europe in the year 2007\n",
        "\n",
        "\n",
        "# Filter data for the year 2007\n",
        "df_2007 = df[df['year'] == 2007]\n",
        "\n",
        "# Filter data for the European continent\n",
        "df_europe_2007 = df_2007[df_2007['continent'] == 'Europe']\n",
        "\n",
        "# Display the filtered data\n",
        "df_europe_2007"
      ],
      "metadata": {
        "colab": {
          "base_uri": "https://localhost:8080/",
          "height": 990
        },
        "id": "gewC9Dyf8H2y",
        "outputId": "ed0466f6-ee57-435d-c220-90edc5136090"
      },
      "execution_count": null,
      "outputs": [
        {
          "output_type": "execute_result",
          "data": {
            "text/plain": [
              "                     country continent  year  lifeExp       pop     gdpPercap\n",
              "23                   Albania    Europe  2007   76.423   3600523   5937.029526\n",
              "83                   Austria    Europe  2007   79.829   8199783  36126.492700\n",
              "119                  Belgium    Europe  2007   79.441  10392226  33692.605080\n",
              "155   Bosnia and Herzegovina    Europe  2007   74.852   4552198   7446.298803\n",
              "191                 Bulgaria    Europe  2007   73.005   7322858  10680.792820\n",
              "383                  Croatia    Europe  2007   75.748   4493312  14619.222720\n",
              "407           Czech Republic    Europe  2007   76.486  10228744  22833.308510\n",
              "419                  Denmark    Europe  2007   78.332   5468120  35278.418740\n",
              "527                  Finland    Europe  2007   79.313   5238460  33207.084400\n",
              "539                   France    Europe  2007   80.657  61083916  30470.016700\n",
              "575                  Germany    Europe  2007   79.406  82400996  32170.374420\n",
              "599                   Greece    Europe  2007   79.483  10706290  27538.411880\n",
              "683                  Hungary    Europe  2007   73.338   9956108  18008.944440\n",
              "695                  Iceland    Europe  2007   81.757    301931  36180.789190\n",
              "755                  Ireland    Europe  2007   78.885   4109086  40675.996350\n",
              "779                    Italy    Europe  2007   80.546  58147733  28569.719700\n",
              "1019              Montenegro    Europe  2007   74.543    684736   9253.896111\n",
              "1091             Netherlands    Europe  2007   79.762  16570613  36797.933320\n",
              "1151                  Norway    Europe  2007   80.196   4627926  49357.190170\n",
              "1235                  Poland    Europe  2007   75.563  38518241  15389.924680\n",
              "1247                Portugal    Europe  2007   78.098  10642836  20509.647770\n",
              "1283                 Romania    Europe  2007   72.476  22276056  10808.475610\n",
              "1343                  Serbia    Europe  2007   74.002  10150265   9786.534714\n",
              "1379         Slovak Republic    Europe  2007   74.663   5447502  18678.314350\n",
              "1391                Slovenia    Europe  2007   77.926   2009245  25768.257590\n",
              "1427                   Spain    Europe  2007   80.941  40448191  28821.063700\n",
              "1475                  Sweden    Europe  2007   80.884   9031088  33859.748350\n",
              "1487             Switzerland    Europe  2007   81.701   7554661  37506.419070\n",
              "1583                  Turkey    Europe  2007   71.777  71158647   8458.276384\n",
              "1607          United Kingdom    Europe  2007   79.425  60776238  33203.261280"
            ],
            "text/html": [
              "\n",
              "  <div id=\"df-6494ecdc-11bc-47b8-9642-28527859f48b\" class=\"colab-df-container\">\n",
              "    <div>\n",
              "<style scoped>\n",
              "    .dataframe tbody tr th:only-of-type {\n",
              "        vertical-align: middle;\n",
              "    }\n",
              "\n",
              "    .dataframe tbody tr th {\n",
              "        vertical-align: top;\n",
              "    }\n",
              "\n",
              "    .dataframe thead th {\n",
              "        text-align: right;\n",
              "    }\n",
              "</style>\n",
              "<table border=\"1\" class=\"dataframe\">\n",
              "  <thead>\n",
              "    <tr style=\"text-align: right;\">\n",
              "      <th></th>\n",
              "      <th>country</th>\n",
              "      <th>continent</th>\n",
              "      <th>year</th>\n",
              "      <th>lifeExp</th>\n",
              "      <th>pop</th>\n",
              "      <th>gdpPercap</th>\n",
              "    </tr>\n",
              "  </thead>\n",
              "  <tbody>\n",
              "    <tr>\n",
              "      <th>23</th>\n",
              "      <td>Albania</td>\n",
              "      <td>Europe</td>\n",
              "      <td>2007</td>\n",
              "      <td>76.423</td>\n",
              "      <td>3600523</td>\n",
              "      <td>5937.029526</td>\n",
              "    </tr>\n",
              "    <tr>\n",
              "      <th>83</th>\n",
              "      <td>Austria</td>\n",
              "      <td>Europe</td>\n",
              "      <td>2007</td>\n",
              "      <td>79.829</td>\n",
              "      <td>8199783</td>\n",
              "      <td>36126.492700</td>\n",
              "    </tr>\n",
              "    <tr>\n",
              "      <th>119</th>\n",
              "      <td>Belgium</td>\n",
              "      <td>Europe</td>\n",
              "      <td>2007</td>\n",
              "      <td>79.441</td>\n",
              "      <td>10392226</td>\n",
              "      <td>33692.605080</td>\n",
              "    </tr>\n",
              "    <tr>\n",
              "      <th>155</th>\n",
              "      <td>Bosnia and Herzegovina</td>\n",
              "      <td>Europe</td>\n",
              "      <td>2007</td>\n",
              "      <td>74.852</td>\n",
              "      <td>4552198</td>\n",
              "      <td>7446.298803</td>\n",
              "    </tr>\n",
              "    <tr>\n",
              "      <th>191</th>\n",
              "      <td>Bulgaria</td>\n",
              "      <td>Europe</td>\n",
              "      <td>2007</td>\n",
              "      <td>73.005</td>\n",
              "      <td>7322858</td>\n",
              "      <td>10680.792820</td>\n",
              "    </tr>\n",
              "    <tr>\n",
              "      <th>383</th>\n",
              "      <td>Croatia</td>\n",
              "      <td>Europe</td>\n",
              "      <td>2007</td>\n",
              "      <td>75.748</td>\n",
              "      <td>4493312</td>\n",
              "      <td>14619.222720</td>\n",
              "    </tr>\n",
              "    <tr>\n",
              "      <th>407</th>\n",
              "      <td>Czech Republic</td>\n",
              "      <td>Europe</td>\n",
              "      <td>2007</td>\n",
              "      <td>76.486</td>\n",
              "      <td>10228744</td>\n",
              "      <td>22833.308510</td>\n",
              "    </tr>\n",
              "    <tr>\n",
              "      <th>419</th>\n",
              "      <td>Denmark</td>\n",
              "      <td>Europe</td>\n",
              "      <td>2007</td>\n",
              "      <td>78.332</td>\n",
              "      <td>5468120</td>\n",
              "      <td>35278.418740</td>\n",
              "    </tr>\n",
              "    <tr>\n",
              "      <th>527</th>\n",
              "      <td>Finland</td>\n",
              "      <td>Europe</td>\n",
              "      <td>2007</td>\n",
              "      <td>79.313</td>\n",
              "      <td>5238460</td>\n",
              "      <td>33207.084400</td>\n",
              "    </tr>\n",
              "    <tr>\n",
              "      <th>539</th>\n",
              "      <td>France</td>\n",
              "      <td>Europe</td>\n",
              "      <td>2007</td>\n",
              "      <td>80.657</td>\n",
              "      <td>61083916</td>\n",
              "      <td>30470.016700</td>\n",
              "    </tr>\n",
              "    <tr>\n",
              "      <th>575</th>\n",
              "      <td>Germany</td>\n",
              "      <td>Europe</td>\n",
              "      <td>2007</td>\n",
              "      <td>79.406</td>\n",
              "      <td>82400996</td>\n",
              "      <td>32170.374420</td>\n",
              "    </tr>\n",
              "    <tr>\n",
              "      <th>599</th>\n",
              "      <td>Greece</td>\n",
              "      <td>Europe</td>\n",
              "      <td>2007</td>\n",
              "      <td>79.483</td>\n",
              "      <td>10706290</td>\n",
              "      <td>27538.411880</td>\n",
              "    </tr>\n",
              "    <tr>\n",
              "      <th>683</th>\n",
              "      <td>Hungary</td>\n",
              "      <td>Europe</td>\n",
              "      <td>2007</td>\n",
              "      <td>73.338</td>\n",
              "      <td>9956108</td>\n",
              "      <td>18008.944440</td>\n",
              "    </tr>\n",
              "    <tr>\n",
              "      <th>695</th>\n",
              "      <td>Iceland</td>\n",
              "      <td>Europe</td>\n",
              "      <td>2007</td>\n",
              "      <td>81.757</td>\n",
              "      <td>301931</td>\n",
              "      <td>36180.789190</td>\n",
              "    </tr>\n",
              "    <tr>\n",
              "      <th>755</th>\n",
              "      <td>Ireland</td>\n",
              "      <td>Europe</td>\n",
              "      <td>2007</td>\n",
              "      <td>78.885</td>\n",
              "      <td>4109086</td>\n",
              "      <td>40675.996350</td>\n",
              "    </tr>\n",
              "    <tr>\n",
              "      <th>779</th>\n",
              "      <td>Italy</td>\n",
              "      <td>Europe</td>\n",
              "      <td>2007</td>\n",
              "      <td>80.546</td>\n",
              "      <td>58147733</td>\n",
              "      <td>28569.719700</td>\n",
              "    </tr>\n",
              "    <tr>\n",
              "      <th>1019</th>\n",
              "      <td>Montenegro</td>\n",
              "      <td>Europe</td>\n",
              "      <td>2007</td>\n",
              "      <td>74.543</td>\n",
              "      <td>684736</td>\n",
              "      <td>9253.896111</td>\n",
              "    </tr>\n",
              "    <tr>\n",
              "      <th>1091</th>\n",
              "      <td>Netherlands</td>\n",
              "      <td>Europe</td>\n",
              "      <td>2007</td>\n",
              "      <td>79.762</td>\n",
              "      <td>16570613</td>\n",
              "      <td>36797.933320</td>\n",
              "    </tr>\n",
              "    <tr>\n",
              "      <th>1151</th>\n",
              "      <td>Norway</td>\n",
              "      <td>Europe</td>\n",
              "      <td>2007</td>\n",
              "      <td>80.196</td>\n",
              "      <td>4627926</td>\n",
              "      <td>49357.190170</td>\n",
              "    </tr>\n",
              "    <tr>\n",
              "      <th>1235</th>\n",
              "      <td>Poland</td>\n",
              "      <td>Europe</td>\n",
              "      <td>2007</td>\n",
              "      <td>75.563</td>\n",
              "      <td>38518241</td>\n",
              "      <td>15389.924680</td>\n",
              "    </tr>\n",
              "    <tr>\n",
              "      <th>1247</th>\n",
              "      <td>Portugal</td>\n",
              "      <td>Europe</td>\n",
              "      <td>2007</td>\n",
              "      <td>78.098</td>\n",
              "      <td>10642836</td>\n",
              "      <td>20509.647770</td>\n",
              "    </tr>\n",
              "    <tr>\n",
              "      <th>1283</th>\n",
              "      <td>Romania</td>\n",
              "      <td>Europe</td>\n",
              "      <td>2007</td>\n",
              "      <td>72.476</td>\n",
              "      <td>22276056</td>\n",
              "      <td>10808.475610</td>\n",
              "    </tr>\n",
              "    <tr>\n",
              "      <th>1343</th>\n",
              "      <td>Serbia</td>\n",
              "      <td>Europe</td>\n",
              "      <td>2007</td>\n",
              "      <td>74.002</td>\n",
              "      <td>10150265</td>\n",
              "      <td>9786.534714</td>\n",
              "    </tr>\n",
              "    <tr>\n",
              "      <th>1379</th>\n",
              "      <td>Slovak Republic</td>\n",
              "      <td>Europe</td>\n",
              "      <td>2007</td>\n",
              "      <td>74.663</td>\n",
              "      <td>5447502</td>\n",
              "      <td>18678.314350</td>\n",
              "    </tr>\n",
              "    <tr>\n",
              "      <th>1391</th>\n",
              "      <td>Slovenia</td>\n",
              "      <td>Europe</td>\n",
              "      <td>2007</td>\n",
              "      <td>77.926</td>\n",
              "      <td>2009245</td>\n",
              "      <td>25768.257590</td>\n",
              "    </tr>\n",
              "    <tr>\n",
              "      <th>1427</th>\n",
              "      <td>Spain</td>\n",
              "      <td>Europe</td>\n",
              "      <td>2007</td>\n",
              "      <td>80.941</td>\n",
              "      <td>40448191</td>\n",
              "      <td>28821.063700</td>\n",
              "    </tr>\n",
              "    <tr>\n",
              "      <th>1475</th>\n",
              "      <td>Sweden</td>\n",
              "      <td>Europe</td>\n",
              "      <td>2007</td>\n",
              "      <td>80.884</td>\n",
              "      <td>9031088</td>\n",
              "      <td>33859.748350</td>\n",
              "    </tr>\n",
              "    <tr>\n",
              "      <th>1487</th>\n",
              "      <td>Switzerland</td>\n",
              "      <td>Europe</td>\n",
              "      <td>2007</td>\n",
              "      <td>81.701</td>\n",
              "      <td>7554661</td>\n",
              "      <td>37506.419070</td>\n",
              "    </tr>\n",
              "    <tr>\n",
              "      <th>1583</th>\n",
              "      <td>Turkey</td>\n",
              "      <td>Europe</td>\n",
              "      <td>2007</td>\n",
              "      <td>71.777</td>\n",
              "      <td>71158647</td>\n",
              "      <td>8458.276384</td>\n",
              "    </tr>\n",
              "    <tr>\n",
              "      <th>1607</th>\n",
              "      <td>United Kingdom</td>\n",
              "      <td>Europe</td>\n",
              "      <td>2007</td>\n",
              "      <td>79.425</td>\n",
              "      <td>60776238</td>\n",
              "      <td>33203.261280</td>\n",
              "    </tr>\n",
              "  </tbody>\n",
              "</table>\n",
              "</div>\n",
              "    <div class=\"colab-df-buttons\">\n",
              "\n",
              "  <div class=\"colab-df-container\">\n",
              "    <button class=\"colab-df-convert\" onclick=\"convertToInteractive('df-6494ecdc-11bc-47b8-9642-28527859f48b')\"\n",
              "            title=\"Convert this dataframe to an interactive table.\"\n",
              "            style=\"display:none;\">\n",
              "\n",
              "  <svg xmlns=\"http://www.w3.org/2000/svg\" height=\"24px\" viewBox=\"0 -960 960 960\">\n",
              "    <path d=\"M120-120v-720h720v720H120Zm60-500h600v-160H180v160Zm220 220h160v-160H400v160Zm0 220h160v-160H400v160ZM180-400h160v-160H180v160Zm440 0h160v-160H620v160ZM180-180h160v-160H180v160Zm440 0h160v-160H620v160Z\"/>\n",
              "  </svg>\n",
              "    </button>\n",
              "\n",
              "  <style>\n",
              "    .colab-df-container {\n",
              "      display:flex;\n",
              "      gap: 12px;\n",
              "    }\n",
              "\n",
              "    .colab-df-convert {\n",
              "      background-color: #E8F0FE;\n",
              "      border: none;\n",
              "      border-radius: 50%;\n",
              "      cursor: pointer;\n",
              "      display: none;\n",
              "      fill: #1967D2;\n",
              "      height: 32px;\n",
              "      padding: 0 0 0 0;\n",
              "      width: 32px;\n",
              "    }\n",
              "\n",
              "    .colab-df-convert:hover {\n",
              "      background-color: #E2EBFA;\n",
              "      box-shadow: 0px 1px 2px rgba(60, 64, 67, 0.3), 0px 1px 3px 1px rgba(60, 64, 67, 0.15);\n",
              "      fill: #174EA6;\n",
              "    }\n",
              "\n",
              "    .colab-df-buttons div {\n",
              "      margin-bottom: 4px;\n",
              "    }\n",
              "\n",
              "    [theme=dark] .colab-df-convert {\n",
              "      background-color: #3B4455;\n",
              "      fill: #D2E3FC;\n",
              "    }\n",
              "\n",
              "    [theme=dark] .colab-df-convert:hover {\n",
              "      background-color: #434B5C;\n",
              "      box-shadow: 0px 1px 3px 1px rgba(0, 0, 0, 0.15);\n",
              "      filter: drop-shadow(0px 1px 2px rgba(0, 0, 0, 0.3));\n",
              "      fill: #FFFFFF;\n",
              "    }\n",
              "  </style>\n",
              "\n",
              "    <script>\n",
              "      const buttonEl =\n",
              "        document.querySelector('#df-6494ecdc-11bc-47b8-9642-28527859f48b button.colab-df-convert');\n",
              "      buttonEl.style.display =\n",
              "        google.colab.kernel.accessAllowed ? 'block' : 'none';\n",
              "\n",
              "      async function convertToInteractive(key) {\n",
              "        const element = document.querySelector('#df-6494ecdc-11bc-47b8-9642-28527859f48b');\n",
              "        const dataTable =\n",
              "          await google.colab.kernel.invokeFunction('convertToInteractive',\n",
              "                                                    [key], {});\n",
              "        if (!dataTable) return;\n",
              "\n",
              "        const docLinkHtml = 'Like what you see? Visit the ' +\n",
              "          '<a target=\"_blank\" href=https://colab.research.google.com/notebooks/data_table.ipynb>data table notebook</a>'\n",
              "          + ' to learn more about interactive tables.';\n",
              "        element.innerHTML = '';\n",
              "        dataTable['output_type'] = 'display_data';\n",
              "        await google.colab.output.renderOutput(dataTable, element);\n",
              "        const docLink = document.createElement('div');\n",
              "        docLink.innerHTML = docLinkHtml;\n",
              "        element.appendChild(docLink);\n",
              "      }\n",
              "    </script>\n",
              "  </div>\n",
              "\n",
              "\n",
              "<div id=\"df-e4c5499f-0b1f-4aee-983c-7c23fcb6c7f2\">\n",
              "  <button class=\"colab-df-quickchart\" onclick=\"quickchart('df-e4c5499f-0b1f-4aee-983c-7c23fcb6c7f2')\"\n",
              "            title=\"Suggest charts\"\n",
              "            style=\"display:none;\">\n",
              "\n",
              "<svg xmlns=\"http://www.w3.org/2000/svg\" height=\"24px\"viewBox=\"0 0 24 24\"\n",
              "     width=\"24px\">\n",
              "    <g>\n",
              "        <path d=\"M19 3H5c-1.1 0-2 .9-2 2v14c0 1.1.9 2 2 2h14c1.1 0 2-.9 2-2V5c0-1.1-.9-2-2-2zM9 17H7v-7h2v7zm4 0h-2V7h2v10zm4 0h-2v-4h2v4z\"/>\n",
              "    </g>\n",
              "</svg>\n",
              "  </button>\n",
              "\n",
              "<style>\n",
              "  .colab-df-quickchart {\n",
              "      --bg-color: #E8F0FE;\n",
              "      --fill-color: #1967D2;\n",
              "      --hover-bg-color: #E2EBFA;\n",
              "      --hover-fill-color: #174EA6;\n",
              "      --disabled-fill-color: #AAA;\n",
              "      --disabled-bg-color: #DDD;\n",
              "  }\n",
              "\n",
              "  [theme=dark] .colab-df-quickchart {\n",
              "      --bg-color: #3B4455;\n",
              "      --fill-color: #D2E3FC;\n",
              "      --hover-bg-color: #434B5C;\n",
              "      --hover-fill-color: #FFFFFF;\n",
              "      --disabled-bg-color: #3B4455;\n",
              "      --disabled-fill-color: #666;\n",
              "  }\n",
              "\n",
              "  .colab-df-quickchart {\n",
              "    background-color: var(--bg-color);\n",
              "    border: none;\n",
              "    border-radius: 50%;\n",
              "    cursor: pointer;\n",
              "    display: none;\n",
              "    fill: var(--fill-color);\n",
              "    height: 32px;\n",
              "    padding: 0;\n",
              "    width: 32px;\n",
              "  }\n",
              "\n",
              "  .colab-df-quickchart:hover {\n",
              "    background-color: var(--hover-bg-color);\n",
              "    box-shadow: 0 1px 2px rgba(60, 64, 67, 0.3), 0 1px 3px 1px rgba(60, 64, 67, 0.15);\n",
              "    fill: var(--button-hover-fill-color);\n",
              "  }\n",
              "\n",
              "  .colab-df-quickchart-complete:disabled,\n",
              "  .colab-df-quickchart-complete:disabled:hover {\n",
              "    background-color: var(--disabled-bg-color);\n",
              "    fill: var(--disabled-fill-color);\n",
              "    box-shadow: none;\n",
              "  }\n",
              "\n",
              "  .colab-df-spinner {\n",
              "    border: 2px solid var(--fill-color);\n",
              "    border-color: transparent;\n",
              "    border-bottom-color: var(--fill-color);\n",
              "    animation:\n",
              "      spin 1s steps(1) infinite;\n",
              "  }\n",
              "\n",
              "  @keyframes spin {\n",
              "    0% {\n",
              "      border-color: transparent;\n",
              "      border-bottom-color: var(--fill-color);\n",
              "      border-left-color: var(--fill-color);\n",
              "    }\n",
              "    20% {\n",
              "      border-color: transparent;\n",
              "      border-left-color: var(--fill-color);\n",
              "      border-top-color: var(--fill-color);\n",
              "    }\n",
              "    30% {\n",
              "      border-color: transparent;\n",
              "      border-left-color: var(--fill-color);\n",
              "      border-top-color: var(--fill-color);\n",
              "      border-right-color: var(--fill-color);\n",
              "    }\n",
              "    40% {\n",
              "      border-color: transparent;\n",
              "      border-right-color: var(--fill-color);\n",
              "      border-top-color: var(--fill-color);\n",
              "    }\n",
              "    60% {\n",
              "      border-color: transparent;\n",
              "      border-right-color: var(--fill-color);\n",
              "    }\n",
              "    80% {\n",
              "      border-color: transparent;\n",
              "      border-right-color: var(--fill-color);\n",
              "      border-bottom-color: var(--fill-color);\n",
              "    }\n",
              "    90% {\n",
              "      border-color: transparent;\n",
              "      border-bottom-color: var(--fill-color);\n",
              "    }\n",
              "  }\n",
              "</style>\n",
              "\n",
              "  <script>\n",
              "    async function quickchart(key) {\n",
              "      const quickchartButtonEl =\n",
              "        document.querySelector('#' + key + ' button');\n",
              "      quickchartButtonEl.disabled = true;  // To prevent multiple clicks.\n",
              "      quickchartButtonEl.classList.add('colab-df-spinner');\n",
              "      try {\n",
              "        const charts = await google.colab.kernel.invokeFunction(\n",
              "            'suggestCharts', [key], {});\n",
              "      } catch (error) {\n",
              "        console.error('Error during call to suggestCharts:', error);\n",
              "      }\n",
              "      quickchartButtonEl.classList.remove('colab-df-spinner');\n",
              "      quickchartButtonEl.classList.add('colab-df-quickchart-complete');\n",
              "    }\n",
              "    (() => {\n",
              "      let quickchartButtonEl =\n",
              "        document.querySelector('#df-e4c5499f-0b1f-4aee-983c-7c23fcb6c7f2 button');\n",
              "      quickchartButtonEl.style.display =\n",
              "        google.colab.kernel.accessAllowed ? 'block' : 'none';\n",
              "    })();\n",
              "  </script>\n",
              "</div>\n",
              "\n",
              "  <div id=\"id_7d8db945-477a-46c8-b057-9b8ae08eb99f\">\n",
              "    <style>\n",
              "      .colab-df-generate {\n",
              "        background-color: #E8F0FE;\n",
              "        border: none;\n",
              "        border-radius: 50%;\n",
              "        cursor: pointer;\n",
              "        display: none;\n",
              "        fill: #1967D2;\n",
              "        height: 32px;\n",
              "        padding: 0 0 0 0;\n",
              "        width: 32px;\n",
              "      }\n",
              "\n",
              "      .colab-df-generate:hover {\n",
              "        background-color: #E2EBFA;\n",
              "        box-shadow: 0px 1px 2px rgba(60, 64, 67, 0.3), 0px 1px 3px 1px rgba(60, 64, 67, 0.15);\n",
              "        fill: #174EA6;\n",
              "      }\n",
              "\n",
              "      [theme=dark] .colab-df-generate {\n",
              "        background-color: #3B4455;\n",
              "        fill: #D2E3FC;\n",
              "      }\n",
              "\n",
              "      [theme=dark] .colab-df-generate:hover {\n",
              "        background-color: #434B5C;\n",
              "        box-shadow: 0px 1px 3px 1px rgba(0, 0, 0, 0.15);\n",
              "        filter: drop-shadow(0px 1px 2px rgba(0, 0, 0, 0.3));\n",
              "        fill: #FFFFFF;\n",
              "      }\n",
              "    </style>\n",
              "    <button class=\"colab-df-generate\" onclick=\"generateWithVariable('df_europe_2007')\"\n",
              "            title=\"Generate code using this dataframe.\"\n",
              "            style=\"display:none;\">\n",
              "\n",
              "  <svg xmlns=\"http://www.w3.org/2000/svg\" height=\"24px\"viewBox=\"0 0 24 24\"\n",
              "       width=\"24px\">\n",
              "    <path d=\"M7,19H8.4L18.45,9,17,7.55,7,17.6ZM5,21V16.75L18.45,3.32a2,2,0,0,1,2.83,0l1.4,1.43a1.91,1.91,0,0,1,.58,1.4,1.91,1.91,0,0,1-.58,1.4L9.25,21ZM18.45,9,17,7.55Zm-12,3A5.31,5.31,0,0,0,4.9,8.1,5.31,5.31,0,0,0,1,6.5,5.31,5.31,0,0,0,4.9,4.9,5.31,5.31,0,0,0,6.5,1,5.31,5.31,0,0,0,8.1,4.9,5.31,5.31,0,0,0,12,6.5,5.46,5.46,0,0,0,6.5,12Z\"/>\n",
              "  </svg>\n",
              "    </button>\n",
              "    <script>\n",
              "      (() => {\n",
              "      const buttonEl =\n",
              "        document.querySelector('#id_7d8db945-477a-46c8-b057-9b8ae08eb99f button.colab-df-generate');\n",
              "      buttonEl.style.display =\n",
              "        google.colab.kernel.accessAllowed ? 'block' : 'none';\n",
              "\n",
              "      buttonEl.onclick = () => {\n",
              "        google.colab.notebook.generateWithVariable('df_europe_2007');\n",
              "      }\n",
              "      })();\n",
              "    </script>\n",
              "  </div>\n",
              "\n",
              "    </div>\n",
              "  </div>\n"
            ],
            "application/vnd.google.colaboratory.intrinsic+json": {
              "type": "dataframe",
              "variable_name": "df_europe_2007",
              "summary": "{\n  \"name\": \"df_europe_2007\",\n  \"rows\": 30,\n  \"fields\": [\n    {\n      \"column\": \"country\",\n      \"properties\": {\n        \"dtype\": \"string\",\n        \"num_unique_values\": 30,\n        \"samples\": [\n          \"Switzerland\",\n          \"Italy\",\n          \"Slovak Republic\"\n        ],\n        \"semantic_type\": \"\",\n        \"description\": \"\"\n      }\n    },\n    {\n      \"column\": \"continent\",\n      \"properties\": {\n        \"dtype\": \"category\",\n        \"num_unique_values\": 1,\n        \"samples\": [\n          \"Europe\"\n        ],\n        \"semantic_type\": \"\",\n        \"description\": \"\"\n      }\n    },\n    {\n      \"column\": \"year\",\n      \"properties\": {\n        \"dtype\": \"number\",\n        \"std\": 0,\n        \"min\": 2007,\n        \"max\": 2007,\n        \"num_unique_values\": 1,\n        \"samples\": [\n          2007\n        ],\n        \"semantic_type\": \"\",\n        \"description\": \"\"\n      }\n    },\n    {\n      \"column\": \"lifeExp\",\n      \"properties\": {\n        \"dtype\": \"number\",\n        \"std\": 2.9798126601608996,\n        \"min\": 71.777,\n        \"max\": 81.757,\n        \"num_unique_values\": 30,\n        \"samples\": [\n          81.701\n        ],\n        \"semantic_type\": \"\",\n        \"description\": \"\"\n      }\n    },\n    {\n      \"column\": \"pop\",\n      \"properties\": {\n        \"dtype\": \"number\",\n        \"std\": 23624743,\n        \"min\": 301931,\n        \"max\": 82400996,\n        \"num_unique_values\": 30,\n        \"samples\": [\n          7554661\n        ],\n        \"semantic_type\": \"\",\n        \"description\": \"\"\n      }\n    },\n    {\n      \"column\": \"gdpPercap\",\n      \"properties\": {\n        \"dtype\": \"number\",\n        \"std\": 11800.339810888065,\n        \"min\": 5937.029526,\n        \"max\": 49357.19017,\n        \"num_unique_values\": 30,\n        \"samples\": [\n          37506.41907\n        ],\n        \"semantic_type\": \"\",\n        \"description\": \"\"\n      }\n    }\n  ]\n}"
            }
          },
          "metadata": {},
          "execution_count": 19
        }
      ]
    },
    {
      "cell_type": "code",
      "source": [
        "df['year'] == 2007"
      ],
      "metadata": {
        "colab": {
          "base_uri": "https://localhost:8080/",
          "height": 458
        },
        "id": "Fcfbs-WIF9PO",
        "outputId": "dec19cc3-95d1-4dbd-b81e-b56c0a4e1c91"
      },
      "execution_count": null,
      "outputs": [
        {
          "output_type": "execute_result",
          "data": {
            "text/plain": [
              "0       False\n",
              "1       False\n",
              "2       False\n",
              "3       False\n",
              "4       False\n",
              "        ...  \n",
              "1699    False\n",
              "1700    False\n",
              "1701    False\n",
              "1702    False\n",
              "1703     True\n",
              "Name: year, Length: 1704, dtype: bool"
            ],
            "text/html": [
              "<div>\n",
              "<style scoped>\n",
              "    .dataframe tbody tr th:only-of-type {\n",
              "        vertical-align: middle;\n",
              "    }\n",
              "\n",
              "    .dataframe tbody tr th {\n",
              "        vertical-align: top;\n",
              "    }\n",
              "\n",
              "    .dataframe thead th {\n",
              "        text-align: right;\n",
              "    }\n",
              "</style>\n",
              "<table border=\"1\" class=\"dataframe\">\n",
              "  <thead>\n",
              "    <tr style=\"text-align: right;\">\n",
              "      <th></th>\n",
              "      <th>year</th>\n",
              "    </tr>\n",
              "  </thead>\n",
              "  <tbody>\n",
              "    <tr>\n",
              "      <th>0</th>\n",
              "      <td>False</td>\n",
              "    </tr>\n",
              "    <tr>\n",
              "      <th>1</th>\n",
              "      <td>False</td>\n",
              "    </tr>\n",
              "    <tr>\n",
              "      <th>2</th>\n",
              "      <td>False</td>\n",
              "    </tr>\n",
              "    <tr>\n",
              "      <th>3</th>\n",
              "      <td>False</td>\n",
              "    </tr>\n",
              "    <tr>\n",
              "      <th>4</th>\n",
              "      <td>False</td>\n",
              "    </tr>\n",
              "    <tr>\n",
              "      <th>...</th>\n",
              "      <td>...</td>\n",
              "    </tr>\n",
              "    <tr>\n",
              "      <th>1699</th>\n",
              "      <td>False</td>\n",
              "    </tr>\n",
              "    <tr>\n",
              "      <th>1700</th>\n",
              "      <td>False</td>\n",
              "    </tr>\n",
              "    <tr>\n",
              "      <th>1701</th>\n",
              "      <td>False</td>\n",
              "    </tr>\n",
              "    <tr>\n",
              "      <th>1702</th>\n",
              "      <td>False</td>\n",
              "    </tr>\n",
              "    <tr>\n",
              "      <th>1703</th>\n",
              "      <td>True</td>\n",
              "    </tr>\n",
              "  </tbody>\n",
              "</table>\n",
              "<p>1704 rows × 1 columns</p>\n",
              "</div><br><label><b>dtype:</b> bool</label>"
            ]
          },
          "metadata": {},
          "execution_count": 18
        }
      ]
    },
    {
      "cell_type": "markdown",
      "source": [
        "Step 10: Summarize by Group\n",
        "Pandas excels at grouping data. For instance, to find the average life expectancy per continent:"
      ],
      "metadata": {
        "id": "6lUTMmhF7Ofj"
      }
    },
    {
      "cell_type": "code",
      "source": [
        "# prompt: find the average life excpectency in df per continent\n",
        "\n",
        "\n",
        "\n",
        "# Group data by continent and calculate the mean life expectancy\n",
        "average_life_expectancy = df.groupby('continent')['lifeExp'].mean()\n",
        "\n",
        "# Display the result\n",
        "average_life_expectancy"
      ],
      "metadata": {
        "colab": {
          "base_uri": "https://localhost:8080/",
          "height": 272
        },
        "id": "P4iGla0cGLoM",
        "outputId": "b88d0e5a-a767-45b6-af3c-eead25c84c14"
      },
      "execution_count": null,
      "outputs": [
        {
          "output_type": "execute_result",
          "data": {
            "text/plain": [
              "continent\n",
              "Africa      48.865330\n",
              "Americas    64.658737\n",
              "Asia        60.064903\n",
              "Europe      71.903686\n",
              "Oceania     74.326208\n",
              "Name: lifeExp, dtype: float64"
            ],
            "text/html": [
              "<div>\n",
              "<style scoped>\n",
              "    .dataframe tbody tr th:only-of-type {\n",
              "        vertical-align: middle;\n",
              "    }\n",
              "\n",
              "    .dataframe tbody tr th {\n",
              "        vertical-align: top;\n",
              "    }\n",
              "\n",
              "    .dataframe thead th {\n",
              "        text-align: right;\n",
              "    }\n",
              "</style>\n",
              "<table border=\"1\" class=\"dataframe\">\n",
              "  <thead>\n",
              "    <tr style=\"text-align: right;\">\n",
              "      <th></th>\n",
              "      <th>lifeExp</th>\n",
              "    </tr>\n",
              "    <tr>\n",
              "      <th>continent</th>\n",
              "      <th></th>\n",
              "    </tr>\n",
              "  </thead>\n",
              "  <tbody>\n",
              "    <tr>\n",
              "      <th>Africa</th>\n",
              "      <td>48.865330</td>\n",
              "    </tr>\n",
              "    <tr>\n",
              "      <th>Americas</th>\n",
              "      <td>64.658737</td>\n",
              "    </tr>\n",
              "    <tr>\n",
              "      <th>Asia</th>\n",
              "      <td>60.064903</td>\n",
              "    </tr>\n",
              "    <tr>\n",
              "      <th>Europe</th>\n",
              "      <td>71.903686</td>\n",
              "    </tr>\n",
              "    <tr>\n",
              "      <th>Oceania</th>\n",
              "      <td>74.326208</td>\n",
              "    </tr>\n",
              "  </tbody>\n",
              "</table>\n",
              "</div><br><label><b>dtype:</b> float64</label>"
            ]
          },
          "metadata": {},
          "execution_count": 21
        }
      ]
    },
    {
      "cell_type": "markdown",
      "source": [
        "![__results___20_0.png](data:image/png;base64,iVBORw0KGgoAAAANSUhEUgAAAz4AAAJVCAYAAAAfjyD1AAAABHNCSVQICAgIfAhkiAAAAAlwSFlzAAAXEQAAFxEByibzPwAAADl0RVh0U29mdHdhcmUAbWF0cGxvdGxpYiB2ZXJzaW9uIDMuMC4zLCBodHRwOi8vbWF0cGxvdGxpYi5vcmcvnQurowAAIABJREFUeJzs3XeYZFWZ+PHvW7Fz93SYnDMMDGEYmCEOSbKKYMCAiOuKOeuadV1d9OeqaxYQwbREQRABSYPMkBwywwxMzqmnc65wfn+cW9O3blfsro7zfp6nnu66dW6o6qrq+97znveIMQallFJKKaWUGst8w30ASimllFJKKTXYNPBRSimllFJKjXka+CillFJKKaXGPA18lFJKKaWUUmOeBj5KKaWUUkqpMU8DH6WUUkoppdSYp4GPUkoppZRSaszTwEcppZRSSik15mngo5RSSimllBrzNPBRSimllFJKjXka+CillFJKKaXGPA18lFJKKaWUUmOeBj5KKaWUUkqpMU8DH6WUUkoppdSYFxjuA1BK5U5ErgF+5Vp0hTHmlkHa115ggnP3dWPMwsHYjxodROR84H7Xoi8bY64druNRajCIyNPASc7dbmNM0XAeTyGJSA1wJDAPGAeEgSbgAPCcMWbzIOxzkbPPyUAQ2A1sAp41xpgC7qcMOBmYiv2/1QDscvazv1D7UaOfBj5qUIjI14DvuBbdYoy5Is9trMV+YSZEgXHGmLY8tvEF4AeuRfcbYy7M5zjU4BCRIqAzSzMDdANdQD2wF3gDeBV4EvvPOjqYx6mUUqORiISAc4CLgRXAEVna7wSuB35ljDkwgP0K8FHgI8CiNM12ishNwPeMMdn+D2Ta1zzg28BbgJIUTaIi8jDwXWPMqjy26w6AB+pBY8z5BdqWGiBNdVOD5THP/RX5rCwidfT9kg4Ap+Z5HN79eo9LjWwCFAFVwFzs3/9q4EfA08AeEfm1c1VRKTVGiMg1ImJct3cN9zGNJiJyOrAPuA8bgGQMehxTsUHEOhF5Rz/3Oxn7f/bnpA96Evv6GvCCiBzbz319CHgRuILUQQ/Y84bzgcdF5FoRGY7z3n4HdqrwNPBRg+VZoN11f6KI5PLFm7ACe9LrdWauGxARP30DJQ18xpZa4MPAqyLyJxGZONwHpJRSI8B47AUjrx5gDfA34M/AP7BpYW41wK0i8tF8digiFcADwBmeh7ZjA7C7gHWexxYA/xCR2Xnu6wPAdSQHPBFgNXArsBJwZ4f4gC8B/y+f/RTIncOwT5WGprqpQWGMiYjIauBNrsUr6Pull066AGdFHoexBKhw3W8GXshjfTX0TsTmm7uFsfnoldjc9JOA04AZnnbvBs4WkcuMMasH+0CVUmqUaMEGA/8HPGWM6XI/6PSCXAb8BDsWJ+HnIvKqMeafOe7nj8DRrvtNwIeAvxhj4q79nQrcBMxxFtUB94nIscaY7mw7EZFlwG88i28HPmOM2eVqVwl8Bfiiq91nReQlY8zvs+zmUuz/nny9E3CPfWxCA58RRQMfNZgeIznwOZPkgfmZrHD9/jA2TxlgiYiUG2Na89wGwD+NMbEc96+Gxw5jzN4Mjz+I/WcswEXAF4DTXY9PAB4UkXONMU8N4nEqpcYgY8yy4T6GAtqLPQm/3hjTka6RE5TcLiL/BJ7AXmACm3XxUyBrKpqInAtc4lrUBawwxryUYn+rRGQ58BwwzVm8EJuS95Ns+wJ+iC2UkPAn4H3eYgnGmGbgSyLSQHIwcq2I3JHlNdmTw3H0ISIXeBb9eSBjmFThaaqbGkzetDJv93dKIjKB5Hzk72O/RAH82Kv9uVjhuf9ojuupEc5Yf8P+jb+MLXyRUArcISK1w3FsSik1AjwBzDbG/G+mE3w3Y8w+4L3YojIJx4jI0WlWcfsvz/1vpQp6XPs6APy7Z/FXRaQ0006cwOIU16K9wMeyVIj7f4D7Qtgk4OOZ9tMfIjKH5AtxAL8t9H7UwGjgowbTGsDdMzM+x0HoK1y/dwH/xA5kT8g6zkfH9xwenADoWuCTnocmA98bhkNSSqlhZ4zZ15+eBmPMs8C/PIsz/s8VkQXYNOWENuAXOezrAcAdHNUC3h4Trys993/t9Oxk2k+cvmN7vNsphKtJHpv8ojHm+UHYjxoATXVTg8YYExORJwB3+egVwNosq65w/f6UMaZHRB53LV/hXSGFE4By1/0G4OUc1jtERIqx8wJMx+Ygx4D9wAbgX4VOmxOREmywNhmYiB2o+XShx6s4FXQWY696tWPnOnjOGLO9kPsZSsaYXzlVjNyVnz4gIt8xxuzId3sichS2IlEd9n3UgJ1/YpUxprEQxzwURGQK9oRkPHbAciu20tOzxpitw3A8QWAZMBv72gp2TNdW4EljTE+B91eK/UxNdfbX4Ozr8VzGEuS5r4XY8Q1TsJUIdwJPGGO2ZVnPjx23thioxn4mtwGPGmNaCnBcQWf7s7CvQRD7mm/BvuaFfh0mYP/GU7FjLOuxYzufPtxKzzspucuwFSknYy/k7cF+j+wezmPL4gWSA5nJ6Ro6LvXcvz2PaSduAn7suv824I5UDZ3y3N7pKG7KcT/3Agex34MAi0RkvjHmjRzXz8j5HL/fs1h7e0YiY4ze9DZoN+Dz2G7zxO2OHNZZ52r/DWfZma5lUaAyyza+5NnvnXkc8zHAX7AlKE2aWwPwa2ByHtu9xbONic7yWdhBp+0p9nOLZxvXeB5/Vx77vxIbtKV6PnFsKuA5rvZ7XY+vH4T3RlGK45g4gO0tcJ6He3vfzGP9OuB/sIFgur97FFstaEWWbZVgB7Um1msBSvrxnOZ79v9yDuuEsGkcazM8D+N8zq4G/Dkey/me9f8jj+cxC7jZeR3SHU8btsrU/Dy2e61nG8uc5dOAG7GBXqp9NQM/I8v3SIb36gOux96FvUKe7nP1V2BGim0Gsd9T+9Ks2wP8L1DRz8/DUdjvnEyveTt2QPqcPLab8nsBG/Tdg71gk2pfjdiB5uEM216Y5T2b6dbv7w7PMTzt2mZXlrYpv4+xKdlfxAbZ6Y73EWBJIY650DdsKWr3sf4oS/uVnvZX5rGvYz3rNmRou8LTdnOez+tuz/qfKuBrdpFn253YeQeH/e+pN8/fargPQG9j+4atrOb+MjgASIb2Ez3tz3CWF2MnskwsvzjLfh/wbOfjORyrYCc7jeXxz7YDeH+Or0WfwAd4B5lPTAYc+GBP2v6Wx3P6trPeqAp8nG3e79neczmu9yHSnySnu/0WCGbY5q887XN6n3i24T2x/2SW9svIfLKV6vZsLq87/Qx8gE+T/NnNdosAX+7n67MMO5awMcd97QGO78d79QHsye1NOe5nP3C0a3t1zuuey7pryOMEChtQ/YL8vsd6gGty3H6f7wVsSflMF4rct8eA8jTbHvWBD7Z3ZHWOx9wFXF6I4y7kjb7/P7+QpX29p/28PPblo+93b8oLitgLOu52f8rzeX3Rs/51BXzN7hzIselt6G6a6qYG2wvYK9+J+QRqsVciX0nTfoXr9y6csT3GmE4ReZbecTtnYk/m+xCRAMmDHyFLYQMnJeFP2InQ3Ay28sxW7AnFfJILLxQDN4lInTHmh5n2kcJp2Kutieo0DdiTnIPY8s0DnpTTeS3uAc71PNQDPIPt3SjH9nJNdR77hoj0e9buYfYQ9gQ94VgRKTXGtKdbQUS+T3K5U3BO6oCN2H/K1cBSetMkwPaWTBSRS4yrVKvLb7EnRgkfxPZ65MT527nz0Lux75d07d+GfQ8XeR7ahU3zbATKsO+rOa7HlwJPi8gyk7miXt5E5Fpsr4bXK9jXNuYcy3GuxwLA90RksjHmE3nu8khsVahEmms79n2+D/uZOgH7HZQwEXhYRM40GQZip/EzelNbYsDz2O8JH/Y1XuhqWwfc7aRQ+rCVKhc7j3U6x7gX21O4FJuGmrAEG0RnncBTRMqwn3fvmIwe7ESPO53fJ2FTmYqdx4PAr0SkytgxczkTkfdie78TNgOvYS/ojAeWYwuOJKzA9ii8n7GnDDtfTaIKWhe2N3A39jU+guT/H2HgDyKy1hiT61QPg0pEqumbTv5shvaJNNqEODaNMifGmLiIbMWeFyQciX3NvI703N+Y634cm7Jsr1+cCdcv8SzWNLeRargjL72N/Rs21cN9JeQTGdr+2tXuMc9j/+V6LO2VfOxVX/f+9uVwjJ/1rGOwJ5FTU7Q9hr5X9GJkT3/y9vgkenq2YvOa/Z72Asz0LMurxwf4eorj/AGeFB9nXxfR21vQie3NSrqyW+D3xWD0+CxPsc2TMrT/sKdtFJvulurvLsDb6ZsK980M23/R0zafNK43e9b9vwxtj6HvFfd7SJNKgz25ftLT/mHAl2EfefX4OO9p79/iQWBhirazneP1ts+YMkPfHp8Geq+kfwlPeiG2l+Y92J5n93pryZyC5X2vNrh+vw6YkGKds1Ls50vYEyLjfL4+CxR71vMBH3Pei+51l+XwnvlziuP8OFCaom2Jczzu3rgYcFaWfbh7fFpc6z9Cit4zbNDzPyn+tktTtA0CM53bVz3tP+F6LNUtp5TNHF7DgfT4JP7ercBnvO8/Z53l2MDAvd59hTj2Aj1/7/+MA5leW+w4WHf7Hf3Y532ebXwkTbt/eNp9MM/9LPWsn/XcIMftfs6z3U1kyGzR2/Dehv0A9Db2b9hUF/eXwl8ytH3d1e5bnsfO9fyDrkqzjS979ndLluObSt9UnO9mWScE/N2zzpYs/yC8gY9xnm/OJ/sp/tGmDXyw4yq8z+uqLNufjL1i6z3O0RL4jEuxzbenaTsPe4KcaNdBlpM+12u01bVeDykCJaftJzzHcm0ez8V7weCcNO0Cns+NIYc0NOc97E2BfEeG9jkHPtiTau9J/x/IHFgJcL1nnZZ0n3NnHW/gk/h7XJDluR+R4vi+mud71QCfz7KfMzztEyl4ncDyLOt+w7Pu9Vnav8/TfkO696VnvRUkf0+sJXM68l76vg43kiXwIPmiVi7Pp9/jGQdyY2CBj8GOHzs2y3pzSB7TGQOmDcXzy3Jc8+g71jRj2im22IC7fU7pxZ5t/C6X7xb6podekud+ZnjWz/j3zWO7r+b6XaK34b9pOWs1FB7z3D/dSS1LIiKTsKlkCSs9TVZj8//BXhX11stPWJFl/16fwJ4EJqwCvpZpBWOrT70Hm7ufMBM7+3WuDHbStYKmF7l8hOTn9SdjzE0ZD8hWGrrSObbRqJm+x16Xpu2XSJ6Z+2PGmKxzPTmv0ftci4L0Laed8Ed656ACuNJJYcvIqYzlrl60FXtFPZV3kfy5+b3JIV3J9R5ucC3+fLb1cvR+klPKNgIfMqlTAhPHY4CPYtOkEsrpO9dHNv9jjLk/UwNj04q8f7OP5vK3cbnfZElvNcY8ju1ZS0ik/H7dZJ9g98ckv3fOTtdQRHwkf2f1YE8Kd2bZB8aYlSTPwXIk2UsKu63DXqHPVuXymyTPt3VWHvsYTT5ujHkxUwNjzCZssJjgI7dqpYPGqWJ6G/aiRcIGkiuupVLmud+fyTq965SnbDXwfXnbh52qh/0mIstITkuPkXulOTUMNPBRQ+Flkk+uaujNb3db4fq9m+S5ezB2ErY1rkV95hZwvsS843uyBT7eev5fdU7CMjK2rPEPPIuvyraey6PGzpkwWN7nuf+tXFYyxqzCpiSNOs6JtXdOh2JvOxGpIvn1WU8e/6yMMU+QPNfFm9O0awTuci2aRG4nle8nebqBGzO8J90n8HFs5aycGDv/hTsXfamITMx1/Qze77n/HWNMV8qWyccTwfZ0uF2Vx347gf/OpaEx5v9IDrImA2/KY1857Qc77sytGTtmJyNjTCt27E/CLBGpTNP8fJKD398ZY9bneHwAP6X3ohKkeT+n8QOTQ0lsYyfHdH9/z87wfEarLdgU6Vx4x6gel7LVEHAuRN5E79gksO+H9+XwufUGI1k/5yl4AxLvNgu1r1SBUrp95eqDnvsPGmN2DXCbahBp4KMGnXPC9rhn8YoUTd2BzDNpvnDd20m1jaUkD6TdZTLU6ReRudgBzgnbjTH/TNc+hT+Q3MNwsnP1NRd357GfvKR4Xs8aY/IZCJrrP++RyPv6pwoYziC5N+y2XIJdD3dAvcAZ5JvKDZ773n+UqVzt+j2OTQXpwwnglrgWrerHP13vhYHT8lzfe0zFwPGuRV2kmZcjjXuwBVESFopITbrGHn8z+c1982fPfe+kx+m0YHugc7HBc/8Jk6HYRpZ1073HvMVLbs1x+8ChAPgF16J83gN/z6OtdwB/ut7Y0er+TL2aHt7XIt3fdij8AFth1O1zxphnUjXOoj/ZAv3NMMh3vYJmMjjzhL3Ts1iLGoxwWtVNDZXHSJ7k7EzsHBVuK1y/ewMl9/L/cH4/RkSqjTHu3qQVnvbZentO8NzPln6SxBizX0Q2YSeoA6jE5km/nsPqL2Rv0m/e55XvP7D+/MMbdk7Q6U2TSHWVz3uCu0dEZua5O+9V7tkkpz4mPIYdNzXbuX+RiExwroD3ISKnYuckSngwQ8rSKSQHelv68Ty8aadzUrbK3TH0VioEeMnprc2JMSYiImuAc1zHdwK59UIO9H2+NMf13sjjBNfbA5lP9S7vuhVp2nnfz439eB+495Xre6DeGJPqPZ+Od/Lfsdbj81r2JoeMiNdCRP6Dvimu3zPG/CzHTXgnKu3Tw54D7zrpJj8d6L5Stc91otVU3k7y/5v92IlS1QimgY8aKqnG+fgSJw8iMhkbMCSsTLOd1dgcWj/2hOh0kntOvOlv2QIf71W2/szivJ7ewCexzVwCn3xOGPI1wXPfe+U4m43YnobR1itcRd8T+VSluad57mdNPcpBdaqFxhgjIjfSO44iUab6/6XZztWe+94eIzfv83g/Ay8TnPJ55KFQn6lzXPdzvRqe775y7VHx8p60ZhL13G9K2Sq3ddONR/C+DwZ6USUsIiU5BKz5vA6QnE4H6Z/PaJXP6zHsr4WIfIK+KZs/McZ8NY/NjObAp8dJr+0vb+/97we4PTUERttJjRq91pJ8AjoOe2U4wR2w9JCm58XJe38+1XrO+J6TPatkC3zGee57r7DmwrtOrieOrf3YV668zyuf9J9EeuJgHt9gSTUvw7YUy3JNncpHugG5YPPn3YO/U6a7OfOwuFNOsl1BHOrnkYvh/Ezl9T4fwH5y7e0p9LrpDDRYTSWX98FgPJfRbNS8HiLyIfpmXfzKGPOZPDfl/Qz1J33Re8Eh3cWBge4r1/1kJSLz6dvTemOqtmpk0cBHDQnnRHqlZ/GKNL8/a4zJVK0l3TifE0muSLPNGLMly6F5ewcKkQM8EiuijcRjGgzLPPdj2KDbK5Ri2UD1qVSY4Iy7cadqLRARbxEOsBXa3GPUsl1BHNLn0c/1h/IzNdB9jbrPiZPeORjZGwN9H6gRSkSuBH5D8t/4d9j5o/Ll7TWdnGd1RLBlpjNtM91y73qF2k8uvD3zT5oRMgmtykwDHzWUvL0vZ6b5fWWW7bgDn6NdA5+9aW5ZSxOTXG0O+pdn7V0n3/SPwTCg/HGnys9Ar/wPB+8g7+fTpOvUe+4fb4yRAd5uyXJsuRQ58C7LdgXR+zw+W4DncU2WfWYznJ+pfPc1Ej+7eXHShd3H3VKA94CYwSuzr4aRiLwbG+S4g54/Af/WjwIvOGO8DroW+bFzyOV6PD7sVBBu6QII7/K5KVulN9tzv1+Bioj46VsNVosajBIa+Kih1Kd6lIj4RGQKyYNp0xU2SHiC3pQCwVbogvwLG0DfcTbzU7bKbIHn/mCO3cmVd+D8vJSt0pvLKPt+EJGF9A187knT3Pv69Ofvnq+/efb7Die1DQAROYLkHqtcriAOx/PIZjg/U/nuy/u5GAmf3f5wvw8qnHmglEoiIm8Hfk/yd/ttwPvzKNaRirdXfXke6y4muaR0U4bKlK8OYD/Qd6oL7/ZydSF2aoKENvKspKiGz6g6sVGjmzOvxB7Xoirs3AXunpoIyRP+pdpOM+CeIO5MEQnR90swl8Bnjed+Xl+kIlJH8lWnZgbWfV4o3uflTQHL5qRCHcgQ+jbJVzGjpCkDTd/3WD7zt/SLk7L2e9cibylUb29PpqIGCUP+PHLwEskDt48VkZJ0jb2csXreqoTe93M6A32f/ytlq5FvJL4PBmrUpR2OZCLyVmz5dr9r8V+A95jsk89m84Dn/oo81vW2zTT58GqSx57OEpGc0t2c9Dtv4JNxouMMvN/Vt+RRol4NMw181FBb6bm/guTA5185lr71jvM5ieTxPRszlAA+xJnbxp3SMcMpJ5yr95J8sv3kAK+cFUSK57XUmdsnV+8p8CENKhH5KH3nobghw5XDh0g+sbpMRAZjgLiXNx3ig3DoZN89oWor9kpsRs573F1Cd7aInDXQgxwIZ3yeuwBJEfC2PDZxMckFEtYZYw6ma+xxkYikK/mcyrs991flse5I4i31/aFhOYrC8paLDw/LUYwBInIRtkfCPfbmb8C7jDHeyoH9cZfn/uXu3uwsvFUovds6xBjTQ995o67KcT8XA7Wu+69lmuMvHac39SLPYk1zG0U08FFDLdU4nxWu+ytz3I478FmEraefaT+Z/MFz/79StvJwJo/8kmfxzXnsd7B5n9e3clnJCfzOK/jRDAKxvkjf6kS7gK+lW8+ZQ+d216JK4NrCH2Gf/b5O8sn1cifF7RKSKw7lcwXx5577P3YmER1Ov/fc/7qIZD1xdQLA//QszuczVQx8OZeGInIFyVUA9wD/yGNfI8lfge2u+6c5YzlGM2/FrUkpW6mMRORc4E6SC6E8AFxeqNLLTjaHu7e0nBwKJYjIecCxrkX1ZJ8Q1/vdco2IZBzb54xZ/YJncX//V19JcgD5mjHm6X5uSw0DDXzUUPMGJGeTPOBwZY7beYLeK/ZC3yucuRQ2SPgZtoR2whki8u1MKzgnaH8geb6cbdh/MCPFr0hOOXqPiFyVaQVnPqWbGeEVnZyA50Ls++n7JP8jagMuy6GX4Jskvz4fEpH/dAbb5nMsR6ep0JaO9+rg1fStEJTPFcQbsBOkJiwG7siz5wMRmeCkwxTCzSQPeJ4P/No5Acnkp8BRrvttwHV57vtzInJ+pgZOsPlTz+JfFujq95BzroR7v7N+KyIX57Md53N1vohML9zR9Zt3fNtYSN8bUiJyBjYodl90eAS41Bjj7VEbKO/cP98SkcUZjq2Ovp/t72a74GOM+Ts25S1hIvCLLN8tXyB5qos99L1glKuBfFerEUADHzWknBQsdwpakev3rON7XNtpAF5Jsx3IPYDCGLODvl/a3xCRm51AIInzZf4otus8IQ5cPZJOnJxS3t/xLL5BRK71XiFzBRJPYgPRLiBTSfHBMk1EZnpu80XkRBE5V0Q+JiK/B7YA99Fb2CJhL/AmY8wz2XbkXKX8uGfx14HHReQCp3JPSiIyR0Q+KSKPAy8Dp+XxHG8jeb6ZqwH3ifqruRx/gnPV9nLAfcJwIfCyiHwoU8qJiNSKyLtF5DZsj8FAK7oljqk9xbauAu5z5r/wHscsEbk7xTqfMMbkU2mtETsR5F0i8kVvz5eI+J2ekMdJTntZR/oJZUcFY8yN2DEcCUXAvc732LFpVku8Jkuciz3rseMe+nzvDYM3sD23CWc6z+U8EVmQ4nsi7ef1cCQiJ2LT2dyfgbXAJ4GJKV6/TLesxTKMMQ85+0sown6XXuYNSpwLRU8B7gB7PblPJP15PBf1gFu9/69FpEJErsVeHHP7co4p9Umc417oWtRD38wKNcINRu1/pbJ5jOTxDAlr8hwg+Dj26rbXun6UYv0fYCnJ40SuBN4rImuwvTkBbLWpVJNkftUYk08v01D5b+B04Bznvh+bnvdpEXkae+WrDJtuMNW13peAr9C/WbgH4tl+rmewJ32fc9LYclvJmOtEZCI2DTDxz/lUbLpFu4i8gK2Y1YVN36jD/v37U6I5sc8OEbkF+HdnkXdsUd5XEI0xL4it2HQrvWXIZ2CvqP5SRF4GdmDHDpViC4ssYBBPcI0xd4jID7EnKQkXABeIyEvAJuwFg9nYIifeK7a/NsbclOduvwD8BPue/j72AsZT2MmTq7BFE7yTHjYBVwzCFfDhcDX2vekeg3AlcKWI7McWnmjAvu6V2L//EYzA8TPGGCMiPyE5IL2SvmWEEyaRPK7xcPc2kqulgU0LTzWvWTYPknxxJp33YHtjEr22VcAdwDbnOyiCDRy8/0PrgYtz/QwaY54WkWtI/q58O/BWEXkGGzDXYf+ne6dl+LExpr9pbt7ennuMMQdStlQjlgY+ajikC3yylbFO1f4TabafF+ef7BXYL8xP03sS5sNOjHpimlW7gI85V1tHHGNMVETejP3nc6HroTB9e0sSvmeM+amIfGXQD3Dg6rHP7efGmP78Q8cY859OgPNbkk+KS+k7M3c6+c4AfgO9gY9bv68gGmPuF5GlwC0k580HgOOdWzYFncfGGPMFEdkHfA/bE5NwjHNLJQZ82xjj7a3MxVrgLdgB0hXYv+E5GdrvAy4yxrzUj32NOMaYbhG5BNuD/XWSx3WMp2+591R6gLyvhg+SH2FP1q8a5uNQOTDGtDhppn/GXnBLmEH6yUZfxxZZ2JTnvm4Um3L+I3oLGwVJ/50dx17g/I989pPg9Jx7C+homtsopKluajikC0xW5rmdf5K65GnegQ/YiQCNMZ8FlmDzorsyNG/CXk2fN1KDngRjTKcx5iLsycPGdM2w46YuMMZ40/6GWw+2TPhm7NXEm4DPYUsXTzTGfKS/QU+CMeZe7CR6n8KmUGYrpduDLVLwdWCOMebXee7vX9gUOa+786hglmq7r2MDnEuxn4OezGsANlj4X+BkY8wV/d13hmP6IbZX4Q/YMTvpdGB7rI7qZ9CT2N+j2MDvD6Q/gW8FfgEsNMY81999jUTG+i/sJJI/xPb0ZdOCTVO6BvuZSvXeHHLOd/IHsOMzfg48je29Gwu9c2OSU0nzTGwa8WsZmu4EvgscZ4x5MUO7TPv6DfazfgvpU7Nj2B6rM4wxXxxA1dV3ktyDtoPRWwzlsCb9mKhXqcOC2LlHTsHmIddiv0APYOfpeabapweEAAAgAElEQVQAcx8MCxE5DpsiOBH7z2IX8JwxZutwHtdIIiK1OIEVNhUtgD1Z3o8de7DeKds8ojljXE7CXm2txvaAtGF7djZiKxIVtJcny/EEsXNlzcb2rgn2M7UVWwo+rxNaJ3/fXVlxubvCknOV9jRsGmct9nlvBVYaYzJd2BhTRGQONp2wFvs+iGHfz7uwYys2jtbvMzWyicjR2NS2ydjv0T3YNNdnCjn1g/NZPxX7Wa/DXpzc5ewn5/RnNfZp4KOUUmpUyhb4KKWUUm6a6qaUUkoppZQa8zTwUUoppZRSSo15GvgopZRSSimlxjwNfJRSSimllFJjngY+SimllFJKqTFPAx+llFJKKaXUmKeBj1JKKaWUUmrM03l8lFJKKaWUUmOe9vgopZRSSimlxrzAcB/A4UZE9gIlwI7hPhallFJKKaUKZBrQYYyZONwHko6mug0xEWkJh8Plc+bMGe5DUSpn7e3tAJSWlg7zkSilRgr9XlBKuW3YsIFIJNJqjKkY7mNJR3t8ht6OOXPmHLl27drhPg6lcvboo48CcNZZZw3zkSilRgr9XlBKuc2cOZNt27aN6IwmHeOjlFJKKaWUGvM08FFKKaWUUkqNeRr4KKWUUkoppcY8DXyUUkoppZRSY54GPkoppZRSSqkxTwMfpZRSSiml1JingY9SSimllFJqzNPARymllFJKKTXmaeCjlFJKKaWUGvM08FFKKaWUUkqNeYHhPgCllFJKKTW6dEdjtHRG6YnGiBvwCYQCfiqKA4QD/uE+PKVS0sBHKaWUUkrlpLMnxsH2bp7f1siqjfVsPtBOTzROKOBjdl0pp86t5fgZ46gpDVMc0gBIjSwa+CillFJKqazauqM8t62B363aysH2nqTHuqNx1u1pZd2eVmqe38UHTp3JkhnVlIX1VFONHDrGRymllFJKZdTRE+VfWxr42SMb+wQ9Xgfbe/jZIxtZs7WBjp7oEB2hUtlp4KOUUkoppTLa09TFdf/cTHc0nlP77mic3zy+mT1NXYN8ZErlTgMfpZRSSimVVkdPlNWb6mnrzq/3pq3brqe9Pmqk0MBHKaWUUkql1dwZYfXG+n6tu3pjPc2dkQIfkVL9o4GPUkoppZRKa39LN7v7mbK2u6mL/S3dA9p/JBqnubOHxo4e2rujGGMGtD11+NJSG0oppZRSKq3WroGlqvV3/XjcUN/Wzcs7m3nWKZQwo7qUU+fVMr26hFKtGKfypO8YpZRSSimVVjgwsASh/q6/r7WL363eylObDh5a9tKOZh56bR8fOXMOy2bV6FxBKi+a6qaUUkoppdKqKw9THOxfgFEc9FNbHs57vc5IjFUb6pOCHvdjN63eysH2gaXQqcOPBj5KKaWUUiqtcaVBTpxV3a91T5xVTXVpMO/12rujKYOehIb2Hl7a0URPjuW1lQINfJRSSimlVAZl4QBnzK9D8lxPgNPn11GWaixOdxs074R9a6F1H0Q6oOMgtO6Btn1U+iOcc+QEqorTB00H23uIa6EDlQcd46OUUkoppdLy+3zMGV/KeUdN5IFX9+a83nlHTWTO+FL8Ps919ta9sO5eeONBmHEKzD8Pdq2BzSuhaTuEyvBNO4nTp69g0jmz+NEjW2jq6FsSe3x5GL8v33BMHc60x0cppZRSSmU0riTEZcdP5dwjJ+TU/twjJ3DZ8VOpLgklP9DVDK/cCS/8EcLlNujZvBLu+jC8fDs07YCDG5EX/kT80e8xO9DAO0+Y2mf7EyrCLJ5aRdCvp7Iqd9rjo5RSSimlMhIRJlSEefdJ0zliUgVPvHGAl3c1E4v3ppr5fcLiKZWcNq+W46aPo6YshIinR6bjILxxv/19zlkQ6YTVP4F4FIhCpB38lfhEKG7ZTNeGBzn2iHdTVxbmQJstZlBRFODqU2dRXeoJqpTKQgMfpZRSSimVlYhQWxbmjPl1HD+9it3NXWzc30Z3JEY46Gfu+DImVxZRXhQk5JSwjsfjRLpiRHvihIoDBA5uge5WO15owiLY/hR0t/TuJNIF4QoQIeATivY8Q/jYy7l8yVRe3NnEjOoSls+pYVJlEUX9rDSnDl8a+CillFJKqZyFAj5qysJUl4ZYMKEcYwwiQtAvST08PZ1RDu5uY/vaBup3tLLo9ClMKS7GdMUIhHz4AiHoakreuPSmrgkQjLRhfHDmEXWcOq+WoN+nc/eoftPARymllFJKWfEY9LRBzCkmECyGYAl4U9awPUChQOriAj1dUbava+Clh7cTi9p0uH1bWphwwlR6wjMItW+hqKMJqZnn3iKEy5KCHyqnIf4gxcEAGQq8KZUTDXyUUkoppQ53xkBHPRzcDJsesaWmfX4Yvwhmr4DKKbYYQY7am7s5sK2FBSdNRHxCR3MP+7e30nncFEpO+yCd932P4JYn8R95AVK3EA6sh+Jq8HsmO513DhRVFPSpqsOXBj5KKaWUUoczY6B1N6y5CTY8BLjmxtnzMqy9C5Z+EOadC/4QxHrAF4BgKXhLVQPRSIxQMM4xJxXhj9neo/icCnqOm8KBfTF8E46h5B0/Ir7rafz+EJz7HVvgoHWvDbbAbn/R22y560DRkLwMauzTwEcppZRSagzqjsboisQBQzjgT18MoKsZXroNNvwDMDYQAie9Tezkok/+1AYg4xfCczdDSS3MPh2qpkPROPD3nlL6Yh2E9j1D5zO307X9RTBxfLUzCR9zMZNnn01DawlUzab8uJlADFMxBS75X9j1HNKw2abWzTgZKqdC8bjBfZHUYUUDH6WUUkqpMSQai7O/tZsXtjfy0k5bcvqISRWcNKuaCRVhQgFPANS+H974u+3JOTS+RyBYBIFiW2WgowGeuwnO/U8wcXjtbjsJ6fSTbG9Q1QzwByHajez8F933f4doa8ehXcTrt9L5yM8pjbYxackVdO7Zz4G/P4U01+MLBihefAzFi0/HN+ssJBCwQVaKcUVKDYQGPkoppZRSY0QsbtjR2MkvHt3I6/taDy1/dksDD7+2j0+dPY+5E8p6J/6MdMHWVdC8y/b8mFjvxjqxqWfF46CoEvavg85GmHQMbHvStt32pF224sswbobdxmt3EfRF6fEcWzDsx7/+bmT+CtqfW0/jrbcRLgkgIrQ9+hj4fFS85S1UXnA+gZriQX+t1OFHp7tVSimllBoj2ruj3PvS7qSgJ2FXUye3rtlBS1ekd2GsB5p2QGdDctADQNymubXssj1BRRU2yAmVJjfbv84WRIj2QGcTsucVAiE/gWDyaWa4xA9tjcQ2rKZkznSCYX/yBKfxOC133UX7qtXEOzsH+Eoo1ZcGPkoppZRSY0RLV4SnNh1M+/hLO5rY39Jt78R6INqVND7nEAPE484vxhYeMHEoqYZod9/2m1ZCrBviEcDg8wslFSGCIXuqGQj68AlEW1og0o0/HMDnT30a2rpyJbGWvoGbUgM1pgMfEVkmIneKyF4RiYhIg4g8IiKXp2nvE5FPi8grItIpIgdE5HYROXKoj10ppZRSKl/d0Rgnz6nhy+cv5HtvOYqvXbiQixdPoro0BEA0bmhod5LQulqgYQvMPNVWUUtibKBz6G4MyifZsTxN2/vuuGkbdDbbtLjKqQjgD/ooqQpTNi5MUVkQH3Ho6cE35Shi9Q1ph/BEtm8nsnvXgF+LvMUiEIsO/X7VkBmzgY+IvB1YDbwN2AHcCbwKrABuF5FrPe0FuBX4MTAVuA9YC1wGrBGRk4bs4JVSSiml+mFyeRGXHjGR8uYoLeubKKqPcOHc8XzlvIUcNbmCgE+oLbNBEJEOWHs3lNTAnLOyb3zBBRAqs6lxqbQfsGOB5p8H2JoIfp8QDPsJhv0ggn/+6cSLJ9L+zLMZdxVvb8/jWQ+AMTZ9b/96eO0eWH+fDQa7tcdpLOp3cQMR+UYhDyQdY8x/5ruOiASAX2ADu3cZY251PbYceBT4oohcb4zZ5Dz0AeByYANwmjFmn9P+MuAO4E8istAYo5cClFJKKTXiRCNxmvd0sOqeTWze0nxo+bjaYs64eDYfWD6Th17fT125My9OPAY7n4H5b4KTP2kDl90v9G5Q6J3S54QPwqzTbWpcqlMhXwBCJXb8z/zzbOCw7l6IdCIA4sPMOBnf0e+la08jnS+9lP6J+HwEamsH+GrkIBH0PHczvHF/bwpfuAKOvhwWXgylNYN/HGrIDKSq27dImuFq0OQd+AALgTpgvTvoATDGPCUiDwJvAZYAicDnc87PLyaCHqf9nSJyD/BmZ507+3E8SimllFKDqrO1h+cf2Ea0OUJx0E9nxBYraKzv5KE73uCyf1/Mu5ZOo7zIOf3zBWy56id/Bqd9Fs6/FrY8Aa/fB/UbQXww5Tg48q1Qt9D2hFQDkRSFB6Ycb3uOAMomwLHvgbnnwu7nbNGDCYuQymlE9rdy8IafQ7Q3ePJVVOArKcF0dxNrbKToqEUE6uoK/vrEjaGtK0pjRw/7WrooCwcYH45TMetMQgfWw4H1tmF3C6z5ndN7db4t663GhEKUsx7MIuv9DaxSjLpLqQFARGYBR2ILN96Xot0d2MDnEjTwUUoppdQIE4vG2belmbbGboIBYXxFmM5IjM6eGMZAkfho3NrC+AmTektZh8th+jLY+DCs/D4sutT26sxewaGJTE0cOurhud/BpGPtOJ/GbZ69C8w9x1Z9SyiusrdxM+y2fDa9zsRbIBAAE6do8VGUnXIq4TkzEDEYhMi+BvzVNfjKywv6+sTjhj0tXfz1hV08saGetu4ovng3R1T08PaTF3Lk8s9Q/MR/Q+NWZw1jJ3SdcbIGPmNIIQKfN2HTwwppAfDAANbf7NwWisg7jDG3JR5wUt3OA7YA/3QWH+P8fNUYE6Gv5z3tlFJKKaVGjHjM0HKwCwBBCPqFgE8oDQds3CHQ1tCNibuuKYfLbcCyeaXt5Xj+Znjldtt7UzzODvZv2AxvPAAVk2Dpv8Hmx201uISaebDsGphwFIhnYlSAQPjQrwKEpk2j7qPX0LN9KyVHzsXXU4956WZM0258VRMoWXwRjK9CgsGCvj5NnRFueXY7K18/0PuaRaOs3bKbXQca+eo7TmPBokuRVT/uXengptQV7NSoVYjAZ7cxxhv6D4iIlA1kfWNMTESuAu4FbhWRL2BT2iYBpwLPAu8zxiQ+udOdnzvTbHKnp51SSiml1IghAqGigGeZ4IdDuTnh4kByJTWfH8YfASd8AP51o63cFumwE5ommDjULYAzvmR/3/SYXT7+CFjyAaicalPftj0FZbVQNhEwdvyQiA18QmXgt4GML9pCeOYEimZNxLzyF+KP/wpiPfjCYaStBPY+hSw83267YlJBXhtjDHuaO1m1od7zotmer6a2Tlat28W04xdTWlpnxzqBHa8kY7YO2GFJjOlfNpmIJIq7H22Mea2gByWyCHgFMMaYFJcPct7OMcBdwCzX4lbgf4H/NsZ0OO2+AnwX+JMx5r0pthMAIkCPMSbsfTzNvtemeWjOjBkzwjfeeGPuT0SpYdbuVNcpLS3N0lIpdbjQ74WRJxaN097UTbpTu9LKEP6gvzf4Mc4cPSZug5eeNoh0c2ikgfggWGx7hgJhiEdtD4j4IRCyPUI9bfZncZVtH+2C7jYb+Ph84A/bACIQtuv1tNuAKxaxAUbiYAz2OETsdoqr7BibAgQexhhau6I0dXiTeox9TiZOKBigrrwIf2c9RGzPGeFy2/Pl6/ep6GHlqquuYseOHa8ZYxYN97GkM5Aen287P/cX4kA89ru23y8icgXwO+Bp4F3Y0tSTgc8DXwPOFpEznNS2Q18BA9mnUkoppdRw8fmEcEmQ7o5In+AnXBLAF/D1Bj3xmE1Z62m3RQ6CxVBSawOBuFN4wB+yj4nPBiT+EPiCgLE9Q+0H7WOltTaIatubnBom4gRH7c72q20AZOLQ3dy7n+RnYbfZ0+70FBWmxyXdnEGIH4zpHbCeeN38IRv4aI/PmNLvwMcYM6DAJMu2DzCAwEdE5gE3A/uAi4wxiWLwG4APi8gkbKGCDwDXYXuBANJdtkosb8v1GNJFuyKytrS09MizzsqhXr5SI8Sjjz4KgL5vlVIJ+r0wMnV3RGjY086OdY20N3dTXBpk6hHV1EwppTgxf09Xi63c9uwNyUHOtBNh4UUw8WgIltoeG694DPa8CA/9xJasXvpBmDAJ7vtsb1W0Q1GXsdspn2gDmVmnwZlftQ9dfxZ0NfXdfrDEFlDwBWD5L2DiUQV5XbbUt/HlO1+hvSeW/ICJQ7SL9540jdPmF1H09P0w6UiYsxyqptueLZUTX6r3ywhTiDE+I9G7gCDwgCvocbsNG/iswAY+iSmIp6bZXmJ5iqmKlVJKKaVGhnBJkAmzKqmeXEY8FsfnE4LhAD5/IqXMQNN2O6bH3eMS67Fje7ausqWoj3uPTVHz6mmDDQ/ZoCdcDpOPs/cPrO9NV3PSxwAbKBVX2blx1v8djngzTF/u9Byl4A/39rIUMMWstizMJcdO5tZndySn94iPOZPrOHnhdIrKgTO/Yp93queuRr2RH5r1TyJQaUnzeGJ5tfMzMYvWUSKS6pN4vPPz5QIcm1JKKaXUoPH5hHBxgOKyEOGSYG/QAzZFzVuZzWvL49DVnPqxjobe4gfTTgIE1t9r75u43a6J4URBNgjqaADiNiVu3b02HW7J+/tuW3xQ5KSX1S2042sKpLwoyAVHTeQjK+ZwxKRySsN+JlSEuWTxJD51zjwmVhXbYKdsvAY9Y9iw9fg4c+fUAVuc1LZC2uv8PCHN40udn1sBjDFbRGQdcARwEXC3p/3lzs+/FfAYlVJKKaWGVixqx+Jk0ro3zfgbbHnrbmeEQGmdbbd/ne1JikdJOVw60u4UOwjA3lchHoF558HTv7SBGIAEoKzO9vggsOACW9wgByYaxfT0YBKTovr8SCiIL5ScplZdGuasI8ZzwsxqIrE4PoGyoiClIT+SdhCQGksKHviISDVwsXP3bmNMi+fxadhUsxOdRXERuQ34sDEm5zE0WfwV+AZwuoh8xBjzK9f+lwGfce7e4VrnR8D1wA9E5EljzH6n/duwk5duoW9ApJRSSik1evj82XtSiselnpPHmOTiBT5/b0pbojpcKsaZDFWwwY+JQ81suOhH8OTPbHW3UKl9rKgKjnmnnUg1WNx3Wz3tEItgfCHind1EG5rofv11enbtJNbYaOcsKi0lOGUy4XnzCE6ciK+8/FAQFA74qSvXKm2Hq8Ho8XkL8FvseJg/uB8QER92bp2j6a2k5seOyanAjrsZMGPM8yLyQ2wFt1+KyMeA17BV3ZZjU/yuM8Y87FrtRuBC4FJgvYg8AtQCZwBdwHvTTG6qlFJKjVkmFiPe3o6JRMDvx1dS0udKukrPRKOYWAzx+QoyKWc0FqetO0okZntWQgEfZWE//lwHlgeLbVCx7t70gcrMU6Goou9yEVuZLaGr2c7PUzYBWvckGtGn18fnOt0cN8OuEyqFeefClCWw+wVo22d7eKaeCKU1dvxQ0hPvgqYd0NlELFhDz859tD70EB0vvYKJxOk9rXTv10fRkUdQduaZFC9ejL+qChkFA/DV4BmMwOcc5+c9pu8kQW8HFmM/Ea8AK7EFBo4GLhSR84wxDxbiIIwxXxCRJ4FrgCXAAmz1tseBG4wxf/a0j4vI24FPAVdje63asfMAfcMYk25eHqWUUmpMirW00P3GG7StWk1kzx78FRWULjuJ4sXHDPehjXjx7m5iDY10vbaW6IED+GtrKV60CP+4cfiKivLeXixuaGjv5o19bazaUM+Oxg4EmFVbymnz6phdV0p1aSh7ypbPD9Wz4ejL4eXb+j5eMxcWXmxLSadSNcOu37AZdq6BBRfaSnD/+q0NjFJNIhQudx6Lw9xzIOyksCWKCJRPgHi8d8LTPk8+Agc2YFp3Ew1Oo+0f99N8282Yzk7bvnyis57nucfjdL26lq61r1F6yilUXvpWQlOmFCQAVaPTYAQ+i7CBzdMpHnu38/NVYKkxpkdEioCnsAHRe4CCBD4Axpi7sIFLru1j2JS3HxXqGJRSSqnRKNbeTts//0nDH/4I0d7xHp3PP0/Z2Wdj5s5FAkObMhTv7ibe0kq8qxMAX3GxTWMK5zS3+JCJd3XR9eqrHLzpJqJ7esfTBCaMp/qqqyg++mh8xSnSuNJtL27Y09zJzU9u5enNDUmPbT3YwcrXD3DmwvFcceI0JlQUZQ9+Sqph8Ttg3EzY9KjtSQmVwoyTYe7ZUDkt/cQ3RZUwe4UNfFr3wMGNNvh55S/QUQ9Ewbh7faR3rM64WXYfQU/g5w/Z/J90ulsxXU1Eg9No/OPvaX/ovt7Hot3Q2WTHB6VKzwMwhvZVq4js3EntRz5CaOYMJDBWCxurTAbjr17n/NzsXuikuZ2B/ST8xhjTA2CM6RKR3wC/pLfogFJKKaWGUay+nqbbbk8KehLaHnkEM30a4s/95H2goo2NdDzzLG2PP073hg0gQnjePMrOPJOSE5YQGFe4CmADFa2vp/6664kdPJi8fN9+Dl53PRO/+Q1C06blvL3Gjh7+/Mz2PkFPggEeXb+foqCPd584ncqSHFIRS+tg7rm2MlssYnuCiqroMn7aO6PETBd+EcqKAoTdAW6oBOacaXt79r4M6+6BUz4N530XHvwKdBwEYr1xT/kEG9hUTIPTP297Z/IV6yEWqKP5zr8kBz0JPW0QrwZ/5kC8Z+tWDt5wA3Wf+iTBSZPyPw416g1G4FPj/OzwLD8KO47HAA94HnvN+ZluHh2llFJKDZF4Tw8dL75IvD3VVHhOm85OpB8pW/0Ra2mh9cEHabrjzt5UKmPofv11ut94g1jTO6k4/zz85eWZNzQE4t3ddD73fJ+gJyHW2EjHmjUExo/PqacqHjfsbOxk9cb6rG0fXb+fc4+ckFvgA3ZyzkAtAJFYnH0tXTy9eT//2tJAS1eE6tIQy2bXcMLMcYwvL8Lvc3qByifDqZ+GZ34DO56B539vy1Nfdh2s+5udr6ejHkpqYPyRthdpzll2fI/4bIEC8dn0NMk+5ibuK6JrwxZa/3p76gbpxiql0L1hA60PPUzlpW8dEe8XNbQGI/CJYicPrfEsP9n5uc8Ys9nzWKJYvI6WVEoppYZIvKuLWHMz0X37MNEowQkT8VVVIqEQ8c7OLCvHU4/nKDBjDNH9+2n+6z2p92cMzXffTckJS0bEiayJxojs2Z2xTWT3Hlt6OYfApyMSY/XGeuI5vNRdkThPb25gSlUJxaHc0xCj8TjbDnbws0c2sLm+N9jd2djJyzubeWpTJdesmMPUqmJ8PgF/wAYxp30ODm6AjY/Ci3+2wc2J/w4nfggi3bZduMJOYOoP296g3c/DgdchUAQzltu0OnfBhBRirZ003/IHW4o7FX8ofWpeCi3330/JspPwlZVpGevDzGAEPruBOdiCBY+5lr/J+flkinUShdqzX85QSiml1IBFm5pof/IpWh98kMjOnQD4x42j7IwzKH/TuZSdfjrN7h4WDwkG8zrZ7C/T3U3Hs//C9KSfcNN0ddGxZg3BSZP6VTigkMTvw1eRoiKai7+83FYXi3Rh6y8HbKWzFKKxOPtbu1M+lsr+li5i8TiZB80ka+mMctuaHUlBj9sru5q558VdXLl8JhXFznH6AjaNrbQGJiyyY21MHHwhOwmpOxiJRaD+dXjixzZQOrTh22HRW2HxO+3EoSmYaJSeLVvp2Z4hmCyqTD++J9U2e3pof/IpglOm4i8tyXk9NfoNRk2/Z7BlNT4sIqUAIjIfWyraAI+mWGe+83P/IByPUkoppVzinZ20r36ShhtvPBT0gE3Dar77bprvugtfOEz5eeelXN9XVoavpGRISgObWIxYc3PWdrHGJtsLNcwkHKZ06VIkTclvCQYpOXEpEu+Al/4Ma26EjY9Ay+7kOXIS7YXeFLMc+H2+vAJSYwz7WrpYszX1+KGEJzcdpLEjRfDpC9h5f8onQsVkKKt1Uthcx9DZCM9enxz0gJ3w9JU7YNtqW646hXhXFx3PvwDFlbbnyJ0a5/PZdLpweU4pc26dL75AvCN9KqcamwbjG+tG5+dCYK2I3AGsxqaxdWInL/U61fn5WorHlFJKKVVAseZmWu6/P21vTtvKx4keOEDV5ZdRdNSipJPY4OTJ1H7kIzBEVbHE78c/ripru0BN9sHtQ0FECEyaxLgr3tX3NQoEqHrH5QSrS5FH/wueu9mWlF753/DAV2Dvq32Cn3DAz4KJuafwLZxUTsjvOr0zBiKd9hbvmyoWjRs27m87NC9QOq1dUXY0eIdv58AYaNwGu19M32bTo9DVmnr17m4iO3aALwgltVA1zfYOlY2HyulQMi55nqAcRfbsteWw1WGl4N9axpjHROR3wAeA6cA0egurf8sYk5TOJiIh7Jw5huTUOKWUUkoNgp7t24nu2ZP2cROJ0Pnyy1S++c3UfeIT9GzfQWTXTvxVVYTnzcdfVYk8mSpzvfB8RUWULD2R5nv/hulK3SsgJSUUL1kyYspa+8vKKFuxgtDMmbQ/+RTRg/UEamooXb6c0ORa/K/fbse6uDVugVU/ggu+D5W9tZ6Kgn6Wzarmry/soqUrzRgXx4SKMIunVhIKOIFPZyM074TtT0OsByYeDbXzbQDht6eAAuTaoeTrT2pjPArNO+gzqalb8y6Ip54j3vREiOzb5xyA3978YefMcgCpltEokb17CU2f3v9tqFFnsC7X/Bs25e3dwCRgF3C9Meb/UrS9AkiMatPARymllBpkmcbL9LaxJ6KB2lr81dUUH30U+HzIMPSqBMbXUfW2S2m85da+6Ww+H1WXvY1Abe2QH1cm/ooKio46itDs2RCLgd+PLyjI07+E9X9LvVLzTlsmurQuaSLPmrIwV5w0nRue2EIsTZWDcMDHe5fNYFyiolv7AXjlTjuOJtHT8/JtMPUEWP5xqJoOPj8Bv48FE0GbSG8AACAASURBVCsoCvroiqRPFawuDTG9ph/jYcRv09EyKa7OOAePiXiCogKNLcvlc6DGlkEJfIwxBrjOuWVrezNw82Ach1JKKaX6Ck2bhq+khHhH+tSl8Ny5hyZ5FJ/PjqcYJv7ycsrOPhv/uGo7j88bb9hjXLiQsjPOoOS4Y/GXlQ3b8aUjPl/ycR3clD7oSTjwOsw9JynwKQ0HOH1eHUG/j3te3M12T8rZ3PFlXHrcFI6fMY6ioB+iPTaAeinF9eada2wAdNI1dtwMUFsWYvmcWh5bn36o9enz66gqTl2AISOfz/YyVc+2k56mMutUO04n5fqCBIODkpYmI6SHUA2dggc+IvJm59etxpiXC719pZRSSg2Mf9w4Sk85mdaHHk75eHjBAkKzZ42o2e0DVVWUnnoKxccsJt7VDQK+cBhfeTm+NIUERhzx2VSteCx9m0Dq0swVxUHOmF/HMVOreGNfK9sOdiACc+rKmFNXSmVxkHDQ6TXpaYVNGZJotvwTjnnnocCnvCjI5Uum0tDezUs7+haSOHVuLRcePZHScD/fDyXjYOm/weM/gK6m5MemnWQDvVDq3iQJBglOmkR3S0v/9u0RN4ZY3NAtfsbXTaCxvYeAXygv6kdQp0adwfhGuxubyHkVoIGPUkopNcL4ysqouOQSYq1tdDzzTFKRg9DcuVS//0oC48YN4xGm5guF8NVkSZsaycLlMPk42+uSkthAIJC6J6Io6GdipZ/ashAnzrKjBAI+IeD39MbFo9C2L/1x9LRBd9uhu36fMKWqiE+cNY+1u5t5ZnMDLZ12AtOT59Yyf0I5NaWh/s95Eyiyz/uC78PmlVC/AYJFMH0ZTDkhbSlrAAkXEZo+je7XX+/fvl1icUNrd5Smjh6KZs2i1fj546rN1JUXceHRk6gr1x6gsW4wAp82oBSt0KaUUkqNSOLzEZw0iZqrP0D5uefQ+dLLEI0Snj+f8Px5+Kur7Tw9qrCKKuDIt8LetRBNkbo161SomZu1SlnA7yOQaaiVLwBlE6Bxa+rHw+V9Usv8Ph8TKoqoLg2xZMY4YnEbVJWE/H0Dq/4IlUDdAluVLdpte7WCpbaHK9NTKS6i5IQTaH34kQFNmGuwk8HWt3WDgdrlS+kKhnlxx06aO+spDvq5+JhJlIRGTi+nKrzBmsB0HqBhs1JKKTVCic9HoKYGf1UVRQsW2GXB4IhKbxtz/CHb83Hmf8Crd8KeVwBj58GZcxYsutRWXBuocDnMPRt2PEvKamqzV9g5cVII+n1UFg9S6qAIhErtLddV/H5CM2YQnj9/QL0+sbihtSsCBvwlJVSdcjJP7O+iudMWTnh43T5On1+rgc8YNxh/3Yexgc8pwNDUulRKKaVUv4jfjxQXD/dhHD7CZTB9OYw/EjrqIdIFpbVQVOVMxFmAimX+kE0hO+698MptrrmBxKaXHf12COU+N9Bw81VWUvW2t7H/hz/sW+EtR8YYeqK2at3MKy6js7Kax57onbx3T3MX7d0Zxl6pMWEwAp9fAB8EPiMiNxljDgzCPpRSSimlRqdAuHcSzsFSWgNHXw4zT7E9P9FuO49PzRxbXnoYq/TlyxcKEZ4/j4pLLqH5L3/p/3ZEqF5yLKWnn87929rYWt9+6LFwwEcwMHpeE9U/gzGB6ToR+TBwPbBKRD5qjHmk0PtRSimllFIZFFdBUSWMm2Xv+4O2qtwo5K+ooOJNb8J0dtJy//35r+8TJhy/mJoPfZA3IiH+9vKOpMeXzBhHRZGmuY11g1HO+kbn1zeARcA/RGQ38CLQAGTqRzTGmA8W+piUUkoppQ5LIraC2hgQqKul8tK3Epg4gaY7/0I81xLXgQCV55xD2fnns4kSfvXgBrqjvZO1Tqos4q3HTaGsv+W61agxGH/hq+gdSZf4Odm55UIDH6WUUkop1Uegpobys84iPH8+bSsfp+OZZ4g1NaVsK6EQxccfR9mKFRTNnw/l5VS3dvOOpdN4YXsjsZjhiMkVLJtdw+SqosJUr1Mj2mCFtgUYmaeUUkoppVQyX0kJ4blzCU6eTMVFF9KzdRuRHduJNTZhTBxfaRmhqVMIzZqNv3oc/rKyQ9UKJ1UWc96iEKfPq8UARQEfxVrJ7bAxGGN8NFxWSimlVFYmGiXe3k6sqYnowYOYSAR/ZSWBmhp8FRX4wjozBgDxuDPpaAuYGPiCdk6gYGlhqsCNQuLz4S8rw19WRnDSJMyS4zGx2KHHMpVmDwf8hDNOhKTGKg1xlVJKqYGIx6C7FToboKPRnpCW1NifWSai7Pcu43FaI60c7DrIvvZ9VIWrGF8ynopwBUHf8E08aiIRYu3tEIshgQC+0tK0J5/RpiZ6NmygbdVqOp57DtPpTOgpQnjuXEpPXk7xkiUEx48/vCdTjfZA01Z47V7Ytgo6m+zkpLNXwMILoWLKqC1YUCji8yFFY2Mc0/9n777D46rORf9/1957+oxG0qhbsmzJFXds3MFgDHYoSYAQykkPpJ6bhJtzOHlIPeSX38nNPSe9kQoJIQkJoZhAYkx37x3bclW1rC5Nn9l73T+2XGQVS7bGBdbnefwM2m3WSEKz33nXel8ls1TgoyiKoijnykxDRw1s/xMcfgNSUbtU8ch5MP1eyB1t91QZRpZl0RBt4JmqZ1h/bD0JM4FAMCk0ifeNex+V2ZU4h/k5ByPd2kp8124ia9eSbm3FUZCPb8ECXBMmYGT3bJaZbm6m4+8v0Ll8OcgzGmxKSaKqikRVFc433iR0/304KyrQ3qnBT0cNvPpf0Hro1LauBtj+R2g5AFd/EbKKL974FOUyoqalKYqiKMq5irbA2h/D/n/YQQ/Y/VIOvQZv/F8ID38ru45kB3/d/1feqHuDhGk3ppRIdrXs4pc7f0lLrGXYn/Ns0u3tdD7/PE0//CHRDRtIHjhAZM1ajv/PdwmvXInZ1XXyWLOjg84X/0Hnc8/1DnrOkDx8mOafP0Kqrg55lmPflpIROPhKz6DndLUboW6znRVSFOWsVOCjKIqiKOfCSkPzfqjdBEAkYfK9lbVc993tFP77Wpx3/YackeOZN3cuX/va16iurj556kc+8hGEELz22muDfrpHH30UIQRf/fpX2XBsQ5/H1IXr2NG0g6R54W6EpWWRqqmhY/nzvQMZy6L9qb+RbmxESom0LJJ1dXQ8//ygr5+qrib88itYkegwj/wykAjD0bUDH3N0NaQiAx+jKAqQ4aluQogy4L3AlUAe4GXgim9SSnl9JsekKIqiKMPCTMGxnQCsO9TJ7Y/soaEjidepMXd0FoVZDjq0HDYeOsi6b36T73znOzz//PMsWbLkvJ62I9FB2kr3u/9o11HSVvqCTXeT8TjRjRvtBfh97U8miW7egqO0FJlOE1m1GtL9j78vkXXryFq2FN3vG44hX0asswc1qRjIvr/3iqL0lJHARwjhAP4b+DQw2BV3glN9fxRFURTl0qc72FEbZvH3dhBLWfzH0jK+etNIfK7ut76Jt2Jd9QmeeXElDz74ILW1tef8VLfddhuz58ymxqzhN0d+0+9xfocfTVy4CR3SsrCiA2djrFgUpMTq6iK6oe9s1UDM1lZiO3ehFxS8s9b66E7ILoeuY/0fk10+7OvIFOXtKlMZn8eAu7CDGRNoBfKxA5taIBc48bGNBJqBd2AOW1EURblsGS5k6VV84LcPEEtZfOOWcr5+S3nPY8rmoLm83H777Vx//fXU1NSc89MFg0GCwSChaIjS5lJqw72DKIfmYFbhLFz6hSsDLRwOnOWjBjzGNWo0wjCQ6TRmW9s5PU+6uRlME4YS+Ehpr71KxwEBTp9dfOJy4cqCcTdCe7U9tTLSTI/PiA0XVF5nvy5FUc5q2D8SEkJcD9zd/eWfgCLg5PQ1KWW5lDIATAZ+2b25BVgipRw93ONRFEVRlIwQGv/cUMXOugilOU6+/K6RPfdXXgf540+WtA4Gg0yePLnXZd544w0WL15MIBAgKyuLm2++mT179vQ67sQanx99+0fcPeFuspxZAGz43gaevPVJmnc2M6ljEvffcT9ZWVkDXqu9vZ0f/ehHLF26lPLyclwuF6FQiGXLlvHSSy8N6duguVx4rpyBUVTU535nRQWuiRPsktT9TIcblKGem4pB017Y8jt4+Zvw+v+Bmg32uplIs73v6Bqo325nVFKxcx9bpugO4mVX03nTT+i64b9JL/0vGLfU/p1yeGHuZyFUCRnO8KVMi1jSJJEyM/o8ipJpmcj4fLT78RDwL1JKKYTo9ddQSrkH+KQQ4k3sDNHzQogrpZSX4F8eRVEURent7ytfB+DOW27AKBlplxn2huweK5WLwZs34PnLly/nBz/4AZMnT2bp0qXs3LmTF154gfXr17Nr1y6K+ggmDM1gct5kHprzEBuObeCw9zBHOEJZTRlf/epXB3WtdevW8bnPfY6ysjLGjRvHvHnzqK6uZsWKFaxYsYJf/epXfOxjH+vxvFJKrGgM0ikwDDub0t0808jPJ+/Tn6btiSdI7N9v79M03JMnk3PP3ei5uQAIhxPN78cKh4f8vdZzskEb5A1+OgEN2+DVb0O83d42aqH9szm6CqpWQv02sFL2vryxMPZG++fmy78kmoIm0iaNnQk2HG6h6lgnLk0yq3wEE6fcT2jSHWiaBoFicPkzNoZk2qQ5nGRHbTu1bTGCHgdXjcqlIMuF16k6oiiXn0z81s7BzsP+WA6i9qSU8nEhxLuBO7DXBH03A2NSFEVRlGG3dds2AK5cfAcsudm+kRaG3bzU4Tnr+d///vd5/PHHueeeewAwTZO77rqLp556ip/+9Kc8/PDDfZ7nMTyMDo6myFfEcznPsZGN/P6R3w/6WuPHj2f16tXMnz+/5+vZupXFixfzwAMP8P73vx+/376pNsNhUjU1RNasJd3UhJ6bi1U64mRjUc3pxDVuLAUPPECytoZ0czOOoiIcJSXoWVmnjvP78M6aSfi11wf9PZaWhebz4Z4yxW6Qmkqheb2IgYKTWBtsevRU0JM1wu6rdGwH/PMhO1viyTmVKWmusv91NsCMe+3g5yJKmRZVjWF++HIVDR3x7q2SV6taWTQunw/OG0Vh8Oy/X+cjmbbY3xjmp68eoKbt1GfSf9tSx8cWjmZ+ZQifSwU/yuUlE7nREx8pvXXatpP56e7CB2d6Ans90B0ZGI+iKIqiZERLi90zJ7+4BPwF9g12oHBQQQ/AvffeezJQAdB1nYceegiwp8Cdjcfw4NAcQ77W6NGjewU9ADNmzOCzn/0snZ2dvPrqqwCYkQiRNWs49vA36XzhBaIbN9L1z3+SbmrGikZP9ujRnE6M/Dy8M2YQWLwYz5QpGKHQyaAHQPP58C1cOKiMipQWViKB2d6Oa/x4SKdp+sEPaP/zkyT27x+4oEJ7tT2V7YTK6+xms69+y17zkwz3XQlt99/sqW9m6qzjy6TOWIonN9acFvQACBAar1e1sPZQK/EMTztrjyX53dojPYIegHAiza/ePMSxznjfJyrKJSwTofqJ0iKNp207vRZjCDizPMnR7scxGRiPoiiKomTE+TbVvPHGG3ttGzduHAANDQ0ZvZZpmrz88susWbOGY8eOEY/bN7JVVVU9HtNNTbQ9/gdk8szeQBKzo4NUQwOa398jAyP0vgu6Cl3HWV6O/9prCXcHVn2R0kLG4nZ2KS+PrGVLSdbWEtu8hRgQfu01Qvd9HO+sWWhe75knQ6z11Ne6E0pn2/1uIt0NZS2TfgvJHnwZRsywp8VdJMe7Euyo6+h3/7pDLVw9Ng+3Y7CFc4euuiXK3oauPvdFkybrDrUwItuT0TEoynDLRODTChRwqmob2FXbTvyFGUPvwOdETjk7A+NRFEVRlIzIy8tj3759NDU1ndP5paWlvbadmF6WSCQydq3a2lpuueUWtm/f3u/1urq6sBIJYpu3YEX66SUjJdENG3CWlSE8g8ty6Tk5ZL/vDmQqRWTVqr4PSqVJNzVhFORT+KUvoXm8tP3u9yd3W5EILb/6NUZhIa5x43pOexMCskfaAY+ZtAMY3YD6LacNwkm/bQUb90Dq4mYzOmMpTKv/oLrjLPvPl2lJmsPJAXuMtEaSGR2DomRCJqa67e9+rDyxQUoZBQ53f7m0j3Nu6n5sycB4FEVRFCUjpk+fDsCWLVvOcmTfTtywSykxIxFSTU2kjh8/r2sNxn333cf27du5/fbbWb9+Pe3t7ZimiZSSRx555OSYsCzMrs4Br2V2dCKHUHFNCIFRUEDOB/6F0Cfuxz15Uo+iBVJaaH4fOffcQ/G3voWeG6L1d78jVV/f4zpWJEJkzdq+p7z5C6F8QfcTdl/79Kav7izQ+slUyAGyQRdIQcCFZ4BMSkm2B4eeuUpuuiYYkeNBG+BXqjjowRjoAEW5BGUi47MOWIhd5OD3p23/O/C/gC8IId6QUr4k7L/SHwA+hf1XZnUGxqMoiqIoJyXTFpaUnJilJoT92b/T0IYUPADcfPPN/OQnP+Evf/kL3/nOdzCMob+tWokEqepqwm+uIrZjBzJlry+RiQRmRwd6MDjkaw4kEonw0ksvUVhYyJNPPol+xrS0Q4cOnfpC13GUjBjweo4RJYghvm6haTjy89Gvuw7vzFmk6utI1dcjTRPN78dZUoKUkDhQReffXyB9rO8GnrGtW8i6+SZ03xl9bNzZcOUH7fU8jd3lvENj7CDIk2sXN+gv43MiW3QR5ficzKsM8cre3kGwJuCacfn43ZktLFASdDNjZA6bj/buu5TrczJ7VA4uNc1Nucxk4v+aFcC/A+8RQnxOypOrB78HfALwAv8QQrQCnu5/ArsAwvczMB5FURTlHcqyJLGUSTxlkkhbNHUlONwcoSOWImXab0+GJvC6DEbmeBmRY69ZcBkaXqeOcZZP1ZctW8akSZPYvXs33/rWt/j617/e77GdnZ3U1NQwadKkU+NLp0ns20fTj36M2dra43izs5OuV14hsGQJeiBwKmMRaYa6reDLA8/QZ4h3dHRgWRbFxcW9gp50Os3TTz998mvN6cQzZTKOkpJeGRew1+x4Z81Cc51bU1DN6UTLC2HkhXBPmgSWhUyn6fznCjpfeAGzZeCJIFYk2nd/H02H7HK45t+g9bC97mfirVD1kp3REQPcsFdca2eELqKA28H7ZpYSTZpsONzCiRllPqfOHTNLmVYazGjGByDocfDBeeVYlmRbTfvJHFhpjoePLBhFQZY7o8+vKJmQicDnVeCHgA6U0z3FTUp5RAjxYeyePS7sIgcnSODfpJQq46MoiqKct2Taoiueoq49xpqDLRxqClPTGiOcSA94nsvQGJHtoTzkZfboXMYWBshyO/A4+1msLwSPP/448+bN4xvf+AbxeJyvfOUr+E7LQEgpWb58Of/2b//GQw891CPwkZEI7U/9rVfQc0L7k3/BPWkSmtdtVyoD2Pt3eH6nvXZl7I1DbrxZUFBAMBhk165drF69mgUL7Clhpmny4IMPsn///h7H67m5hO6/j5ZHHyN19OjJ7cIw0LOzMfIG7lU0WELXQdcxw2Fi27edNegB0LKyoJ9CCuiGXWnPG7KDxlQMZnwQtv6+7+MBiqdD+XwwzuOm3jLt5xO6PYZzoGuCkmw3n1xUwc1Ti9h3rAuXoTO9LJs8vxO/u68CucPL0DXKc738r+vHUtMapbo1SrbXwYSiANlepypqoFyWhj3w6c7wfKGffU8KITYDHwOmdD//PuBRKWX/KywVRVEUZRASaZPWSJLtNe2sOtDMztoOhrL+OpG2ONQc4VBzhFf3NTEq5GXBmDzmVoTID7j67Fsyffp0Vq5cyR133MG3v/1tfvjDHzJv3jwKCwvp6Ohg06ZNNDY24na7KSsr63FuurWV+J49/Y5HJpNE163HWVwA+1d0b+zOcERbYPsfoXVogY9hGDz44IN8+ctfZtGiRSxevJjc3FzWr19PY2Mjn/3sZ/nJT35y8njN5cI1YQKF//Egiaoq0o2N6KEQh5JJ0HU09/B+8q95vXhnziK+Y+dZj/XOmtV7mluvC+r2P8MFk94DDjfsfuZUhTcAwwOjr7F7+AR6N40dlHTSribXchDaj9rT7Yqn2oHXIMubn07XNPL8LnK9TiYWZSGEwGlkNstzJkPXyA+4CPmcTCkNogl7XIpyubrgnaeklAeBL1/o51UURXk7sKQkmkgTTphYUiKEvTYl4HJc8JuiS4mUko5Yip11HTyxvpratqEFA/050hLlSEs1z22v57YZI7hmXD4hvxPjjJu/BQsWcODAAR555BGWL1/Ojh07aGtrw+/3M378eD71qU9x33339aq8Zra29T1V6zTppuPIWFfPxfmn66wb8ut66KGHKC0t5fvf/z6rV6/G4/GwcOFCHv7aV9iyca19ULzDDq5cWfaUtMJCjLw8ZDqN0HXEIPoMnQvN5cI7YwZdK1aQquv/tek5Ofjmzu1dznogvny44r32dLa6Lfa0QYcHRlxpZ4dcAxQ9GEg6Cc37YN3PoHH3qe2BIrjqPjuL5DxLgNYPTRO4zmVMw0jTBFp/a6IU5TIizrcHgTI0QojdV1xxxRW7d+8++8GKcol45ZVXAFi8ePFFHsk7W3s0SW1bjDermth8tI2ueBqHrlGR7+PqsflMHpFFnt+V8bn/l5pE2qSxM85z2+p5aU/jkDI8QzW1NMi9s0cyKs83LF3ro1u20Pit/3/AY7LetZTsWxajv/g5u/FmXxZ83l7Dop/HFKhEGGo3wp5n4dhO0AwYMRMm3w6Fk3plLTL5d8FKJkk3txDbvIl0UxOJ/VUkDhzgREUKPRQi7xP34548+dwzTmbKnpYmhJ0NOh+d9bDia9BS1Xufwwvv+jYUTTlVYU5R3oZGjRrF0aNH90gpJ5396Ivjgmd8FEVRlKFr6kqwfHs9y7fXk+5xZ2+ytbqdrdXtVOb7+OSiSirz/e+Y7E80mWZnbQe/WX2Y+vbM917ZUdvBwaY93H3VSBaNzyfHe37VvxxlZTgrK0kePNj3AZqGd84ctNix/oMesNeTDLEiXQ/pJNRtgtf+C9LdPX+stN308/geuOE/oXBKj7LTmWJZkogl6PIESc69Ft0y8S5NkNVynPj6dRi5Ibyzr8LIzz+/aXa64/wCxRPMlB0o9hX0gF1Z7uArkFsBrsD5P5+iKOcso4GPEGIediW3hUAx4AamSin3nHbMfGAC0Cml/Gsmx6MoinI5ao8mWb69nqe3Djyl6WBThB++XMUXbxxPRb4P7XxuhC8xybRFOJEikbYQCLxOHbdDY9+xTr63cj+RhHnBxhJJmPx29WEiyTTLJhUR8p97tkDPyiL79tto+vFPkLHe0/Oy3vUuHKWliMZ1/V/ElWWvJdHO4y090QlvLT8V9Jwu1mZXQ8sZnfFqZ4m0ydGWKCv3NLL2UAvt0RRuQzBzZDZLrihh4r98CI8h0JwXt9x0D1Yamg8MfEzrITu4PM/EkqIo5ycjgY8QwgB+Cnz8xKbux74mILiBXwGWEKJSSnm0j2MURVHekSwpqW2LsXx771LCfalti/HSnmN8cG75Ban8dCG0hBNsq2nnjf1NHGmJomuCKSOyWDg2n6DbwYSirD57jWSSJeHPG2qQEm6eUkyO79xuxDWXC8/UqRT87wfoevkVYjt2QCqFc9QofFdfjW/ObIzsHDDHQrAMOmrOuIKAybfZC+jPRyoGxwaYgt1ykEw39UybFoeaInzvpf00dJzK3sXTktWH2tha28nnFo9l5qgcLq1CygJcZ1m/4/CdX0ZOUZRhkamMz8+wK7cJoAFYA9zR14FSyleEEAeBCuC9wA8yNCZFUZTLTjSR5s2qpjOmtw1s7cEWbpla8rYIfFojSZ7dVs8zW+tO3nZLKVneHOGPG6r5ys1XcNdVZVS3RGkK95GtyCAJPLmxBo9DZ+mkwnP+fmteL56pU3FWVCCjUaQQ6P4AlsdBGolpJnHmjEYs/SZs/zMcXQvJCIQq7XLWFYvOPxMjhD3tK91HUYjy+TDzo/ZUu6b9kOiC7LLu9THDN/WtK57i6a011LVHEEJDnLGYPpo0eXz9USoLfBQFh14lLWMMF5TNhW1P9J0xAyifB07/hR2Xoii9DHvgI4RYiJ3pkdhNS/9DSpkWQgxUtuZv2E1PF6ECH0VRlJPCCXPI2Yy2aIrd9Z0UB91nbcB5KUtbFvuOdfUIekCSMiXN4QQpU/L9lVX8+N4rmT8mxLPbBpcVG04S+NPGaioL/EwqyTrnwhLCMDCysyE7m6SZpDnext6GvVR3VeMxPMwomEG+N4+shV+AGR+wS1rrLnAH7fLM58vpg9Kr4ODLPbeXXmX3vmnaB7ufhtbutUgOD+R/1H5+Kz2kaXbSNJGmiRAC4XCQttIk0gkaOhP8860DJEwLj+HBrbvQNaNHAFTbFuOthi7y/K5L53dbCMgqhmn3wObH6JUZK58PpbPBuISm5ynKO1QmMj73dz++IaX84iDP2dj9eEUGxqMoinLZsqSkKz5w082+dMVTmFJe1hVsIt3Zrh6lHCy7bHXKtLc2dMTZXtPOzPKcixL4AMRTFo+vO8oXbxxH8XlmIhJmgv2t+3lsz2PUdJ2a1vbsgWdZNnoZy0YtIxQsHeAK58gVsHvcNO6E8HF7m9Bhyp3QdhhW/XfP+/lUzK4CZ5l2SehB9L6xEgnMzk6SR46Qqq1DuJy4J01CBgOEjSRHW2M0x9oB6Ep24jG8hNwhHLqjR/BT0xYlbUmMS6l/pjsIV7wbgiPgwMvQUWv38Rm1ECqusUtlK4py0WXiPXEB9p/HXwzhnNrux5LhH46iKMrlSwi6swhDW7zv0HtPFbrcpExJffupqVdSSmIpi45Yqsdxh5sjXFmeg6GJIU0JHE77jnWxcs9x3jujhMB5TDFsjbXy612/piHS0GN70kry3MHnCLqCLBm5BLcxzKtcNAPyxsMND8OBldCwwy5hHSiEbsX1xwAAIABJREFUHX/qLiPdx+9TKmZXffOGBqyQZkWjxHbtov2vT/WoYCe9bsTcmeS/93amlOT2+BnG0lE6kw5y3Dno4lSU47xUMj1n8obs/kAjZtqV3oQOLv85NS9VFCUzMvHXo7j7ce8QzjnxznZprVdUFEW5yFyG3adnKAxNMKbAj0O/vAMfAbgdp25405akNZLsdZzPpSORmBcp6Dnhue111LbFONf+eEkzyfam7b2CntOtql1FV7LrXIc4MIcb8ifY63mWfstuvInobsg5wO9S3Zb+17YAMp0mvncfzT/+Sa+y3cmuTg4//TjHn3icUDrJ7dPH9tgfToWx5Kmg39AE08qycV2q5dp1px0ABYrAn6+CHkW5xGTiL8eJtTxDKVZ/IgfcMcxjURRFuawF3A6uHps/pHOmlAYpDroR51FFSkpJIm0ST5lYF6nRtc9lcGV5zsnxxFMmyXTP5aIOXTCnIsThpkiGa46dXTxl8WZVM5HkuZXWTlkpjnQeGfCYI51HSJgZLOIghJ2l8BfYj0LY09kGcpb9ZjhM10srsCKR3vtkGomkeuVzmLU13DtzfM9Ly56/f/MrQxRmnd/vtqIo71yZCHxOfFQ1agjnLOx+rB7eoSiKolzeHLrG5BFZjCkYXEUoQxNcP7HwnKdbSSlpjybZ211U4Jmtdeyp76Q1krjgAZDboTN3dC6lOR5MKQkneq91unlqCdkeB6sONF/QsfVnzYHmXlPxBksgcGgD/9wMzUAbxkpqZ2W4ofAsy28LJ9mZjn6Y7e3Etm3vc589hU1gmila1rxBqVvnUwun4uhulKoJ3S6CAMwencvds0cS9FxC1QrTcYg0Qdcx+3GAzJeiKBdfJtb4rAbGAPcAvzvbwUKILOwmpxJ4IwPjURRFuazl+V184poKfvRyFTVtfZQb7mZogg/NK2dGWTbOc5wK1NSV4KkttazY3XhyrYWuCa4Zl889s8sousCfthcFPXzu+rE8uvoIf995qniBz6Vz69QS7pxVxsGmMLvqLo0JAy2RJFuOtpHnd+Ia4up7l+5iesF0Xjr6ErKf/NXU/Kl4De9wDHVw3EEY9y44tsuuJHcmwwklMwasWGZFIshk7ymKALpm4HV4iKaidDTVkpOOcvPUIq4alc/r+xtoj1oUBbKZW5FHRZ6fXJ8TXbsEsj2WBeFGOLoKDr8BkRbw5duFDMoX2BmzCxmgKooyKJkIfP4AfBi4UQhxo5RyRX8HCiH8wF+BQuzA59EMjEdRFOWy5tA1KvP9fHHpeFbsbmTtwWbaoqeyCoYmmFoa5PqJhUwvyybrHD8RjyVNXtvfxAs7j/XYblqSV/ceJ8fr4M5ZZfhdF65WnNPQGJ3n4zPXVXLz1GKqjodxdmfBPE6dqsYwj605wkVe3tPD+sMtLBgTGnLgo2s6o7JGMad4Dusa1vXa7zW8LBm5BJ9zaGu+zovhsnvQzPmE3UModqK0urDXBHly7Bv+AWg+H8LhQKZ6Z8J0oZHtyiZlpnAGc+hMh3mmZjlT8qdy1+xJBBxBXLoDj9O4NAKeEyKNsP7ncOi1U9s666BhGzTugdmfsAtDKIpySRn2dy8p5UohxD+AZcAzQojvAH887RCnEOIK4Cbg89iV3CTwRyll37lwRVGUd7gTAcAH547k1qnF7KrvJJxIYWgaYwr8FAfdZHkc59xHBqAznuL1fU397n99XxNLJxVd0MAHIJYyWX2gmZDPydQRQUwpOXA8zOoDzRxs6r1u5GI70hwlnhqodV3/ctw53D3+bnKdOaypW017og1NN5iUN5mlo5YyIXfCWafDDTtPDky4FUbOh/ptkIpCbgXs77Arl52Z7bFMewqYlGA40YNBPNOmEd20qdelBQKX7qLQX0ThNUuo1xKkZZqUmcRtCLLcDhwDVIu7KNIJqN7QM+g53YGVMOJKGHvDgFMAFUW58DL17nUv8DowBfhq978Tn8dtPuNY0b3tkxkai6IoytuCJgR+twO/20FRthvLkggEhi4GNf1MSolM2GsQhGEgjJ5vASnToq69/6l0LZEkkeTQewqdr0TK4uW3jnO86/JYP9ERS9EaSVKSPbSKXlYsRrqlhZxYjPfmLeb6/AV0pLtwu31ke3IJuII4M9QEU6bTyFQKaVn275LDgeY4LeBw+e1/WSX2lDfNAQdeO+MiEqLN0HIIqtfZwU/eGPTKpfiXXE9s925krPfvl0CQs2ARvlGVlGd5+OTUT+I23Lh0V0Ze63lLhuHIWWbmH1kFI+eBN/fCjElRlEHJSOAjpWwXQswF/gf4GNDfX2oT+C3wBSllNBNjURRFeTsyNG1I5WnMjg5SDceIbduKFU/gGjsG19ixGDk5iO4bXE0Igh5HnyWjATwOfcjTt4ZDVzxF02US9JxwqCnC+MIAjkGutbKiUaJbt9L6m99itrdjFBbgnTkLf042MpXGisWQCxcgy8tP/rzOlzRNrHCYdFsbib17SdXXY0VjCKcTR3ERrnHjMAoK0AOBU0HyQNmXrmOw5THY9w9A2lmhQBFmVy3uiRPI/8xnaPvrX0kdPXryFOF24796IcH3vAcjJ/dkUYNLmmVCd6PVfkVbQQ69ul/KtOiMpWiPpYglTQJug6DHgd9t2P/PK4pyXjI2X0FKGQM+I4T4JnArMAe7bLUBNGFneZ6VUh7J1BgURVEUSDc30/H83+l88UVIn8rYuMaPJ/Sxj+EcVY4wDAJug7kVub3W+Jwwe3QuQfeFneZmWhaHmy9+qeqhqmmLkjStQQU+0jSJ76+i5eePYEXtzwDTjcfpfOGFHsfF33qLgge+gKOo6LzHZ8VipOrq6XzhBSIbNvSZicEw8EyfRvDmm3FWVKD7B6gsmIzaU7z2vWh/PeV9hMcuoVWm2NO8lWxfPdOmzaSg8t9JHjxEqq4ezeXEPWUKRm4uWlbW5VOiWjPs4gUtB/o/JlBkHzcEXfEU22vaWbGnkZ21HaQtiduhMas8l2WTixhXGMDjvPAfPCjK20nG38GklA3AL7r/KYqiKBeQlUgQ2bCBzuXLe+1L7NtH25//RN6nPoURCuFzGrxrcjEHj0fY19izSWZ5yMt7ppfgu8Dre9KWpDM+uOl1QY+DGSOzCbgdxFMmO2s7ONYZz/AI+xaOpwfdUNUKhwm/+urJoKcXw8AzdQruKyZhJZJY6TSace4/BzMSIbZpE62/+z1m+wCZi3Sa2KbNxHftJvt9d+C/9lqMnJy+j010wsFX7P+uvJ7OCTdxKNrIweZddMbbeLXqGX6jO/iXafczZ+YsvDNnghBozstwDYwrAJWL4eiafg4QUHEtOAdXgh4gmkyz5mALv3j9EEnz1PqweMpi1YFmdtZ18MANY5kyIojzImRdFeXt4sK+gymKoigXlNXVRWTV6n73x7ZtJ9XQgJ6bi6YJSnM8/O8bx7HpaBs7atqxJEwqyWLO6FwKstwY51E84VzoQuA4SzUvp65x56xSppdlI7HXMoFg6aQiDhzv4o8bas65t865SppWvyWpz2R2dhLdfObyV5ujvJzcD34AzevF7OwiVX0UkBg5OWh+P2KI05+seJzY5s00//yRfktMn0nG47T94QmwLAI33oge6KM/uZmyq5oFR2LN/RQOmWa04aeiYCZSM4hV3MSReDN/O/Q8x6PHubniZryOC1iWezjpDiiZDpPvgF1PnbFTwLS7oGjKwNMCz9AaSfLE+uoeQc/pOmIp/rKplpG5PvIDKvBRlHM17IGPEOI/gV9JKWuG+9qKoijK0MhUmlRDQ/8HWBapujrcEyaAYWDoGiXZHpb6nSwam4fEbiTqdmT+Zsu0JJFEmtZIktq2GA5dUJbrZXZFLuFEmr9sru2VRTE0wX1Xj6Y85OOltxp5cecxatui5PqcLJlYyK3TSvjXxWP4wcqqPhugZpSESDJCwrLXJ7l1Nx7D02tKl9nZ2edUM6OwgNDHPobV1cnxnz9CdNMmhK7jGjsW/6JrCN56K0Zh4aCDH2lZpBoaaH38D4MOek6dLGn/61M4KypwT57cs/ABgKZB/kSY+2noOkZi+xO07X0GK9qC5grgHbOUSVPvpnDSR/nbkRfpSnZdvoEP2CW8p99rB0CHXodIM/jyoPI6+/vgCw36Usm0xZbq9n7X1p2wp76TmtYoIb8T7XKZFqgol5hMZHy+CjwkhHgReAR4QcoL3O5bURRFsekaesCP1dnZ/yHBIOg9AxuXcWELGaQti7q2GM9uq2fNwWYiCXtheJ7fydVj85lXGcLt0HlszZEeeZTZo3MZlefjN6sO8/yOUwFeY2eCP6yvZnd9J1++eSLLJhfx1821GX0NQY+DeZUhxhb4KQ66cBjwZv0qVtWuQgjBuJxxzC2ZS7GvGJ/jVC+e/qZ7Ba6/HiyTY9/8Jqn67tdmGFjhMF3/XIGMJ8j54Af6n352BisSoeufKzBbWs7p9clkko5nnsFZNhIt74wbe1cWzPssxNowX/svuho2YZl2wGclugjvfopY9VpCN32Xm0YuIW1d+OqAw86XB+XzoWgayLS9psfpG/LanrRpUdt69vpOEqhpjTJlRBDNUIGPopyLTM1Z0IGbgeeAo0KIrwohRmTouRRFUZR+6H4/3qtm97vfUVaGc/Toi76wvKkrwc9eO8hLexpPBj0ATeEEj645wlOba5lUksWU0mCP8+ZXhjjWEefvO/vOam2raWfTkTauHJmDa5AV1s7FonH5fPNdY7iz3MWU41UU7toIR48wzVXBjSOXUBeuY/mh5Ty89mHW1K0hnAyfPFcLBnGOHt3jesLjwT1pEpG1a08FPYDmdtvZFSCyZg3p400M9rNFs6ODyPr15/U643veIllXi7TOmJLl9IMnCNueQHQ1oPe4+RegGZixFro2/pxCzX15Z3tOpxn26/aGwB0cctADIASD7r/l0DVUskdRzl0m3gVuAP4CpLB79JQC3wAOCyGeFkIsy8BzKoqiKH0QHg/+axfhmjix1z7N7yfn7rvRs7MvwshOSaYtNh1pY3d976yUQOAyNJ7cZK/TWVCZd3Kfy9AoCnpYc7CFge791xxsxqELiofYV2ew5leGuOuKHIxN69j/la+z7asPc/T7P+DIQ1+i+bePMjEZ4r5JH8OhOUiYCR7b8xh7W/eezHroWVn4Fi7ocU0jNweERnz3nlMbheixrkemUiQOHADz7GWTpWVhtrXjmTIF75w5vQKtQbMsEm+91XuqnBB2iedjO9A0A58rC4RmNzjVHaDZ2cN4zXq8kRb8jsEv/H+7cxoa08qyOVs843PqXFGSdcHX2SnK28mwT3WTUr4MvCyEyMPu4fNxYGz3c70beLcQohr4JfAbKWXfdVMVRVGU8yaEwFFcTP5nPk100yaiW7chEwlclZX4FszHWV6O5hp8o8h4yiRtSkCiaxpuh3be2aJwIs2Gw6397tc1gSXhzapmbp1WgsvQSKStk+sckum+F4SfcGK/PoyflAugLNdLwG1w5/QitB1beOv7P8NKp7CkicvQSca7aHnlRdKRLio+9VlmFs5kXcM6UlaKN+veZGzOWIKuIJrbjW/ePJIHDxJZsxYAmTZB2H1u7CcUGKEQ4oxpcZrLxaBSAKkozkI/uXfcCAikpZFsbCOydh2Rdet7lDk/66Xq6pGpnsUipJTIrkYs00QIHa8jQJbHpDPZM5j16m4c4eNqjcppdE1jdJ6XySOC7Kzr6Pe4q8fmk+O7DKvgKcolJJN9fJqB7wDfEUJcB3wSeC92M9Ny4JvA14UQzwG/kFK+lKmxKIqivJMJw8BRUkJg6VJ8V18NUiJcLjSvd1BBi2lJwok0rZEE6w+1cqwjjgRCfidzRocoCLgIuI1z/iTatCSdA1RdE8LO7rRGkggBHqdOIm0RT5mEEymmlgZ5clP/9XSmltkZreFogiqAa8bls2hMLsUOC48OfpckWlxIwaIFNLz8GpoAhy4IdwcHLRtWU3zL7cwrm8O6hnUAbG/aTiQVIeiyp+4Z+fnkfOADOEaOJPLmKlINDVjhML4FC4i8+SZaIGD/vE4rZKDn5OCeOAGhD7AWKxmBrgY49Dpyxz8wjx0B3Yk2cjruKbfiun0pnunTaP3tY1iRyKC+B1Y8DtbpJZdNYkkTj+ahuTOOJgS5PifZrhx8Dh+xdNQukqG7cekuNKcfIVRlstNle518dMEofvraQQ4cD/faP3t0Lu+dMYLABe6jpShvNxfk/yAp5avAq0KIEPBR4D5gHOAAbgduF0Icxu7186iU8viFGJeiKMo7ieZyDSm7A3Yn+bq2GM9srWPtoRaiyZ7Tqp7dWs/MUTncPmMEo/N951QQwdCE/Ul2c9833poQZHsdjMn3URRw8vCysWw5FuWN/U2sO9TKdeMLmDwii111vafK5QdcXDsun7eOdQ26H1B/BHDvnJFcU+iAA3tofn0Vjq52koV5uKdPp+L9t+EdOYLq3z8OQNLqng4mJZ07tlIy5hYEAokkno73WJsjNA1HYSHBW27Bf801pOrr0QJZ+K4qJnjbbUTWresZpBoG2e+7A32gwgbxTjj8Oqz7OSS6oK0NOtoAsFqPYm17Fm3SMrzXfg4+/lFafv6LQVV709ynskxSSnbXd7DhcCvvH1+IlTuW2LG9RBJpcnxOcrxu3Iar+/snEIFiKJg4uCzVO4hD1xiV5+PBZePZVt3OxiNtRBJpcn1O5o8JMb4oQMjnUpkyRTlPF/SjAyllC/DfwH8LIRYBn8AOfFxABfBfwMNCiKeBH0sp+28+oSiKomSUaVnUtsX44ctVfX4KDXa/mrUHWzjUFOaBG8YxtiCAc4hFBHwug3mVITYfbetzv5CSoC6ZX55Fas8erB27uWbubK66uozlVe1Ekmm+9K4J/PKNw6w52EzKlAgB00qz+eSiClyGxord5z+r+tZpJdxQ6ia8/Hnqn3qaVMrE49QxqgTH//BH8j/6EQqXLUNWHyW1dQOJdP8Zphx3DrrWO0jUPB40jwdHYSFgr83J/fCHcE+cQHTjJsyuLpylI/BdfTXuiRPRvP0UCUjFoHotrPoBWCkQotc0OQBr9z/ASuNZ/CD+a66ha+XKs34fHCUjTl7LlPDkxloON0e4cdxYQlfeQdOL3wZp0hZJIoAcr5OTrZgmvhs8F3dN2aXKoWsUBz2EJjqZVxnClBJD0/A5dbWuR1GGycXMmdYDDUAEe/ob2B+oOYH3A+8XQrwCfFpKeeDiDFFRFOWdqyOW4on11f0GPadr7Ezw6zcP8+C7JlCU5R7S8zgNjell2Vw1KpeNR3qu9ZGWhYxEePf0YnKSEQ7+5vd07NyD/ue/MeZTH+XdV83lDzsbWTQuny8sGctH5o+iviNGyO+kIOAmmbb49erD1Lb17pMzGJqAq0blsmBMiJkjA4hdu4i++CzZHgEeB1JqICS6x0PTbx/FN2M6Bdct4sDGV081MBWCrKkzOJxoOrltdtFsAo4+GoGe4UQmKHDjjfgWLUIzDNB1hMMxcP+eeDts/5Md9GC/uQqX0y5bfkYxBOutlRhTbsE39yq6XnmlxzS23gMSuCZMOBn4pE2Ltxo6kcBzu1u5e8o88pZ8nra1v8MMNxNJpsnyONDcQZhyB4xbapd8VvrlNHScF7CUvKK8k1zQwEcI4QDeh53puebE5u7HA8CjwDTstUAOYDGwXggxT0q5/0KOVVEU5Z3MkpL69jibjvRfdOBMVcfD7DvWScjnHHR53hPy/C4+fvVoSnM8rKpqpilsZ0tG57hYPCOf+WUBrDdfo2OnXeXMjEap+vEvmfydkVxZVsD/+cc+po4IMnNUDtkeB5GEyXMH69l4pJXEWYof9MdlaHxofjnjizU6UseJh5Mcf/UFajtq0ISG13CT5Qpg6C7chflEq2sIv/YaoX+5l3TQB8fbAQjNXgClxaxtfMH+2h1i4YiFQyrpLHTdbjbb2IjZ2obwuDHy89EDAbvE9enMFBx/C1oPnXENA83n67Onk7VzOcZ1X8I9cSLx3bv7HYd74gScZaUngy5LngzveGXvcRy64D1X3Ehu+Vyo2YiMtqDl5EHZHLupp+vswZ6iKEqmXJDARwgxHjvY+RCQe2IzkAaWAz+TUq487fhC4EvAvwLZwH8C91yIsSqKoigQTZqsOtBM2hpa/+lVVc1MLc0mxzu06lO6JigJurnrqjKWTS6iLZJE1yBbmHg6W0mt/AcdL7yIQ9dImXYgYyWTtL72JhPuuougx8HWmna21rQP6Xn7own40PxyxpVY/HnvX9nVtI//e9XniLYcx7RMTEw6zBQdiTDZbj95nly8I8uQXV0gITtYSDLcQe68ayi8826qRDObGzczJnsM90y4h7JA2aCr4VnxOIkDB+h88R/Etmw5uQ7HWVlJYPFivHNm92xiaiahfnsfL0pDz8rCikZ7VXGzDm9Ev97CUVLcb+AjHA6C73kPWlbWyW2GpuFx6MRSdhbpn7sb2V7TYWfISq8nz2fgD3jQXUPLAiqKomRCxgIfIYQTuBM74Fl4YnP3Yz3wK+xqbvVnniulbAQeEEI0Y1d/W3jmMYqiKErmJNMWR1vO3k3+TEdboifLR1uWJGlamN3Bk67ZPXlOv+GPpWNEUhEsaaEJDb/DT0m2h5JsD1YiQdfKl2n705+Q0Si6gFyfk8bO+Mnzo3X1ZFkmWW6D1sjZF+YP1rzKEOOKNf689y88V/USeZ5cTF3gLT6zF7ekPd6FBAq8ebgnTsTIC1Fy74cZWVyEmR2gUQtT3bSbz1/5eUZljSLoCuLUBxcYylSKxP79NP3wR5htPddAJQ8epOXQIcyuTrKWLkU/EZBIC8ze64sEgNOBkZtLurm555S2VAyBRDj6GZcQBG+/Ddf48WinrRXSNcHCsXm8tKfx5LZjnXGe2lLH01vhC0vGsTAn2NcVFUVRLrhhD3yEEBOxg50PAic+ghKABF4GfgY8K6U8e8c1Oxv0TaB4uMepKIqi9E9KSdoc+hSxtGlhSUlrOMHO+g6qW6J0xFIIBHkBJ6Pz/FTk+fC54XjsGBsaNrC5cTOdyU4CzgBXFl7JnKI5FPuKMdJpUnW1yKgdgGlC4HHqBNwGXd0V2pzBLKTQznk6W38WjMmlPnqY5VX2ZITmWCu7uo4ye9Fiav7+NNYZfWy6EmGC/hx8C+aj5+biX7gQIQRpM02JDPKerFIcmqPPggYDMbu66Hj2uV5Bz0lS0vG3p/FMm44WCNhBpdDB2feUMiE0NJ8PA0i3tJxa7+MJIqWwS1WfeY7TSfD22whcfz16oOd1NSG4/coRxFMmaw+2nMwQZrkNbruylBkjs3tNe0ybFuFEmnAiTcqUGJr9c81yG2pti6IoGZWJjM9u7CDnxEd6bdhrd34upawa4rVO1DZV9RsVRVEuIF0TZHkcQzrHktLusZOyeGJ9Na/ta+p1TJbb4Cu3juNopIZf7fwlLfGmk5WNW+ItHOk8whu1b/DJqZ9kUs4VeOfMoeullSezE4YmyPY6iXU3Ug1ds4DahOBYR+8b9nNVme+jIAi/2/PGqQIFwN8PvsqUaR9hwqceYO8vfoiVOPWcTq+HvA99CKN0RI+MlqEbGOfxVptubCS2a9eAx8hkksjatThLRyC8XjDcMHIO7Pqrnf05g9A0NL8Ph9OJ2dGOFYmijb8WaekkDh48daCu45k8maxbb8E1ZkyvoAfsqtQlQQ/3XT2am6YUs7+xC5ehMWVEkFy/C7+r52tvjSTY29DFG1VNbDnaTixlomuCicVZXD0mxJXlOeQHXOgDFW5QFEU5R5ma6iaADdjZnT9LKc/1HakRu++PoiiKcgF5nTqzynPYcHhwxQ0sKYkmTSYUZRFPmWyt7nutzYIxeQg9wndWPUJduJaQ34nL0Hu0dWmONfPbXb/la/O+RqC8nOCtt9Lx3HPQ3ffGoQtCfhfOxUsQoyt5Y18rQ1uJNLDReX6kSLC+fluP7ZuO7eD3gX/wwXnLmDH+J7StXkWi+TjegiJyFl5NMuQn7LQYoLPOkEjTJFlb23M9jhBoPh/C5UImElhhu+Jeur4eeSILpWmQXQ7F06B+a5/XFkIDlwsjlIcMmjDrDpJpHefIkbjHjsUoLsI1dhyO4iL0QADh6D8I1jRBrs9FjtfJuEI/Qog+i1s0dSV4ekstz+9o6PHzMi3JrroOdtV1MLU0yCeuqaA0x6OCH0VRhl0mAp9fAz+VUvb913YIpJRh4LHzH5KiKIoyFE5DZ1pZNoVZLho7++9HA3bQE+meurRwbB676zvpiKV6HacJmFOZzd7WLRxoOwrYZbALAy5cjp7BT32kns2Nm7mu7DqybrkZZ8VoImvWkm5qwsjNJX/uXLSJV7CyIcmbVb0zS+fD7dCQSMLJ3g1Vn61awaH2apZVXMOs97wLrxRgCDaGq1hdtZr7p9xPjnuYQh9NO1k2WvP78V51Fa558zBzQkgEGhKtsYH4mjVgGD2bgnqCcOWHoP0oRPsOXgXYpbGv/ACy+Aocup/QfR+3e/44HD3W8gyGEKLfqWrheIoVu4+xfEfDgNfYUdvBY2uO8OlrK8kPqIIIiqIMr2EPfKSU9w/3NRVFUZQLL8fr5M5ZZfz8tYP9VneTSJJpi+Zwks9cW4nXqbP6QHO/1/O7JZsO7zi5LWVaNEeSFGa5emUJdjbvZE7xHAK5ufjmzsUzZQoynQZdR/P5SCBwNTXh0Id3jU/StACB23CTSvbuYbSzaS87m/ZSGAhQHMgiJeMkzAQCgUMb2vTAgQghcFWOwTd/Pu5bbqXL5WNXc4yt62uJJ9P4PE5mjy9m1B13k+1zITyeUyfrTiiYCNd9BTb+0i5vfSZ3ECa9FybcgvCG0AFcrmEb/+naoile3DW4JrIbj7SxtClCrs+FrqmZ7oqiDJ+L2cBUURRFuYR5nDrzKkKkTYtH1xwhnuodXJiWpDOe4pPXVHDdhAJWH2ihqp+Gp4Zu17mJp3tmkOIjbZF0AAAgAElEQVQpk654mmyvA+20rEXKSiG7p7cJw0AP9qwO5gGuHpuH26Hz6Jojw1bVrb49jiYDTCuYyKrajb32C+wgzuO0CKc7Tm4fnzselzG8gYMeysX9wQ+zrbaDx5/ZyJGGnlMIX1i7nwkVRXz41llMDGp4Tt/p8EDRZFjyDWg+AEdXQawNdAfkT4TyBRekt048ZbLxSGufWcD+vLG/iQlFAYJDLIuuKIoyEBX4KIqiKP3K8jhYNL6AMQUBVh1oZu3BZo53JpBAttfgypG5zB6dS8jvZP2hVp7ZWtfvtcLxNAKd0kBRr31d8TQBt4Gmnwp88j35GNrAb1N+t4O5FSHKcj38ZVMtaw+2nPd6nz31HXTFilgy6upegY/L0Aj5XLgcWq9sxNziuWQ5sxhOKcPJjrZOvvv8DqKtHb0PMAwOxAT/89J+/n3pBK4oCeI0TsucGS4IFIEvD4qngjQBDQynHRhdACnT4lBT72mDAzncHCFxDlUFFUVRBqICH0VRFGVAfpfBuEI/pTkebppSRCptIQFD10BK9tR38s9dx87aPDSSNNl/LM7C0rn8+a3lJM1TGYCUaRFPWTg0DQToQmde8Tw8xtlvzj1OndF5fu6/poLpZdn8aWPNeWV/LAnrDrazZMp4riqexsaG7Qgg2+sky21g6Bpn9h6tzK5kesH0QffnGay2aJLfb6ghHcjG4XBjRsJ2sQOhoXk9aF4fOAw64yZ/2ljDF2/0kh/oI+ukGeAe3qBssCRgyqGFo6aUDGvFCkVRFFTgoyiKogyCEAKfy8B3WnniaDLNr988zIrTmleezeqqFj5SVMidE27mD7uf6bEvmbaQLnsq2Q3lN1DkL+pRGnoguibI87u4dnwBk0qyWH+4ldUHmjk4iEyDACaNCLJwTIhxOS50DdriFprl5POz7ucX23/Foa59OPTeWR6AymAlH5/8cfI9+YMa62Cl0ha76zqpb48jDAPh89nreKS0By00xGmVz/bUd1LdGiXX57yk1sYYmiDkG1pAqNb3KIqSCW/LwEcIcS3w6iAO/bqU8uEzzv0Q8K/AFUASWAf8f1LKNcM9TkVRlMtZJJFm77GuAY+R0rJTKABCsLu+k+1Hc7ip4iY8hpun9/+TlpjdnDNtWgQcAZaMup4lI5eQ7coe8pg8Tp2RIR8FWW4WjcvnQFOYNQdaONQUpqEj3qtIg6EJPjy/nKtCBo62Frpe2opMJigbW4l3wnjcoRIemv8Amxo3sq5hHfta9yGRCAQV2RXMLZ7LrMJZFHgLzjotb6hiKZOt1ac1LhUCofff4FMCW6vbmFgcwOu8dN7ePQ6deZUh/r6jod8iGWeaV5GL333pvAZFUd4e3q5/VY7RfxlsHfhA93+/efoOIcR3gQeAGLACcAM3ADcKIe6UUj6dmeEqiqJcfiR2Keu+d0pkOo0Vi2JFYyCl3XvG7+PxtYe5yyxnccUyFpVdze6W3bTHO8nzBbmqeCrZrmz8Tv95jc3t0HE7dHJ9TiaXBImnTKIpk6MtUapbonTGUqRMi7mVISY4ErQ/8zTNL7+MU5roQtDxT0GycjShj3yU0LixXD/yev4fe3ceJ1V1Jv7/c27d2pfeu6G7aRqaHUVARUBQJBGTqN+MiYkxm2ZGszlZnUzMa2byTTKZ30zmO1lmkjHrmGWSmERDopho3HEDAVFkEWi2Zmloet9qr3t+f1Q1dkPvXbfX5+2rX5e+99xTDwJd9dxzznMun3Y5HfEOIskIHtND0BUk6AxmvaBBF0trOuOpId3TGUsxyNxi1CilmJ7j4dKZebw8iH2hioJuls/Mw91HaWwhhBiuSZn4aK33A7f3dk0p9XbSic8JYHO38+tJJz2NwCqtdXXm/CrgWeCnSqlntdbNF3QqhBBTkEMpQh4n6WdF3Wl0IkGyoR4r0m3/6nAYq70dioq4f1sNmw/6uHJOIQunX878kEHA7aTYG+hzL5jhMB0GIa9ByJsuM12R5yM+yyKVyQ7ciSitDz1G6pknCToUijdfO3H0GI0/+iElX/oSrunTKfQWUugtzFpsAzGUwu8a2v8Ln8vBeJwhFvI6uXVFBXXtMY419D39MOQx+dhVsykM2JNMCiGmtqm4LXLXaM+vtNbdS8bcnTl+vSvpAdBabwF+AOQAfz06IQohxPjndjooz7+w+IC2LFJtrT2Tnq5rySTJpiZIpTjdGuXBV07yz48c5B827mfvqc5Br+kZLsNQeJyOc+uVdFs7nc9uxlCK3l45caqWyK5dWPHslMoeCq/LwdKKwW+GqoDlM3Nxm+Pvrd00DCryfXz+2rlsWFRCwN3zuavToVgxK5+/u24+S8pz8DhltEcIkX2TcsSnL0opP/DOzLe/7HbeA7wl8+2Dvdz6IPBp4Ebgm3bGKIQQE4XHNFhSnsPje88rbpCysDr6fqqvYzF0LI4yTcikG16ng0XTQxdsYmq3xJkzpJr6n34VO3gQ/5o14BrdPWWcDoOLykJMz/FwuvXCJPJ8C0tDVOT7cRjjL/EBcJoGFfl+bltdyf9ZWsrrJ1tpjyZxmwaLSkOUhDwEPeao/x0YCZ1IkOrshGQK5TQx/P7M32shxHg01f51vgvwA69qrfd2O78AcAP1WuuTvdy3M3NcYnN8QggxYZgOg/klISoLfBxrDL95QVvoVP9rU3QymV4klBlm6doLaLSpwXzINsZu9CHP5+KDK2fyX09VE0v2va9NyGNyy2UzyPGO77d1h6EIeZ2EvE5Kc7yktEYpcDkM20f7si3Z3Ex07146X3yJZH09ZnEx/iuvxLN4EWbu0AtzCCHsp/QQa+tPZEqpvwAbgM9rrb/d7fz/AR4inRAt7+PeZiAXCGmt+y9jlG6/t49LVTNnznTfd999Q45fiLHS2Zl+eu/3+8c4EjHeaK0Jx1M0dsa77buSXuPTL9NEqXTSYRiKoqAbl0ON+odfnUySrK9PJ2J9MPPzMXw+Lti8Z5RYWhNNpGgNJ0ikLnzPdpkGOT4nbtPAGMUYp/LPBZ1KYXV0kGpru+CaIycHIxDoUWpciKng9ttv58SJE/u01ovHOpa+2PpoSCm1EFgHzAFCwECPzbTW+m9simUa6elsKeD+8y53lQ8K07dO0olPABgw8RFCiKlAqfSamaDbpD3aLXkwDLD6GKFQ3RIcBbleJ84xSHoAMAyMQIBUS++bryqXC+V2j1nSA+kiBx6nA1fQIJa0iCZS6cEypfA6HbgcCocxRv//pqpUilR77x8FUm1tGB7PqE+NFEIMzJbERylVDvwP8NZh3G5L4gO8n3Ti9ZjW+sx517reLfob/hrSO0pf2a5Saq/f71+0fv36oXQnxJh6+umnAZC/t6IvZ9uibHz1FH9+/TQajY4nSNbXY0V7rk1RDgdmcTHK68HrMvnQqkqunldETqbq2lhINjfT8fQztD36KKnmTOFO08S3bBm5730vrooZ42bdRiJlEUukS1YbRjrxGauNPqfqzwUrFqNt0yaaH3q4zzZ5H/ogoWvWY7gl+RFThzEBRjmz/pNcKZUHPAfMZIjJgs26qrn9by/Xuh7b9Dde78scO7IWkRBCTBJFQTfvvWwG80oC/Hb7CWqbwSwuxgqHsSLhzD4+nvTib6eTi8pyed+KCuYUBcZ8o0ozL4/g267Dt/IKYgcOoGMxXJWVmCUlOEKhcZP0QLrgwURa/D8paT1glb/0VM+ps5RAiInCjp/mXwAqSf+Lfw74d2Ab0KjHaEFRZsrdMtJJyx97aXI8cyzv434/6WluLYNZ3yOEEFONUop8v4vVVYUsnB5i98lWXj/ZyvGmDlo64igFRSEvMwv9rKjMZ1aRnzyfa9x8iHf4/Tj8fpzTpoHW4HDI1DHRK+V04lm4kFal0n9XzmcYeBYsQDnHbhRTCNE7OxKfd5JOep4FNmith7bttD0+lDlu1Fr3to7nABADipRS5b1UdusqePC6XQEKIcRk4HE6mJ7jpcDvZuXsAmJJi5RlAQqnQ+E2Dbwuc8ymZw1EOWT/GNE/5XDgmjED3+WXEd62/YLr/pUrcZaVSXEDIcYhOxKfyszxP8dD0qPSj+zen/m2t2luaK0jSqmngbcDNwPfOa/JzZnjI7YEKYQQk4zLNHCNw400hcgGR14eeR/8II6CAjpffAmrrQ1Hbi7+K68k9LbrcEg5ayHGJTsSnzjgAWps6Hs41pJeb1QLPN1Pu2+RTnz+USn1J611NYBSahXwMaCNdMEGIYQQQkxhyuHAOX06ee97HznvuB4rFsPwuDGCwfQ6NpkmKcS4ZEfic4j01LBCG/oejq6iBr/SWve5+5vW+kml1H8CnwFeU0o9AbiAawED+IDWuv/tvYUQQggxJSjDwBEI4AgEBm4shBgX7JiH8ADpam5vt6HvIVFKuXlzmtovB2qvtf4s8BHgDdIJz2rgKeBqrfXv7YpTCCGEEEIIYS87Rny+Szp5+IRS6lda61dteI1B0VrHgPwh3vMz4Gd2xCOEEEIIIYQYG1kf8dFaR4DrSZeIflYp9VmlVEG2X0cIIYQQQgghBsuODUyPZH7pA4LAN4FvKqXqgd5KSXentdZV2Y5JCCGEEEIIMbXZWc66S1dpk+JB3CvbHAshhBBCCCGyzo7E5zkkgRFCCCGEEEKMI1lPfLTW67LdpxBCZFvXPhta2/uc5itf+Qpf/epX+elPf8rtt99+7vy6devYvHkzR48epbKy0tYYhBBCCGFPOWshhBBCCCGEGFfsmOomhBBiAL/4xS8Ih8OUlZWNdShCCCHElCCJjxBCjIGKioqxDkEIIYSYUmSqmxBCZBw7dgylFOvWrSMSiXDPPfcwc+ZM3G43c+bM4Rvf+Eafa4I2b97MunXrCAQCFBQUcNNNN7F///4+X2vdunUopTh27FiP888//zx/+7d/y5IlS8jLy8Pr9bJgwQLuueceWlpasvnbFUIIIaaUYY/4dNuvp8feO93OD4fs4yOEGHPxeJwNGzawd+9eVqxYwcKFC9m8eTP33HMP7e3tfP3rX+/R/qGHHuLd7343qVSK1atXU1FRwbZt27jiiiu48cYbh/TaX/jCF3jttde46KKLWL9+PbFYjJ07d/KNb3yDRx55hK1btxIIBLL52xVCCCGmhJFMdavMHM9//FnJ8EkZbCGE7axuozbxpIXL7Dn4vWXLFtauXcvBgwcpLCwEYMeOHaxatYpvf/vb3HPPPeeSj/b2du644w5SqRS//vWvufXWWwFIJpPccccd/PznPx9SbF/+8pdZtWoVeXl5587FYjE+/elP86Mf/YhvfetbfPnLXx7W71sIIYSYykYy1e05YHPm2Nv54Xyd35cQQmSNZWmaOmPsq207d+6pN+qobYkQiafOnTMMg5/85Cfnkh6Ayy67jLe//e2Ew2F27Nhx7vwDDzxAQ0MD11577bmkB8A0Tb797W8PeXTmHe94R4+kB8DtdvOd73wH0zR56KGHhtSfEEIIIdKGPeLT1349so+PEGI8Slma0y0Rfr3tOFsON547f++zhykKuvnQypmUqCQAlZWVzJs374I+us6dPn363LkXXngBgPe+970XtM/Ly2PDhg1s3LhxSLGeOnWKTZs2sX//ftra2rAsCwCXy0V1dfWQ+hJCCCFEmlR1E0JMCS3hOL98uYYXDzVecK2+Pca9zx7iA4t9AJSXl/faR9foTSwWO3eutrYW6LtK21Crt33rW9/iS1/6EvF4fEj3CSGEEKJ/UtVNCDHpWZbmZHOkx0jP+aIJi5cONQCglBp0311V3oZyT1+2bt3K3Xffjdfr5Wc/+xnHjh0jGo2itUZrzfTp00f8GkIIIcRUJSM+QohJL5ZMsaOmGWuA8il7aluH3HdpaSkANTU1vV4/fvz4oPv6wx/+AMDXv/51brvtth7XIpEIZ86cGXJ8QgghhEiTER8hxKRnaYh2K17Ql3jCGnLfa9asAdJFDs7X0tLC448/Pui+mpubAZgxY8YF1x544IE+9xCyUzSR4mx7lFMtEc60RuiMJcckDiGEEGKkhp34KKU2KqV+r5TqfTL8CCilZnT1n+2+hRBTj2koSnI8A7YrCLiG3Pd73vMe8vPzefzxx/nd73537nwqleLuu++mo6Nj0H11FU/4n//5HxKJxLnz+/bt44tf/OKQYxupho4YT+yr498e3c/nfvMa//jHPdy/7TgnmsMkU0NPEoUQQoixNJIRn7/KfIWyFEt3oW79CyHEiLidDlZU5hHy9D+797LK/CH3HQqF+NGPfoRhGNxyyy2sWbOG97///cyfP58HH3yQD3zgA4Pu6yMf+QjTpk1j06ZNzJ8/n1tuuYVrr72WpUuXsnbtWmbOnDnk+IarLZLgz7tP86PnjlBd10EkkaKuLcZDr9Vy7zOHqe+IDdyJEEIIMY7IVDchxJRQEHBz64oKTKP3IgTzSgKsqioYVt/vfve7eeKJJ1i7di2vvvoqjz76KIsWLWLLli3MmTNn8DEWFLB9+3be//73E4/Hefjhhzl16hRf+9rXuP/++8+1S6QsookUkXiSSDxJNJEilkxldQpaY0eMR3ad7vXa3to2Xj3eQjw58PRBIYQQYrxQw32jVEpZgAb+GjiazaCAWcBPAa21dmS57zGllNq7aNGiRXv37h3rUIQYtKeffhqA9evXj3EkI9MWSbDzeDNPv3GW10+1krI0hQEXq6sKuXZxCWW5XpyO8fc8KJpIEY6nk5uWcIIj9R00dMSJJy201pgOg4DHZGa+j7I8L27Tgddp4HOZGH0kev1JpCwe23OGHz13pM82q6sKuOuaOYS8zpH81sQENll+LgghsqOyspKampp9WuvFYx1LX7JR1e2+LPQhhBC2C3mdrK4q5OKyHDpiSRIpjc/lIOR14nc5slKSOlssS9MZT9IcTrD9aBOvnmjmRFOEps7+9/dxmwbleV7mlQRZM7eQslwvQY8Tlzm0hM4a4KGYznwJIYQQE8VIE5/x8ylBCCEGwWUaFATcFATcYx1Kn9oiCY41dvLcwXq2HmmiNZIY+KaMWNLicH0nh+s7+cveM1xcnsPauUVcMiOXQr8LcxAjWk6HweLSEG7TIJbsvYjBRWU5eJzjb3RMCCGE6MtIEp+PZC0KIYQQxJMWDR0xHttzhj+9fpr4MCqnFQXdzC0OpKe5KQjHUzyyq5Zn9p/l/VdUMLsoQMA98I/+oqCb6xZP4+FdtRdcm1Mc4NKZebjNSTUTWQghxCQ37MRHa/3zbAYihBBTWUc0wf4z7fxyaw2H6zuHdK+hYHFpDlfOKWBOcRBLa7pmqimV/qprjfL43jpmFrSzdm4RRUEXDqPvEZscr4t3Li0lx+vkmQNnOdUcIegxWTm7gOuXTKc4OH5HzIQQQojeZGONjxBCiBFoDcfZfLCen79UM+RRnsKAi79ZM5vCgIvWaIKNO0/yXHUDLZ1xLK0JeJxcXpnHdYuncf2S6cSSFpt21fK2i6YxPdeD2U/yUxzycMMl07lqXhGJlIVhKIJuE7/bxDGMoglCCCHEWJLERwghxlBrOM4Tb9Txv1tqsIZYLaA018PHr65Ca/jvZw6x+WA9iVTPTtqiSR56LcLDu2pZNiOXO6+azZq5hTy25wwbFpdQnuftd+TH5zLxueStQgghxMQnK1OFEGKMdEQTbD5YP6ykJ9fr5I61s4mnLP7poT08+cbZC5Ke7rSGncdb+NLvd3O0oZMr5xTyyOu1nGmNZnX/n+EaDzEIIYSY3CTxEUJMOVprIskIbbE2OuIdWNbQiwiMVDxpsf9MO78YRtIDcOPSUtymwb/9eT9HhrAmqCWS4F/+9AaNnTGWzcjjj6/WDqlqXDbpRIJkYyORffvoeOYZwq/tIllfjxXvv2S3EEIIMRwyf0EIMaVEkhFqO2rZenortR215LhzWDFtBbNyZpHjzhm1OBo6Yvxya02f5aL7E/SYXFyWw1NvnGX/mfYh39/UGWfjzlN87KrZHGvqZPepVlbMyh/VKm1WPE78yBFafvcAkd27wbJAKdxz55J787vxLF6M4fGMWjxCCCEmPxnxEUJMGbFkjN31u/nXl/+Vhw8/zI66HTx1/Cm+sf0bPHX8KdpibaMSR1skwWN7zgy5eluXK2YVAPCXvWeGHcNzB+sJx1Osnl3AL7fWUNcWG9XpZsmzZ2n473uJ7NqVTnoAtCZ28CD13/tv4seOyfQ3IYQQWSWJjxBiymiNt/LAwQdoT/QcJbG0xe+rf8/pztO2f9i2LM2xxk7+9PrpYfdxxex8Dp3t4NDZjmH3EY6n2HywnoXTQ7RFkjy2+zQdseSw+xsKKxolvH0HidoL9wgCsNra6HjhBazO4SWGQgghRG8k8RFC9CqajFIfrud423ESVoKUlSJpjc4HY7scbzvO8fbjvV5LWkleqXuFWCpmawyd8STPHawf1uakkN6zJ8/nYm/tyEen9mX6yPe7eL66gZbw6Kz10bEY0f1v9Nsmtu8NdDQ6KvEIIYSYGmSNjxDiAq2xVl4+/TJPHX+KY23HuD51PR7Tw8Hmg1TlVOE2J97mlVprOhP9jyBEkhEsbW+hg5Zwgq1HmoZ9f9c6nHB85EloJJECwOt0cLwpzI5jTRQH3bido7fWRwghhBgtMuIjhOghmoyy9fRW7ttzH8fajgGgSVdB+96r3+Nkx8kJufZCKcXM0Ew8jr4XzM/KmYXTcNoWQzSRYtvRphFVUUtkRoqyUYjA5TB69PnCoQZao/aP+iiPB8/Chf228SxahPJ4bY9FCCHE1CGJjxCih7Z4G0/WPInmwuSmMdrI1tNbiSQjYxDZyOV78llbvrbXa7NCs1hUsAinw77EJxxP8eqJ5hH1kbQ08aTFtNDIR91Kcjwoxbm1PdV1HTR22F9K2nC78V12Gc6y0t6vh0L416zB8Ptsj0UIIcTUkfXERym1WSl1q1LKle2+hRD264h39LkOBqC6udr2dTB2CbqC3Dj7Rq6fdT0hVwgAl+FixbQV3LnkTgo8Bba+fiyZ4kTTyJPGPbWtXD4rn1zv8JM0peAtC4o52x7jbHv6z1MDR+o7SA5z/dFQmMXFFN51F96ll4DDcS4o9/z5FH3qb3HNrEApZXscQgghpg471visBdYA/6WU+hnwY631QRteRwhhA4fhwKEcpHSq1+tuh3vCfiBVSlHsK+Zdc9/FW2a+hdZYKz7TR647l4ArgGnYu+yxJZygqXPkIyovVDewrCKX9QuL2bjz1LD6uKQ8l7I8Lw+/1rOy2onmCPGkhemwd0KA4XLhnj2bwrvuInHmDMm6Osz8ApxlpRihEIZLnp0JIYTILjve5cOADygAPg98Xim1GfgB8Aet9dhsES6EGJSgK8hFhRexq35Xr9eXFi/FZ47dFCTL0nTGk4TjKVKWRilwGIqA28TnGvhHmlKKgCtAwBWgLFA2ChGnJVMWR4e5b8/5jjeFOd0S5brF03hszxnC8d6T1L4oBe9cWkrK0mw/1rPQwommMNGkhW8U6lcopxMzPx8zPx+9cOGETaiFEEJMDHYkPtOBDwF3AEsz567OfDUopX5KehTosA2vLYQYoaAzyA2zb6CmrYaWWEuPa0uLl7K8eDkux+g/jU+kLNoiCU42R3i+up7XT7bSGUuilCLP5+TyWflcWVVIQcBFyOvEGGcfopOWpr4je1MEH9tzho+sqeTv37aAf/nTPhKpwRecuH11JUtn5PLEvjpiyZ7T2ho6YqMy1e18kvQIIYSwW9YTH611O3AvcK9S6nLgY8AtgB8oAr4A/J1S6hnSo0B/1LqPOTVCiFHndDiZlzePuy+7my21WzjUcghPsweP6eFti99Gobdw1GOKJVMcbejk11uPs+tkC9Z5n/FbIwmONYbZtKuWq+YW8a7l5ZSE3LZP1xoKrd+snpYN+0638ciu09x4yXT+742L+ffH9tMW7b/EtdOhuHPtbN66qITXTrTw+L66C9okkprRT3uEEEII+9k6oV1rvR3YrpT6LPBB0qNAywEFrM98nVVK/Q/wE631MTvjEUIMjsf0MDd3LmWBMmKpGK+88AqGMijxl4x6LPGkRXVdB9958iB1bf2PmEQTFo/vq6OuPcrHr66iNNeb1ZGfRCpxbq8fp8OJz/QNYaRCX5CwjdTmg/UkLYu/WlrGDz50Kc9XN/CXvWc4ct6UuqKgm2sXlfDWhcXk+V28fKSJjTtP9hGlppeCfkIIIcSENyobmGqtO0iP7vxAKXUp6VGg9wEBoAT4EnCPUuqJTLtNWtu8i6AQol9KKfxOP36nH4cxdhtanm2L8v1nDw+Y9HS360Qrv9l2go9cWUlBYOSLVbTWNEWbeKPpDbaf2U5HvIPyYDmrS1czIzgDn3PgNU9KKZyO7E/nevFQI6eaI1w9v5gNi0p468ISTjaHaeqMozUEPCazi/yYhsHRhg4eef00r59s7bM/0zCQWWdCCCEmo1FJfLrTWr8CfFQp9Tng/cBXSK8LUsCGzFetUur7wPe01m2jHaMQYnyIJlK8fLSJ403hId/7fHU9GxaXkOdzYRgj+yTfFG3i99W/56njT507t6dxD5tPbubOi+/k0pJL8Zh9b4wK6YICfrc9P3KPNYY59tIxcrxOVs7OZ25J8NxoVySeZNvRJl461MiZtuiAfQU8Jo4R/v8SQgghxqNRT3wAlFJ+0knPR4FppCdWqMwXQBnwz6Qrwn1Ca/3AWMQphBicZMqiPZakM5bE0um1JEGPE7/LMaJF623RBC8eahjWvZaG5w82MKvQT9Az/P1uEqkE+xr39Uh6ukSSEX574LdU5VYxzZzWbz8uh8HMAnur4bVGEvxlbx1/2Xvh2p3BKs/z4jbHz9ooIYQQIltGNfHJTHP7KG9Oc4N0shMG7gd+ClxCeircEiAf+I1Sqllr/eRoxiqEGJz2aII9p9p45sBZdtY0E0taFAXcrKwqYP2CYiryvbjMoU+V01pT0xCm+mzHsGPbcrjLh+wAACAASURBVKSRm5aXjSjxiSQj7Kjb0ef1unAd1c3VFHmL+p0SqJSiLNeLx2kQTYzfmbwz8ny4JPERQggxCdn+7qaUCiilPqaUegXYRrrAQZB0wrMf+AxQqrW+U2v9ktb6+1rrpcBNwNlMu3+wO04hxNB1xpK8UN3Af/zlAFsON54rjVzfEWPTrlq++fgBjjaEh1UeOWnpQU3N6k9rJEFkiHvcnM/SFh3x/pOv9kQ71iBqoXlMB2W53hHFY7eZhT5c46ganhBCCJEttr27KaUuV0r9GKglXd56KekkJgk8AKzXWi/WWn+3t3U8WuuHSJe+BrjYrjiFEMN3tj3Kz7ccI95HYnOyOcKDr5ykfYAyy73RWmel/HNfsQ2W0+GkPFje53VDGVQEKzDVwAPoHqeD+dOCI4rHTnk+JzPyhlKpTgghhJg4sp74KKU+rpTaCWwF/pr0lDYFnAT+CajQWt+itX52EN1tzxzzsh2nEGJkIvEUW4800Rnrf0RlZ00zZ9uHvnGnw1D4XCOrJqdgxH34TB+rpq/Ca/Y+UrO0aCml/tJBJQs+l4M1c4rGbfGAVVUFhDxjsvRTCCGEsJ0dIz73kl6n0/XO/hjwTmCW1vpftNZDWXWbyHZwQojsiKesC/aL6btdBylraCMvDsNgbkkQr3P4icuckgDekSZPSlERquDOi++kxPfmPkaGMlhevJz3LXgfOe6cQfVlGIrSXA8Xlw2u/WgyDcXauUX4bKo8J4QQQow1u97hGoH7gB9qrY+OoJ9jwKysRCSEyLrBzoga7tSpAr+LyyvzeK56eJXd1swpJDSCwgZdfE4fl5ZcSlVuFdXN1bQn2qkIVlDqLyXHnTOkfY6CHidr5hby2omWEceVTUvKc5ie48nqhq9CCCHEeGJH4vMh4AGtdXykHWmtU0DNyEMSQmSb2zSYXxJky+HGftt5nQ7mlgRwGEMfYA56nFw1r4jnqxvQQ7w31+vk8sp8PMMcMYolY1jawjAM3A43HtPDNHMaRd4iLCxMZQ4roXOZBktn5HJRaYg9teNjmzKXw+DGS0oJeUeeJAohhBDjVdanummtf5WNpEcIMb55nA5WzMonz9f/h+WVs/Mp9LuG9RoOQzG3JMgNS6YP6T7TUHx4dSUFgaG/bke8g2Otx9h0ZBP3H7ifR48+yvG244QT4UxMDpyGc0QFAAr8Lj6wcuaI1x9lyw2XTGdeSRCnVHMTQggxiclkbiHEsBUG3Nx51WzufeYwHbELK7fNnxbkXcvLCYxgwXy+38U7l5WR0vDn3acHbO82DW6/spIrZuXjcw3tdVtjrWw+uZmN1RuJJCPnzj98+GFunX8rq0pXEXAF+ulhcEyHwaxCPzctK+NXLx8fcX8jUVXk57rF02S0RwghxKSX9cRHKTUX+AuQAq7RWp8coP0M4NnMt9dorcf2U4AQYtC8LgeXzszjH65fyPPV9bx6vIVIIkVR0M3qqgJWzi6gJOQZ1jS37oqDbt57WTlziv08d7CB3adaSVk9J795MyNQV88vYuG00JCTrYSVYE/DHu7ffz+W7lmIoTPRyc/3/ZwiXxEXF148pDU9ffG7Ta5ZUMzBuna2H2s+d940FJfMyGXV7HyKgh40cLYtypbDjbzey+97JEIekw+tqqQo4M5an0IIIcR4ZceIz7uBSuCZgZIeAK31CaXUUeCazL3ftiEmIYRNfC6TRaUhKgt8vGt5OZbWmIZB0GMOe33N+ZRSFATcXD2vmOUVeZxqifDaiRY6Y0kcSpHrc3FZZR4FfhcBj3NY5aI74h08f+r5C5KeLgkrwYunXmR2zmxC7tBIf0tAesTsI1fOIpKw2HOqlaKgmzvXzibX56SpM86OmmYUcFFZiPdfUcGGjjg/fv4ITZ0jn03sdTq465o5LJoexGnKFDchhBCTnx2Jz3WABh4Zwj0PA+uBdyCJjxATjqEUAY+TQBYqqPXHZRoUBNzk+VzMKwliaY3KvL57hElWPBXnaGv/RSiPtB4hbmVvCaPDUJTmevnEuip+vbWGtywqwVDwnScO8uLhxnOjO05HutT0HWtn8Yl1VXznyYMD7p/Un5DH5K5r5nDJjFy8Q5wOKIQQQkxUdjzmq8gcXx3CPa9njpXZDUUIMRkZhsLjdOBzmXhd5oiTni6m0X8S4DSyn9g5DEVZrodPrJtDns/Jv/zpDZ6rbugxpS2R0jy9/yzfeHQ/IY+Ta+YXD/v1qor8fH7DfJZV5OKXPXuEEEJMIXYkPl3ll5r7bdVTV9uhlW4SQogs8Tl9XFR4Ub9tLiq8CJ/py/prOwwDj9Ng96k2msMJnI7ep+rtOtnK7lOtXDErH3OI0/ncpsG7lpfx929bwJKyHBnpEUIIMeXYkfjEMsehTILvaju0rd2FECJL/Kafq8quIugK9nq9wFPAqtJVeE2vLa/fGU/xak0zPpeD6Tlecn29r1V67mA9HqeD0tzBxWEaiktn5vGldyzg3cvLKc31ypoeIYQQU5Idj/xqSScylwPPD/KeFZnjGRviEUL0I5my6IglaeiIc7Ytmpl6lf7g7XObGCPYr2YiMQyD2bmz+eQln+SPh/7IweaDaDSGMlhcsJib5txEeaB8RPv39EdrTUc8iaEULhPyfC5CHifheJKOWJJoIv1cqD2aLhvuHiB5yfe7WFVVwJo5hZTmegh6nLJPjxBCiCnNjsTnBWAh8HGl1H9prS/c3KMbpZQT+Bjpgggv2hCPEKIP4ViSfafbeHxfHTtrmokl0x+uc31OVlcVsGHxNGbkZX9q13jlNb1cVHgRFaEKTneepjnaTKG3kGm+aQRdQZwO+4o3mA5FSdBDdV0HoHAY6fU/psNJwG2StDSxpMWcYj8epwO/20FJyI1lpe8NuE3K87yU5/uoLPBTnucl5DHxu03bkjUhhBBiIrEj8fkVcCdQBfxMKfURrXWit4aZpOenwBzSic+vbIhHCNGLSDzFK8eb+d7ThwjHe1YIawkn+PPuM+w51cZnr52L1nrKfHh2OVwUegsp9BaO6uv6XSZr5hTywqGGHucNpTAcCtMBHtPg7RdNpyTk5lPr56IBrcFQ6YIPbtPAZRq4HMaU+fMSQgghBivr8x601s8BjwIKuBV4VSl1h1JqjlLKp5TyZn59J+nKb7eSTnqe1Fo/me14hBC9a+iI8ZPnj16Q9HR3vCnM77afJIt7Zoo+mA6D+dODvGVh3xXb3rFkOlXFfrwuk+KQh5KQh2k5HopDHgoDboIeJ27TIUmPEEII0Qu7yvp8kPS0tQWkp739sJ+2CniDdAIkhBgFsUSKHTXNg9oI85WaJpbPsXAY2SkZLfpW4Hdx64oKSnO9bD5Qz/GmMACzCv1cPa+ItfMKyfO5xjhKIYQQYmKyJfHRWjcrpa4Avgt8AOjrE1MK+AXwGa11hx2xCCEuFEmk2HWiZVBtEylNNGHJwvhRoJSiJOThxiXTuWpeER3RBKAIekxyvE48WdqvSAghhJiKbNvIQWvdDtyulPoKcCNwKVBEeoTnLLAD2KS1rrErBiFE7ywN0UTfU9wubC9z3UaTN7MxKyHPWIcihBBCTBq272CntT5GeuRHCDFOOAzI8Q6+QplDKWTViBBCCCEmMpm7IsQU5HOZrJxdMKi2AbeJ1yUL5oUQQggxsUniI8QU5HQYLJweYm5xYMC218wvmjKbmAohhBBi8hqVxEcpFVRKlSmlKgb6Go14hBBQEHBx51Wzqcjve4PSK+cUcOPSUhyGJD5CCCGEmNhsW+OjlFoNfAZYBwx2J0BtZ0xCiDc5HQZVRQG++Lb5bD3SxEuHG6htieIwFHNLAqydW8Ql5TkUBty8MdbBCiGEEEKMkC1JhlLqH4GvkK7gJo+KhRinXKZBRYGfopCHdQuKSKbS1dvcpkHQ48Rl2jMobEWjWJ2doDXK5cLw+1EOKdUshBBCCPtkPfFRSl0HfK3bqR3ANqARsLL9ekKIkfM6HXhHYY8YnUySqKsjvPVlwjt3oiMRnDMrCKxZi3veXBzBoO0xCCGEEGJqsmPE51OZYztws9b6CRteQwgxwWitSdTW0vD9HxA7ePDc+XhNDZ0vbSH/ttsIXH0VDr9/DKMUQgghxGRlxzyWFaTX6vybJD1CiC5WOEz700/3SHrOSSZp+c1vSDU0jH5gQgghhJgS7Eh8Qpnj0zb0LYSYoKyODsLbtvV9vbOT8M6dWLHYKEYlhBBCiKnCjsSnLnNM2dC3EGKiSqVItbT236S1FSxZCiiEEEKI7LMj8Xkxc7zIhr6FEBOVaWIWF/XfpLgYpLqbEEIIIWxgR+LzXdJrfD6h1Nhv966UmqaU+rZS6qBSKqKUalJKvaKU+vc+2t+glNqslGpVSrVlfn3DaMctxGTjCAbxr1rd9/X8fLyXXILhco1iVEIIIYSYKrKe+GittwBfBS4Hfq6U8mT7NQZLKbUKeAP4LJAAHga2AgXA53tp/2lgE7AaeIn0OqXLgU2Za0KIYTK8XgJXX4Vv5RUXXgsEyL/9Nsz8/AuuJVIJWmItNEYaaYm2EE/FRyNcIYQQQkwyduzj82GgBnge+ABwrVLqAWAfEB7ofq31L7IURynwZ8ANvEtr/Yfzrq847/t5wDeBGHBNJoHrOv8S8E2l1KNa6+psxCfEVGQWF1Nw++34V68mvGMHOpzex8e/ciXO6dMxvN5zbS3LojHayN7GvWw7s43maDNBV5DlxctZWryUQm8hpmHLHsxCCCGEmITs+NTwM9JT3bqUAHcN8l4NZCXxAf4NyAU+dX7SA6C1Pr+81GdI///4766kJ9PuoFLqX4BvAZ/mzX2KhBBDpAwDs6gIf14e3iVLwLJQLlePhAfSe/7Uhev43zf+l1fqXulxbVf9LuaemsudF99JebAchyFrgoQQQggxMDvW+ACobl/nfz/Q18hfXKk84L1AK/CTQd7WtY7nwV6uPZA53jjC0IQQgDJNHMEgjpycC5IegM5EJ4/XPH5B0tOluqWajYc20h5vtyU+rTWReJL2aIJwPIml9cA3CSGEEGJcs2PE5xob+hyqK0lPcXsSSCilbgbWAE5gP/A7rXVX2W2UUrlARebbV8/vTGt9UinVAMxUSuVorfuvySuEGJHWeCsv1b7Ub5tX6l7hxtk3kuPOIZt1VNoiCWpbIrx0uJGmzji5PicrZxdQnucl1yeFF8azRMpCa42hFKbDrud6QgghJqqsJz5a683Z7nMYFmeOdaTXGq067/q/KqU+orXuGsnpSnqatdadffR5EijMtN09UABKqb19XKrq7Ozk6adlf1cxcXR2pv9ZjNbf20gywupI3xXgAEjBvpf3UeOsyVrik7I0HbEkbZEEhk7/g6cNdtTBAY9JyOPEYYx5sUpxHsvSpLQmmrCwtMY0FG7TwDAUxtgXF520RvvnghBifLMmwD58k3VlcF7m+GHSxQr+hnRFtwDpNTqfB36plDqgtX49cx76L77QlRAF+mkjhC201mg0CpXV0Y3hxmJpC0tb6ZiUwqEc4yK2kdBaE02kaI0keq5SBNDQHkliGgYBt2NC/z4nm2TKoiOWpCOWwrLe/IMzHYqQ14nP6cCQZFUIIQSTN/HpWu1sAndpre/LfN8A3K2UqgBuBv4e+CBvri3qbyL/kN45tdaLezuvlNrr9/sXrV+/fijdiSmqLdZGXbiO186+RtyKMzd3LrNyZpHvyR/VRf1dT3RXXrWSA40HeOL4E7xe/zoJK0HAGWDFtBVcO/NayoPluBwjnw5W21HL17Z8jeZYc59tXIaLr6z8ClW5VSN+PYCmzjjfe7qa7af7fs1F00P83dr5FAXdWXlNMTIt4Ti/236CTftP93rdNBR3rZ/D6jmFeJxSBCPbun4uyPuZEALAMMb/FOPJmvh0rXi2gJ/3cv0+0onPuvPa+/vp05c5dow0OCEGoyXawuM1j/Pw4YdJWIlz55cULuHDiz9Mmb9sVH/IaK3Z27CXe1+7l3DyzcHRjkQHT594muqWau5aeheVocoRj4jkuHO4suxKHjnySJ9tLpt2GQXeghG9TnfxZIoj9X3NdE07XN9BPJnK2muK4dNaU9cW4y976/psk7Q0j+yq5eKyHEl8hBBC2J/4KKUuBpaTni7vY4CRE63117LwsscyxzNa61g/14szx+OZY55Syt/HOp/y89oKYZtEKsHexr1srN6IPm8g8vWG13nk8CN8YOEHCLlDoxZTSqfYdHhTj6SnuxPtJ9h8cjPF84rxO/t7hjAwn+nj2pnXcjZ8lm1nzq88DwvyF3DTnJsIOoMjep0elMJ09J+wOR2GTHMbJ6IJi61HGomn+p9Tfri+k2MNnRQH3fJnJ4QQU5xtiY9S6ibgX4G5Q7w1G4lPV2W2PKWU0vqCWrRdj4k7ALTWLUqp46QLFywDXujeWClVTjpxOy4V3cRoCCfDbDm95YKkp8vLZ17mhqobRjXxSVpJDjYf7LfNttPbeFvl20ac+CilKPYVc9vi21g5fSVbT289t4HppSWXcnHhxRR4C7I63c/vcrB0Rm6/IwiXzMjB55KRg/EgZWmaw/FBtW3siGNpGCCvFUIIMcnZkvgopT4H/EfXt0O4NSubZWitdyuljgKzgCuArec1WZc57ux27k/AJ0hPgXvhvPbvyRz7nncjRBYlrSQNkYY+r0eSETriozvrMqVTfSZiXVpiLVg6O1VdDGVQ6C0kZ3oOFxVeREqnMJSBz/RlZR3R+fwuk6vnF7PlcCNt0eQF171OB29ZWELAPVlnCE8shsGg/yxCPidS30AIIUTWFwgopeYD/575dj/wLt7cHFQDVcAK4G+BrpLPzwELgdlZDOUbmeN/KaUKu8V3KXB35tsfdGv/n0AK+LhSamW39nOBf8hc+68sxidEn0zDpMhb1Od1v9NP0JXFaV6D4FADj3SEXCEMld0fK07DSY47h3xPPrnuXFuSHgDDUMwpCvCZt85jXkmgxxObWYV+PvWWOSyaHpL9YcYJj9PBFbMLBiwvXp7nZU6RX6a5CSGEsGXE5y7SVdVagKu01o1KqXMVzrTWR4GjwA6l1A+Be4E7gP/QWt+YxTh+DLyF9GjNAaXUS6RLUa8GXMCPtdYPdovrgFLqC8C3gOeVUk8AcWAD4AU+r7U+kMX4hOiT3+lndelqtp/Z3usoy4ppKwi5Rm+aG6STsaqcKg63Hu6zzWXTLiPgnLgV370uB5fMyKGycAE1jWHq22LkB1zMKvST63XiniAL5C3LIqnTo1amYWY9GR0PDKUoy/Wwdm4hzx6o77WNAt5+8XRyvLLxrBBCCHsSn6tIj+z8QGvd2F9DrXVKKfVx0utq3qGUukVr/dtsBKG1tpRS7wOeJZ1Yrc/EtSMT2//2cs+3lVKHgC8AazOnXwH+n9b64WzEJcRgmIbJwoKFvGfee3jo8EPEUukaHQrF0uKl3DD7BgKu0U0wHMrB9bOv54ev//BcPN2V+EpYV74On9PXy90Th9t0UBx0UBRwY2kwFBNmtCCeitMWb+N423Fq2tIbu1blVFEaKCXoCto2WjZWcn0ubl1RgcNQPHewnkTqzYcEIY/JTcvLWDu3EK+syxJCCIE9ic/MzLH7uppz70ZKKVNrfW4CvdZaK6XuJV1i+kNAVhKfTN8W6RGle4dwzyZgU7ZiEGK4ct25bKjcwLLiZeyq30UsFWNe3jwqQhXkufNG/Sm+Uumk65OXfJLHax5nX+M+NBq3w82y4mVcP+t6KkIVk2Z0Ib0x61hHMXjhRJjdDbvZdHgTh1oOnRspVCgWFSzinVXvZH7+fDymZ4wjzR5DKableLhtdSVvWzyNV2qaCcdTFAbdXDozj3y/S9ZkCSGEOMeOd4Suck4nup2LdPt1EDh/h8CutT6X2BCPEBNW0BUk6ApSFixDa43TcA67klksFSOcCGNpC5fDhc/0Dbkvv9PP8pLlzM2bS1O0ic5EJ3nuPHI9ufidfkxDPmSOhVgqxq76Xfxg1w+IpqI9rmk0exv3crz9OJ9a9ikW5S/C6XCOUaTZZyhFns9FrtdJZaEfrTWGoXCbMsojhBCiJzs+pXQAOUD3d9buic5MLkx8uh5B9r2aW4gpzO1wD/velJWiIdLA9rrt7KzbSTgZZkZwBleWXsmc3DlDnjLncrgo8BZkdfNQMTKtsVY2Vm+8IOnprj3ezqbDm5gRmEG+N38UoxsdSinZpFQIIUS/7Eh8jpBes1MObINz++TUk94LZw3w2nn3XJE59r4zohBi2Ooj9fx0z095rf7Nf3ZHW4+ytXYrty2+jStLr8Tr9I5hhGIkklaSQy2HON4+8N7Kexv3UttZS64nd9JMSRRCCCEGy453vlcyx+XnnX+KdJGdu5VS50Z2MuWvv0B6HdD5CZEQYgSiyShbT2/tkfR0iVtxfnfwdzTFmsYgMpEtSSvJ0dajg2praYsjrUdIWhfuUySEEEJMdnYkPk+TTnBuOO98V4GBCtLlpR9USj1KuspaVyL0UxviEWLUxZIx6sP1HGo5xKGWQ9SH64klL6yEZrfORCev1L3S5/XWWCt7GvaQSCVGMSohhBBCiNFnx1S3R4DXAYdSaq7WuhpAa/2CUuo7wGeBXOCmTPuuukm/763EtBATTXu8ne1ntvN4zePnnsTPzpnNhpkbuGzaZaO68ailLTriHf226Yh3YGGNUkQi20zDpCJYMai2CsXM4EwpQiGEEGJKyvqIj9a6U2u9VGt9cVfS0+3a54EPA1uATiAG7AI+A7wv27EIMdpiyRg7zuzgJ7t/0mP60ZHWI/x49495pe6VXvfAsYvT4aQ0UNpvmxnBGZhKPghPVKZhMi9vHmWBsgHbLshfQHmwXNb3CCGEmJJG/d1Pa/1LrfWVWuuQ1tqntV6mtf5uZs8dISa0tngbTxx/gpROXXAtpVM8WfMk7fH2UYsn4AywpmxNnx905+bOZVbOrGGXyBbjQ447h7+a81c4jb7LVPtMHzfMvmFURxyFEEKI8UQe+wmRRZ2JTo60HOnz+qGWQwNOPcsm0zBZVLCIW+bfgtfsWbltVs4sPrToQ+S6c0ctHmEPj+lhefFyPrrko8wIzrjgelVOFZ9c+kkWFSzC5XCNQYRCCCHE2Mv6/Bal1Jczv7xXa90wyHvygE8BaK2/lu2YhJjKctw5vLXirSwtWspr9a8RToSpCFUwL28eue7cSbWZ5VQWcAVYMW0FC/IXUN1czfH24ygUVblVVIYqCblDI9oPSgghhJjo7JjY/xXSpakfBAaV+AD53e6TxEdMWAFXgHl58zjQfKDX6/Py5g15w9BsCLgCBFwBpgemo7XGNExZ4D4JeUwPHtNDviefy0ouQyN/1kIIIUQXmeomRBYFXUGunXltr2stnIaTDZUbCLlCYxBZmtvhxmN65IPwJGcaJm5T/qyFEEKI7sZL4tO1svrCFeFCTCBuh5tlxcv4+CUfZ2H+QlTmv4X5C/n4JR9nadFSWWMhhBBCCDEGxsujwK7VuK1jGoUQWdC11mJh/kLCyTCQrqgVdAUl6RFCCCGEGCN2Jj56oAZKKScwD/inzKn9NsYjxKhxOVwUeAsooGCsQxFCCCGEEGQh8VFK9TY9TQF7lFJD6UoDG0cajxBjIZKM0BZr40z4DCkrxTT/NHLcOfhMH0P8dyCEEEIIIWyQjRGfvj7VDfXT3uPAd0cYixCjrjnazIu1L/JUzVPUdtYCkOfOY235Wt5a8VaKfcWS/IyCaDJKLBVDofCYHplWKMQkFkvFpEKlEGLIsvHT4ufnfX8b6dGbh4GWfu7TQBQ4BWzWWr+QhViEGFXhRJjNJzfzm/2/QXeb3dkca+bhww/TFm/jffPfR54nbwyjnNxiyRh14Tq2n9nOoZZDmIbJksIlXFx0MYXeQvlQJMQk0pnopD5cz86zO+lMdFIZqmRe3jzyPfmyJ5kQYkAj/kSgtf5I9++VUrdlfvkPWut9I+1fiPGsJdbCY8ce65H0dPf8yedZV76OHHcOhhovRRQnj3gqzsHmg3x/1/dpjDaeO7/tzDbm5c3jzovvpDxQjmHI/3shJrr2eDsvnHqB3x74LZFk5Nz5qtwq/vqiv6YyVCkPOoQQ/bLj08BXSW9CetaGvoUYNyzLorq5muZoc59tUjrFa/WvEU/FRzGyqaM11sr9B+7vkfR0Odh8kEePPkpnsnMMIhNCZJOlLWraavjlG7/skfQAHG45zAMHH6At3jZG0QkhJoqsJz5a669mvhqy3bcQ44lGE0vFBmwXT8X7HBESw2dpi+NtxznccrjPNi+feVk+DAkxCUSSEV4+/TJJK9nr9d31u6kP149yVEKIiUbmfwgxTA7DQUWoAody9NuuIlQh0y9skNIpzkb6H1juTHQSToRHKSIhhF1SVqrXkd1z13WKhog8bxVC9C/riY9S6hKlVEopFVVKlQ+ifblSKq6USiqlFmQ7HiHsVOIrYVnxsj6vlwXKWJS/CKchi26zzaEc5Hvy+23jNb14Te8oRSSEsIvDcFDkLer7uur/uhBCgD0jPu8mXcr6ca31yYEaZ9o8monlPTbEI4Rtgq4gN8+7mbm5cy+4Vuwr5vbFt0+Iim5JK0lLrIX6cD2NkUaiyehYhzQgQxnMyplFRbCizzaXllxKyBUaxaiEEHbwml5WTl+Jy+i9TP2y4mUU+STxEUL0z475N+tJl6p+dAj3/Am4EXgr8M82xCSELUzDZEZwBp9a9ineaHqDvQ17Seokc3PnsrR4KQXegnG/n0xLrIV9jft48dSL1HbU4nP6WFa8jFXTV1HiLxnX0/Ry3DncMv8WfvD6D2iPt/e4NiM4g3fMegd+p3+MohNCZIuhDCqCFdy2+DZ+c+A3Pf69LypYxM3zbiboCo5hhEKIicCOTzRd09t2D+GerrLXM7IcixC2Mw2TEn8J+Z58Liu5DACnw4nb4R7jyAbWFmvjyZonefDggz0KMBxqOcSrZ1/lY0s+xozgl5zu0AAAIABJREFU+P1n6Xa4WVy4mC9e/kW21G45t4/PxYUXc/m0yynxleAw+l+DJYSYGPwuP6tLVzM/fz6763en9/HJqaQyVEmeJ29cP6QRQowPdvyUmJY5tvfbqqeuttP6bSXEOOZ0OCfUBnpaa053nmZj9cZeq84dajnEMyee4eZ5N49BdIPnNb3MyZ1DWaCMaCqKQuE1vXhMz1iHJoTIMp/Th8/po8RXgqUtTMOUhEcIMWh2rPHpyBz7X3XcU1db2exEiFESTUbZdmYbKZ3qs832M9vpiHf0eX28UErhc/rI9+ST58mTpEeISc7lcOExPZL0CCGGxI7E50TmeOUQ7lmTOZ7KcixCiD6kdIqWWEu/bVpjrf0mRkIIIYQQE4Udic9zpKu6fUIpNeBKw0ybT5AuiPCcDfEIIXrhMBwUegv7bVPgLZAnqkIIIYSYFOxIfO7LHKcBG5VSuX01zFz7A2+u7bmvr7ZCiOzyODysmLai3yIMK6evJOAMjGJUYrKKJWPUh+s51X6K2o5aWmOtJK3kWIclhBBiCsn6o1yt9S6l1C+AD5MubX1AKfUT4BmglvTIThlwDXAHUJg592ut9fZsxyOE6J1SihJfCbcuuJVfvfErElaix/WlRUu5uvxqfE7fGEUoJouWaAsvn3mZZ088y9HWo7gdbpYWL+W6yuuoyqnCbY7/CohCCCEmPrvmsHwcmAlcTTqxuSfzdT6VOT4L3GlTLEKIPgRcAdaWrWVGcAYv1b50bh+f5cXLWVK0hAJPwViHKCa4cCLMc6ee49dv/Ppc9cBoKsrW01upbq7mc5d+jjm5c1BKDdCTEEIIMTK2JD5a66hS6q3APwGfAXL6aNoKfAv4/7SWFdRCjIWAK8CigkVUhipJWAkMZeA1veN+41UxMbTGWnn06KO9lkxvjDbywqkXKA2UykazQgghbGfbquVMIvMVpdR/kJ7WdilQRHqU5yywA3hGa91pVwxCiMExlEHAJWt5RPYdaztGU7Spz+v7GvcRSUYk8RFCCGE728s1aa07gE2ZLyGEmLJSVorORCdxK45DOfA7/ZN+ZK23kZ6hXBdCCCGyRerUCiHEKOiId7C/aT8v1r7IyfaThFwhLp92OZeWXEqht3DSrnGpDFWS58mjOdrc6/VFBYvwOryjHJUQQoipaFQSH6VUGTAd8AHbtdaR0XhdIYQYDyLJCNvObOO+Pff1qJ63p3EPR9uOcsu8W8j35o9hhPbJdedy3czr+O2B314wupPvyWdN6RqpHCiEEGJU2Jb4KKU8wOeAjwIV3S5dDOzr1u69wA1Ai9b603bFI4TIjmgySlu8jYZIAwkrQZG3iBx3Dj7TN2lHLUaqNdbKHw/98YKS4QD/P3v3HSZXed/9//2dvjPbm3bVKyCEJCShAtggigHjirEvd4wB23HyELf88qTYj53ET35X8nOcxInjbrAv2U5i0xxMHAxYCAxCEqIISahQhMruStqirbM75f79MbPyStq+U3ZnP6/rmutoz7nPPd9d7Zk933O3xw8/zrq6dZQFy/B6vHmILrvC/jAb52wk5Aux+fBmXm9/nYAnwMW1F3PD/BuYVzpPvzciIpITWUl8zKweeAhYwe+nrAYG7cz9AvCz9Hk/ds7tyEZMIjJx7b3tbGvcxsOHHuZQ+yEAKoIVvHn2m7l27rXUhmt1EzuIQ+2HaOpuGvSYw/H88edZWrmUsKcwWz4qQhVcNecqLplxCdFEFK95CfvDFPuL8XnU41pERHIj439xzMwD3AesJJXo3ENqnZ5/Gay8c26fmW0FNpBq+VHiIzIJJV2SrQ1buWv3XSRd8vT+1t5WfvnKL2nvbecDF3yAilBF3mJ0zhFNREkkE3jMQ9AbnBStKLHEuS09A8WT8YIf5B/yhQj5QvkOQ0REprFsPGr7ILAOSALvdc7dD2BmgyY+ab8CLgUuy0I8IpIBSZfkv1/77zOSnoGeOPoEV865krJgGR7z5DQ25xynek/R1N3EtsZttPW2EfaFWVW7irmlcykPlue1ZWFB2QJKA6W097UPenxp1dKCn91NREQk37JxJ/B+Ui09P+pPekbh+fT2/CzEIyIZEEvGOBY9NuTxhEvw3PHnWFi2MKdP9p1zNHU3cd/B+3jiyBMkBqyF/JtDv+Gi6ov40NIPMbdkbt6Sn7JgGdfNv45f7P/FOceWVS3jgsoL8Hv8eYhMRERk+sjGY9k16e29YzjneHpbneFYRCRDnBu5K1Zfoi/nXbbaetu478B9bD68+YykB1LjZ3ad3MUPdv2Akz0ncxrXQMWBYq6Zcw23XHgLC0oX4Pf4qQpVccP8G7jtotuoClXlLTYREZHpIhuPP/v/gh8dwzn9fWfy3xlfRAbl9/gp8hXREx96Nvr5pfPxWe5aVZxzNHU18cTRJ4Ytd7DtILtO7KIyVJm3LmWVRZVcM/ca1tWtI5aM4TEPxf5iwv5wzrsGioiITEfZ+Gvbld7WjuGc/umuWzIci4hkiMfjYX39+iGPzyqexdKqpfi9ueuyFY1H2da47ZyWnsFsb9pOV6xrxHLZFPKFqAnXMLN4JnWROooDxUp6REREciQbf3EPp7fnjeGcG9LbfRmORUQyxGMe3rHwHVxce/E5x+oj9Xx82cepDOV2Ec6ES9Da2zqqsq3R1lElSCIiIlKYstEn5TFS6/d8CvjXkQqb2QXALaQmRHg0C/GISAYYRn2knk8s/wSvtr3KiydfJJaMsahsEctrluelG5mZUeQrGlXZIl8Rnqw86xEREZGpIBuJz3eAO4ELzexLzrm/Gaqgma0BfgGEgCjwvSzEIyIZ4vV4qS6qpjxYzkXVF+Fw+D3+vI2bCXlDrKpdxaNvjPzMZEXNCsL+wlwgVEREREaW8cefzrl9wD8ABnzFzH5rZp8aUORNZvaHZvYg8Awwj1Rrz1855wZf2lxEJhWfx0fYHybij+R1/Rmvx8v80vksrVw6bLmKUAXr6tZpAU0REZFpLFvTL/05qampbwOuSL/657j91oBylt5+xzn3d1mKRWRS6kv00ZvoJemSeMxDyBvK6cQAhaIiVMFHL/wo39v1PV479dq5x4MV3HHRHdSGxzLfioiIiBSarCQ+LrXgxx1m9jDwJWDZEEVfAb7snPtpNuIQmYy6Y9209bbxwokXeLnlZaKJKGFfmJU1K1lauZSyYJlaJsbA5/Ext2Qun139WZ4//jw7mnbQEm0h4o+wsmYla+vWMiM8Qz9TERGRaS6rC2445/4T+E8zOw9YT2qKax9wAnjWOfdCNt9fZLJpi7bx5NEnefC1B2mNnjkb2VPHnqI+Us97lryH1bWrKQ4U5ynKqcfv9VMXqePquVezvn49CZfAMML+8KgnPxAREZHClpOVBp1z+4H9uXgvkcmqvbedR994lJ/v/znudM/PMzV0NfDdF7/LHcvvYF39OsI+DcYfi4A3kNcxRzJ5JZIJumJd9CX78JiHiD9C0BvMd1giIpJDuVtiXWQaS7okRzqPcM+Be4ZMevrFkjF+svcnLCpfRLhEiY/IRHX2dbKvZR9PHnuSwx2HKfYXc0ndJayrW0d1UbUWkRURmSZykviYmQGLSU144IBm4BXnXDIX7y+Sb92xbp469tSoF9Bs72vn2aZnqSmqmXJjU5LJJLFkDAC/x4/Ho5tKyZ+eeA9bG7Zy9+67T/9eAuxt2cuB1gN8ZOlHqAnX5DFCERHJlawmPmZ2JfAZ4FogctbhLjN7BPhn59zj2YxDJN86Y53sbNo5pnN2Nu3killXTJnEpy/RR3tfO4c7DvNK2ysALC5fzOyS2ZQGStUFTfLiVO8p7j94/xlJT7+tDVtZM2MN5aFy/B7NqCgiUuiykviYmZfUQqYf7981SLFi4F3Au8zsbuBTzrl4NuIRybekS9LW2zamc071nRp1C1G+9cR72Nu8l/sO3seB1gOnu/MZxnkV5/GeJe/hgsoLpkwSJ4XBOccrba9woufEkGWeO/4cq2pX4Q8o8RERKXTZavH5GXAzv094Xga2Ao3pfTNIzfLWv+rgrUAp8L4sxSOSdz6Pj0Ri9ImM17ykeolObrFEjH0t+/jm89+kM9Z5xjGHY1/rPv71+X/lj1f9MUsrl56xVlEsGSORTGBmGmguGedw9CZ6hy3Tl+gjtQKDiIgUuownPmb2XuC9pMby7AM+4Zx7coiybyLVMrQUeI+Zvdc594tMxySSb0FvkAVlC3i55eVRn7OgbAEBz+TvHtYR6+Ch1x46J+k5o0xfB//92n8zp2QOFd4KeuO9tPa28nLLyxzrPEaRr4iLay+muqiakkBJDqOXQuYxDwvLFlLkK6In3jNomcXli9UNU0RkmshGi88n0tsjwGXOudahCjrnnjSzNwPPAbPT5yrxkYJTEihhQ/2GUSc+hnH5zMuJ+M8eGjf5NHU18dLJl0Ys9+LJFznRfYKSQAm7Tu5i095NNHQ1nD5+/8H7uX7+9Vw//3qqiqqyGbJMI5WhSq6cfSW/fv3X5xyrj9Sztm6tumCKiEwT2ZhuaRWp1p6/Gy7p6eecawH+nlQXuNVZiEck7wLeABfXXMy8knmjKr+qdhVzS+fi9XizHNnEJJIJjnQeGdVYpHgyzpHOI3THuvnOi985I+kBiCaiPPDKAzxx9Ikhn86LjFVJoIS3LXwb7170bipCFUBqtsFLZlzCp1d+mtpwbZ4jFBGRXMlGi0//cvPbx3DOtvR28j/eFhmn6qJq7lh+B9958Tsc6TwyZLmllUv54AUfpCJYkcPoxscwvDb65MxjHk72nKS9r33IMo8ffpxL6y+lyFeUiRBlmjMzaopqeOfid7Jxzkba+9oJeoOUB8spDhTj82g5OxGR6SIbn/gNwHxgLI+q+8s2DFtKZArze/3ML5vPH6/+Y7Ye28rTDU+f0eqxsGwhG+o3sK5+HbVFtZO+tQfA4xl5DEW/iD/CgrIFvNr26rDljnUdoyXawozIjEyGKtOYmRHxR4j4I9RTn+9wREQkT7KR+DwG3AZcQWomt9G4Mr39bRbiEZk0At4A80rnURuuZeOcjZzoOUE0HiXij5we2D/VxhvUFNVw44IbefDVB4edQWtt3VrKAmXsad4zYp3902GLiIiIZEo2Ep9/Bj4C/KmZ/adz7vXhCpvZfOD/AXrT54oUvCJfEUW+oindqhFLxuiOdRNPxrlqzlWsrl3N9sbtPH7kcVp7zxzet6B0ATcuuJGwP0x5qHzYeusj9VSFNLmBiIiIZFbGEx/n3EtmdjvwQ+ApM/sC8POzFyc1Mx+pdXu+Rmpsz+3OuV2ZjkdEMiuZTNIcbWZf6z6eaXiG5mgzRd4iVtSsYF39OlbWruT7u77P0c6jVIQqWF+3nqvnXs3MyEx8Hh8b6jew+fDmIcf5bJyzkdJgaY6/KxHJt95ELx19HUTjUTzmIewLaxyWiGRUNtbx+WH6n3uAi4FNwDfNbCfQRGrGtzpSM7iVpcs+D1xrZtcOUa1zzt2e6VhFZGySLklDdwOb9mxi5/GdZxx7qfkl6sJ1fGLFJ/jShi/R0NlARaiC0mApYV/49GKss4pn8ckVn2TT3k00djWePj/oDXL9/Ot506w3aWIDkWmmo6+DZ5ue5ZFDj3Cw7SB+j58VNSu4ccGNLC5fTNCnBY5FZOKy8RjlVjjdQb9/WwZcNcw5F6dfw1HiI5JnnX2dPPjqg+ckPf0auxv58Z4f84U1X+DC6gsHLRPyhVhRvYI/X/fn7GneQ0NXQ2oB05rUAqZq7RGZXnoTvTzb9CzfffG7p6fG70v2saNpB6+eepUvrPkCi8oXnX54IiIyXtlqP9ank0gBaom28PSxp4ctc6j9EC+3vkxlUSV+j3/QMkFfkDpfHVWhKhIugWF6oisyTXX0dfDIoUcGXQ+sJdrCU8eeYmbxTML+cB6iE5FCkvEFTJ1znmy8Mh2niIyNc469LXtHtbjoSydeojc+9Axv/fxePyFfSEmPyDQWjUc52HZwyOP7W/cTTURzGJGIFColFCIyarFkbFTl+pJ9mpJaREbFzIZsHYbUMgCmjiQikgFKfERkdCw1McFobkD6Z3ATERlJxBdhRc2KIY+vrFlJ2KdubiIycRlPfGwCow/NbF4mYxGRzDGMeaXzWFi+cNhyQW+QdfXrNDObiIxKcaCYGxfcSGWo8pxjy6qWsbZurbrDikhGZKPF5zEzqxvrSWb2HuC5LMQjIhlSGijlpsU3Dfn01TDevfjd1BTV5DiyzIolUouzdse6SSTPHXAtIpnj8/hYXL6Yz6/5PG9b8DaWlC9hWdUyPnTBh7j9otspC5ZxovsE3bFunFMXWhEZv2z0RbkSeN7MbnHOPTxSYTMLAF8HPp2FWEQkgwLeABdVX8Sdq+7kfw79D7tO7Do9E9PCsoVcNecq1tWtozhQnOdIx6cv0UdrtJU9zXs40HYAr3lZUbOCBWULqAxW4vGod7BINgR9QRaXL2ZW8Syi8SgOR9Il2XVyF/cduA+vx8vaurVsnLORunAdXo833yGLyBSUrU74NcBDZvb/AX/pnEsOVsjMlgD/AawkNQX2iSzFIyIZUuQrYnnNchaULaC5p5mWaAthf5gZ4RmUBEoI+UL5DnFcYokYr596ne+/9H0OtR86vf/hQw+zZsYaPrz0w9RH6vHY2JOfeDJOd6ybpEvi9XgJ+8K6cRM5i5kR9ofxmIftjdv54Us/pDveffr4L1/5Ja+0vcKnVnyKGZEZeYxURKaqbCQ+7wO+T2rR0j8F3mxmH3DOHRlYyMw+AvwbECGV9GwBPpSFeEQkw/wePxWhCipCFfkOJWPaetvYtHfTGUlPv2ebnqU8WM4HL/ggJYGSUdeZdEmae5rZ37qfbY3b6OjroCpUxfr69SwsX0hFsEKLMoqcpSXawqa9m85Ievrtbt7NSydfoiJUQcAbyEN0IjKVZWMdn3uA1cB2UgnNpaS6vr0DwMyKzOwu4EdAMeCAvwauds4dy1QcZrbZzNwwrxuGOO8WM9tmZp1m1mJmD5nZZZmKS0Qmn0Qywevtr7Ovdd+QZbY2bKUt2jbqOp1zHO8+zo/2/IhvPPcNtjZsZXfzbrYc3cLXdnyN+w7cR3O0ORPhixQM5xwH2w7S1jv0tfZS80v0JkZeJ0xE5GxZ6ermnHvNzC4H/h74DFAJ3G9m3wOuAM4nlRQ1AB92zm3ORhxp9wCdg+w/evYOM/s68DmgB3gYCAFvAa4zs/c55+7LYpwikifxZHzQlp6BumJdNHU3Mad0zqjq7I5385tDv2F74/ZzjjkcDx96mLpIHdfOvVYzVokMMNIEBprgQETGK2sLbTjn4sDnzewx4C6gCvgEnF4E5NfALc65k9mKIe1PnHOvj1TIzK4mlfQ0A5c65w6k918KbAbuMrPNzrnWLMYqInlgZqMamzSWKbrb+9p56thTw5b53bHfsb5+vRIfkTQzY3H5YsoCZZzqOzVomWVVywh6dc2IyNjlYoqizcAzZ+1rA76Qg6RnLL6Q3n61P+kBcM49DXyb1Jil2/IRmIhkV8AbYEX1imEXSVxUvojacO2o62zpaaEl2jJsmddPvU5fom/UdYpMB+Whcm5YcMOgiyVfUHkBK2pWaHyPiIxLVhMfM1sF7ATemt7V3ym3DNhmZh/L5vuPlpmFgGvSX/5ikCL9+96Rm4hEJNcqQ5W8beHbBr3ZCngC3LjgRkoDpaOuz+cZuUF9NGVEppuIP8JVc67itotuY0n5Eop8RdQU1XDjghu5Y/kdVBVV5TtEEZmisvZX18zuJDXGJ0Cqe9s9wCeBO4EvkZrN7Ydmdi3wB865riyFcruZVQFJYD9wv3PujbPKXAAEgRNnzz6XtjO9XZGlGEUkz4oDxVwz9xqKA8VsObyFV0+9isc8LKtaxjVzr2F5zfIxdUmrCFUwr3TesGOHllUtG1P3OZHpoiJUwZVzrmT1jNXEEjE85qE4UEzYF9ZMiCIybhlPfMysjNSYnneRSnh6SY2z+Wa6yF+b2WbgJ8AsUlNYrzWz9zvnXsh0PMAXz/r6a2b2N865vxmwb256O1jSg3Ouy8zagAozK3HOdWQhThHJs4pQBVfNvoo1tWuIJqJ48FDkL6LEX4Lf6x9TXaWBUq6eczV3774bx7mDsf0eP1fOvnLKLvYqkm1Bb5BgkcbyiEjmZKPF53lSiYQBB4D3O+eeH1jAObfFzFYCPwZuBJYAW81sYII0UVtIrSf0FKnZ4+YA7yWVCP21mbU75/45Xbb/zuPcRQN+rwsoT5cdMfExs91DHFrU1dXFY489NvJ3IDjnSJIkkUwQT8bxerx4LfXSU7/c6epKNcjq93ZsvEkvH/B9gI6+DpID1nH2mpdSfymdezt54uUn8hihyPjpc0FEBkomkyMXyrNsJD7z0tufkurCNthU0jjnWoC3m9nngf+XVFezbwAZSXycc//nrF37gb81sx3A/wB/ZWbfdc718PuZ5oabI1N32TnmnCOejNPe105PvAeHwzAC3gAlgRKC3iAey8X8HCLj4/V4KfYXU+QtIpqIknAJfOYj6AviNa9+f2XSSbokSZck4RI4504/bDJMD5tEZMrLRuLTA9zpnPvhaAo7575uZluA/wDmZyGes9/v4XTycwmwAfgtv2/BiQxzav90T4MmcoO8z7LB9pvZ7kgkcuHVV189yoinr6buJr753DfZ17sPvGceK3ElfP7iz3NB5QW6ecyB/ie6+r0dv75EH0mXxGMezUglk048Gaexq5HHjzzO1oatHO8+DkCxv5hL6i7hqtlXMb9s/hnTvutzQUQG8ngm//1YNiJcO9qkp59zbgewCvh5FuIZTP901fXpbf9kB7MHK2xmEVLd3No0vic3YskYLze/zL7WfYMe74h18OTRJ+mKZWtODJHMCngDhHwhJT0y6SSTSY51HuPbL3ybX77yy9NJD0BnrJPNhzfzT8/9E/tb92v6dRGZ0jKe+Djn9ozzvHbn3AcyHc8QKtLb/tabfaQmYagxs8GSn9Xp7YvZDkxS+uJ97Gke/ldpT/MeovFojiISESlMnbFOfvXqrzjQdmDIMq3RVn6696e09bblMDIRkcya/G1SGWZmNcCb01/uBEiP8+kfnfneQU7r3/dgdqOTgQabCUtERDKrNdrKM41nrzN+rtfaX+Ng20HiyXgOohIRybwJJT5mVmpmo1/Rb+h6is3snWb2zonWla5vg5ldZWeNxDSz+cB9pMby/PKsNXu+nt5+0cyWDDjnUuBTQDvwg0zEJyMLeANcWHXhsGUuqLzgjP7mIiIyNvFknL2te+mJ94yq/K6Tu+hN9I5cUERkEpro5AZtQNLMVgzWxc3MZgJfBZxz7vZh6pkH3E9qkdFMTLhwAam1hBrMbD/QSGr8zhogBOwGPjHwBOfcI2b2z8BngOfN7DekFl99C6kE8cPpmegkB/xeP0srl7KkfMmg3S8i/ghvnvVmIr7h5qMQEZHhJF1yTON2+hJ9OKfWeBGZmjLR1W24+S0rgFvTr4nWNRbPAN8itX7PhcDNwEWk1hj6AqkJGI6ffZJz7rPAx4G9pBKey4BHgSudc/dkKDYZpaqiKm5ffjvr6tbh96QWjzSMxeWL+fTKT7OwfOGUmEFERGSy8pqXylDlqMtXBCvwerwjFxQRmYSyMZ113jnn9gJ/OM5z7wbuzmQ8Mj4+j4+5JXO5/aLbOdlzksauRsqCZdQX11MaKNXsWCIiE+T1eFlSvoT6SD0NXQ3DlvV5fKytW0vIqy7GIjI1FWTiI4XD6/FSHiqnPFTO4orF+Q5HRKTglAZLuXbutWzau2nYSWUuq7+MGeEZWshURKYsJT4iMi1E41HiyThmRsgbUncdkbQiXxGXzbqMrlgXD7zyAAmXOKfMurp1vGfJeygNTng+IxGRvFHiIzLJReNR2vvaOdlzkr5EHzXhGsoCZUT8ET15HYXuWDcne06yo2kHxzqPEfQGubj2YhaULdB4BZG0ylAlb13wVpbXLOfpY0/zStsrJF2S+uJ6Lpt5GQvKFlAZqsRjGlcpIlOXEh+RSay9t51tjdt4+NDDHGo/BEBZsIzLZ17O9fOvpzZcO+EbkZ54D7FEDI95KPIVFVQi0BXrYlvjNjbt2URnrPP0/kfeeISLay/mo0s/yszITE2SIUKqy9sFgQuYWzL39JTVfo+fiD9SUJ8LIjJ9KfERmaR64j1sbdjKXbvvIumSp/ef6j3FQ689REu0hVsuvIWqoqpx1d8d66axq5Ftjds42nmUsD/M2hlrTz/ZneqtSUmX5LVTr3HXS3cNuu7I88efJ+KLcMuyWygPluchQpHJx2MeigPFFFOc71BERDJOiY/IJNXe285Drz10RtIz0DMNz7BxzkbKg+VjfhrbE+/h2aZnuWv3XXTFuk7v33x4Mxtnb+Tm826mNlw7ofjzrTvWzVPHnhp2scXtjdu5ceGNlAXKpnyiJyIiIsNT/w6RSepQ+6Fhp5d1OHY27RzXKuonuk/wo90/OiPp6bf5yGa2NmwlGo+Oud7JJJqIsr91/7Bl+pJ97G/ZT9zFcxSViIiI5EumWnz+0MzOWRAUOP3I2Mz+zzDnT+1HyyIZ5pyjJ94zYrloPDpki9BQeuO97GjaQUesY8gyW49t5bKZlxHyTZP1OrQQvYiISMHLVOLz6WGO9d9SfDlD7yVS8MyM2SWzCXgC9CX7hiw3u2Q2fq9/THXHXZym7qZhyzR2NxJLxsZU72QT9AZZUrGEwx2Hhyzj9/g5r+I8fB71+hURESl0mejqZhl6icgAVUVVrJ6xesjjZcEy1sxYQ9AbHFO9HvNQ4i8ZtkxJoASvTe1ZnCL+CJfPvHzYn8+6unVUF1VrfI+IiMg0MNHHnB/PSBQico5ifzE3Lb6J5p5mDrQdOONYSaCEjy/7+LhmdAt5Q6ytW8tDrz006EKFAGtq11Dsn9qzOnnMw4KyBdy67FY27d10znimlTXfZgGeAAAgAElEQVQrUwsyBrQgo4iIyHQwocTHOfejTAUiImfyeXzMLpnNnavu5KWTL/HiyReJJWPML53Purp1zIjMoMhXNOZ6zYz6SD3vWvQu7jt4H+6sAS4LyxZy5Zwrx1X3ZBPxR9hQv4FF5YvY3rg9tYCpL8iqmlW/X5BRa/iIiIhMC+rYLjKJ+Tw+ZkRmUBGqYG3dWgD8Xv+Ek5LSYCnXzb+O+uJ6fnfsdxztOErEH2F17WounXkp9ZH6gun+FfaHmeefx4zwDOLJOGZG0BvMybieaDxKT7yHhEtgGF6Pl4gvMuZxWSIiIjJxSnxEpoCAN0DAG8honRWhCi6tv5Tl1cuJJWN4zEPEHymIlp7B5GqGOuccnbFOWqOt7Gjawa6Tu+jq68JjHiqLKlk7Yy1Lq5ZSFiwr2J+1iIjIZKTER2Qa83v9VHgr8h1GwUgkE5zoOcGvXv0Vvzv2u3PGFb3W/hrPNj1LfaSe6+dfz6X1l1IeKs9TtCIiItOLEh8RkQxIuiRN3U3cvftuXjjxwrBlG7oa+NHuH9He2871869X8iMiIpIDGtUrIpIBp3pPce+Be0dMevo5HPcdvI9nGp8hGo9mOToRERFR4iMiMkFJl6Shq4Gnjj01pvMcjt8c+g3tfe1ZikxERET6qatbgYon43T2ddISbeFkz0mA1OxgwQoi/ghez9RenFJkMumOdfP0saeHXBdpOIc7DnOg9QCVocqczDQnIiIyXemvbAHq7OtkT/MethzdwgvHX6Av2QdAka+INTPWcOXsK1lcvpiwP5znSEUKQ2esk2ebnh33+dsbt7O8ejmlQS2mKiIiki1KfApMZ18nTxx9gp/s/QmxZOyMYz3xHp48+iQ7m3Zy+/LbWVO7hiK/ptMdi0QyQcIl8JlPC1/KaUmXpK23bdznt/W2jau1SEREREZPiU8BSSQT7GvdN2jSM1B3vJsfvvRDatfVsqR8ScEsVJlNvYle2qJtHGw7SHO0mZmRmcwrnUd5sHxKLEbpnNP/cxY5HEmXnND5IiIikl1KfApIZ6yTJ48+OWzS068r1sXWY1uZXTxbXd5G0BvvZW/LXjbt3cThjsOn959XcR4fXfpRFpQtmJTJT/84rxM9JzjaeZQSfwlzSudQFigj6AvmO7yC4jUvJYGScU9SUOwvxmNqQRQREckmJT4F5FTvKXY27Rx1+W2N27h+/vVKfEbQHG3m+7u+z4meE2fs39+6nx/v+TGfWf0ZasI1eYpucPFknCMdR7j34L3sbNp5OhmeWzKXdy1+F6trV+v/PYPCvjAra1byxNEnxnX+xTUXU+RTt1MREZFsyuojRjO71MzuMrMDZtZpZnEzu/CsMpeZ2W1m9t5sxjIdnOo9RTQx+vVATvacJJ6MZzGiqa8v0cfzx58/J+npd6DtAK+deo1EcnKNz2iJtnD37rt5puGZM1oA3+h4g++++F32tuzV/30GRfwRLp91OcbYuxPWFNWwvGY5AW8gC5GJiIhIv6wkPmbmM7PvAk8CtwCLgDAMelcQAr4P/LuZzctGPNPFWLvKeMwz+P+InJZIJmjoahi2zNHOo5NqYHo8GWd/6372tuwd9HhvopctR7bQFevKcWSFy+vxMqdkDsurl4/53I1zNlIa0GxuIiIi2ZatFp9vAbeTuq1uBO4ZqqBz7jHglXTZd2cpnmmhMlRJRahi1OXnlswl4NFT5uF4zDPiz7QyVDmpxmf0JfrY2zx40tNvb/NeeuI9OYpoeigPlvPhpR9mbsncUZ9zxewruHL2lep2KCIikgMZv1szszeRSnoA/hGY55x73win3Usq8bky0/FMJ6XBUtbXrR91+fX16ykJlGQxovFJuiTdsW46+jrojnXjXP5mvAr6gqyuXU3EHxn0eH2knvMrz59yC09qhrfM83l8zCqexR9d/Eesrl09bDJc5Cvi7QvfzvvOex/VRdU5jFJERGT6ysbd2ifS2y3OuS+M8pzt6e2Fw5aSYYV9YS6fdTnPND5Da7R12LKzimextm4tIV8oR9GNTkdfB4c7DvNMwzO09rZSU1TD+vr1zCqeNWTykW214Vo+euFH+fHuH9Md7z69vyJYwUeWfoSK4Ohb2XIh4A2wrHoZj7zxyJBlLqi8QIPps8Dv9TOnZA6fWP4JjnUd43fHfseuE7vojHXiNS+VoUrW1q1lXd06KkOVWrBUREQkh7KR+FwOOOC7YzjnSHo7M/PhTB9mxtySuXxqxaf43ovfoznaPGi5OSVzuGP5HdSGa3Mc4fA6+zrZcmQLP335p2cMvP/Nod9w67Jb2VC/IS9dgsL+MOvr1rOgdAE7mnbQEm2hLlLH6trVVBdVT7qpoX0eH4vLF7Osahm7m3efc7zIV8TGORvzlkgWOq/HS2VRJeWhcuaVzqNncQ8Jl8AwvOalOFCspFNERCQPspH41Ke3L4/hnP7BBpOr+WEKCvlCXFh5IX+27s/Y3ridbY3baOpuAmB28Ww2zNzAqtpV1BTVTKpZpJxzNHQ18O8v//s5s431JnrZtHcTi8sXM9c/+vETmRT2h5lfNp+6SB1Jl8Tr8RL0Tq6EZ6DKUCUfW/YxHjj4ANsbt9OX7ANgYdlC3rnonZxfMfW65001HvNQEiiZlN1JRUREpqNs3Pn0L18+lr/2/U0PpzIcy7QU9AWZWzqX2nAtV8y+IpVIGPg9fkoCJZPyhr030XvGDfrZumJdPHf8OeoidXlN2CZb18Ch+Dw+ZhfP5mPLPsbbFr6Nxq5Giv3FzCyeSWmwdFL+DoiIiIhkUzYSnwZS01fPB7aM8pw3pbdvZCGeaSvkC02ZG/WES3Cqb/i891TvKZIuOWwZ+T2vx0tZsIyyYBmLyhflOxwRERGRvMrGHLy/IzVD2wdHU9jMSoFPkhoXNNpESQqMz3zUheuGLVMfqcdr3hxFJCIiIiKFJBuJz0/S2+vM7LrhCppZMfALYEZ6191ZiEemgKAvyJoZaygPlg96vD5Sz/Ka5fi9/hxHJiIiIiKFIOOJj3PuEeDXpFp97jezr5jZ+QOKBMzsQjP7E2AvcA2p1p6fOedeyHQ8MnXUhmu5Y/kdzAjPOGP/7OLZ3HbRbWNanFVEREREZKBsTev0IeBxYDnwpfSrfxXKZ88qa+l9n8pSLDJFhHwhllcv5y/W/wV7mvfQEm2hNlzL+RXnUx4qL+gB+T3xHnoTvRhGka9oUs24JyIiIlIIspL4OOfazGwD8A/AbcBQd3EJ4C7gs8657iHKyDQS8oWo89VRXVRNwiXwmregp13uTfTS2NXItsZtHGg9gNe8rKhZwaraVVQXVRf09y4iIiKSS1m7q3LO9QB/aGZ/A7wDWE9q2mofcIJUK88DzrnXsxWDTF0+jw9f9n49J4VYIsYrba/wrRe+xfHu46f37zy+k2canuGO5Xcwq3gWZpbHKEVEREQKw7jvLM2sfyXJo865xFDlnHMNwHfTLxFJ64h18MDBB85IevrtbdnLbw//lpuX3EzYH85DdCIiIiKFZSKTG7wOvAoMnLgAM/s/6Vf1RAITKXQt0RZ2ndw15PHtjdvpjHXmMCIRERGRwjXRvkSD9cH5CqmJDH4BnJxg/SIFq7Ovk8TQjaW097UPe1xERERERm8iLT79d2RaWEVkHCpDlUT8kSGPzyyeid+jy0tEREQkEyaS+LSmt0syEYjIdFMeLGd9/fohj18+83JK/CU5jEhERESkcE2kq9tO4Drg/5pZN7Af6BtwvN7MxjxAwTn3xgRiEpkyigPFvH3h2+ns62R743ZceqmrgCfAW+a9hfX16wn6cr92kXOOrt44nb1xEg68ZiSdw6PZ5URERGQKm0ji811Sic9i4L/OOmbAw+Oo000wJpEpw2Me6sP13LrsVt4y7y283PIyPo+PFdUrqAnXUBYsy3lMPbEEr5/s4vH9J9j+Wgsd0TilRT7eWhkjHPQSjSUI+b05j0tERERkosadZDjn7jWzvwb+Yoh69HhYZAQej4eqoioqghWcX3E+WKrFJx9r90RjCXYdaeNfHj1IW0/s9P6eWIKOcJzuvgS7j53iolllBH1KfkRERGRqmVDrinPuK2b2HeAaYDYQBL5MquXm28C5C5SIyDk8Hg9BT+67tQ3U0tXH95947YykZ6BE0vHDJ1/nS29fSl1ZUY6jExEREZmYCXcrSy9Quqn/azP7cvqf33TO7Zlo/SKj1RPvoaOvg3gyjsc8RPwRIv4IHpvIHB7TQ188yYtH2mg4FR223Bst3expaKeqOIjfq5+riIiITB0aTyNTXjKZ5HjPcZ44+gRPH3uapu4mIv4Ia2as4eo5VzOvdB4BbyDfYU5qffEEexo6RlV2z7F21i+oUuIjIiIiU0rGEx/nnO6GJKeao81s2ruJ7Y3bT+871XuKx954jJdOvsSdq+5kcdliPB79ag7FAcmkG1XZRBJGV1JERERk8tCdoExpsUSM3c27z0h6BjrefZxH33iUrnhXjiObWvxeD3OrwqMqO68qjN+ruUtERERkalHiI1Nad7ybHU07hi3zbNOzdPaNeUmpaSXk97J+QSUloeEbgcvDftbMq9CsbiIiIjLljLurm5n9MP1P55y7fZD943FGXSIjSbrkiElNZ18nSZI5imjqqi4O8qF1c/nBk68RH6Tbmxl8eP08qoo1XkpERESmnomM8bmV33f1v32I/eOhxEdGzefxURuuZW/L3iHL1IZr8Znm8RhJJOjjivNqCAd9PLy7kT3H2nGAxyDo91Ac9HH54irCAf0sRUREZOqZ6B3MUB39NQBAciLsC3PpzEvZcmQLboh8e0P9BkoCJTmObGoqLfJz+eIqVswu40RHL6d6YpQV+Tm8ezteg5KQP98hioxLX6KP7lg3SZfE5/ER8UfwetRlU0RkOhl34jPU7G2a1U1yyevxsrBsITcvuZl7DtxzTvKzsmYlV825iiKfFtwcraDPS7DYS3Xx7xdUbdirZxkyNSWSCU72nOTFEy+y4/gOuvq6qA3XctnMy1hcvpjyUHm+QxQRkRxRnxWZ8sqCZVw3/zoWli/k6WNP09jVSCQQ4ZLaS1hRu4LqUDVm0/PGPRqP0hnrJJaM4TUvxf5iinxF0/bn0R3rTi1y6+J4zUtJoISwLzxtfx6FzjlHU3cTd+++mxdOvHB6/4G2Azx17CluWnIT18+/nvKgkh8RkelgUiQ+ZhYGqgGcc2/kORyZgsqCZVxcczHnVZxHLBnDYx7CvvC0XbjUOUdztJmtx7by1LGnaOhqoDRYyiUzLuGqOVdRF6nD55kUl/854sk4iWQCj3nwezPTtc45x/Hu4zx+5HF+d+x3HO8+TkWwgg31G7h23rXUheu0zlMB6on3sPnw5jOSnn4Ox30H7mNJ+RJW1qxUtzcRkWlgstz5vA/4IalJESZLTDLFeD1ejeVJO9V7igcOPsDDhx4+va873s2Drz7IgdYD/MHKP2Bm8cw8Rniu3kQvbdE29rfuP91qt6J6BRWhCiL+yITqbutt496D97L58ObT+5qjzfzqtV/R2N3IbRfdRnVR9QS/A5lsOvo62NqwdcjjDsfTx55mScUSfXaIiEwDkynJUF8TkQxIuiRHO4/y6BuPDnp8X+s+djTt4PrQ9QR9wUHL5Fo0HmVP8x427d3E0c6jp/eXBEp496J3c8XsKygNlo6r7qRL0tDVwBNHnhj0+LNNz3LVnKsoD5ZP2lYwGZ+4i3O8+/iwZZq6m4glYzmKSERE8kl9O0QKRDQepaWnhe5YNzuP7ySejA9Z9sUTL9Id785hdMNr7GrkOy9+54ykB1JP7H/y8k94/vjz9CX6xlV3LBljT/MeEi4xZJmXTr5ELKGb30LjMQ/FgeJhy5QESvCaurmJiEwHSnxEprhYMsbRjqP8+vVf86/P/ysne07S3NNMZ6xzyOSnN9E75PTfudYT7+GZhmdo620b9HjSJdlydMuIC9UOyaVugIfjNa/anAtQsb+YNTPWDFvmkhmXEPaFcxSRiIjkkxIfkSkskUxwuP0w33juG/zs5Z+xu3k3rb2tLCxfyInuEzT3NA+a/CwsW0jQOzm6ufXGeznQdmDYMvtb9xNNRMdVf8AbYHn1cvyewSdKMIwVNSsIeKbnRBiFLOKLcO3ca5kRnjHo8UtmXMKy6mUZm0RDREQmNyU+IlNYR6yDB155gNfbXz+9b0fjDs6vOJ/zK8+nK9ZFR18HSZc8fTzij3DpzEsn1VNuG6G5xWOeEcsMWbcZteFarpt33aDH3zzrzcwtmatZvQqQx+NhXuk87lx1J9fMveb0OK5ZxbO4ecnNfPTCj1Id0qQWIiLThUbyikxhJ3tOsrNp5xn7nm54mkvqLuFzaz7HD3b9gBdOvEBJoASPeZhVPIv3n/9+5pXOmzRr14R8IZZWLeXFky8OWWZp5VJCvtC436MsWMaNC2+kJlzDU8eeoqm7icpgJRtmbuCymZdREaoYd90yuQW8ARaVL6IuUsc7F72TpEvi8/goCZRoYWMRkWlGiY/IFJV0SQ63H6Yveeag/65YF3e9dBcfW/YxPrP6M5zsOUlbbxuVoUoWli+kPFA+aWZzg1Tis7ZuLY8feZzGrsZzjgc8ATbO2Uixf/hB6iOpLqrm6jlXs7ZuLfFkHJ/HR7G/eEIJlUwNHvNQEijRlNUiItOcEh+RKcqwIcetNHU38Y/P/iMra1ayunY1V8y+gog/MuIg/3yZEZ7BH6z4A36+/+fsad5zeuKFWcWzeOeid3JR1UUZGYcR9AUnVdInIiIiuaPER2SKMjMWli+kIlhBa2/rOcdjyRg7mnbQl+hj1YxVkzbpgVR3pMXli/mji/+IY53HaOhqoDRQyoKyBZQFy9QqIyIiIhM2ocTHzB7LUBx1GapHZFopC5Zx1dyruPfAvYMe95qXK2dfOeFuYrng9/qpKqqiMlTJhVUXpiY0mCTjkERERGTqm2iLz0aYJIuBiExDEX+Eq+dcTU+8h0cPPXrGeJ+SQAk3L7k5NVWzd+pM1WxmWlBSREREMi4TXd30SFYkj2rCNdy0+CbePOvN7GzaSWesk6qiKlbXrqYyVEnYP3mmrRYRERHJl4kmPgsyEoWITEhZsIzSQCmzi2eTJInXvFOqlUdEREQk2yaU+DjnDmUqEBGZGDPTjGUiIiIiQ5i80zyJiIiIiIhkiBIfEREREREpeEp8RERERESk4CnxERERERGRgqfER0RERERECt60SHzMrNLMjpuZM7OXRyh7i5ltM7NOM2sxs4fM7LJcxSoiIiIiIpk3LRIf4OtA9UiFzOzrwI+Ai4BHgG3AW4AtZnZTViMUEREREZGsKfjEx8yuAT4GfG+EclcDnwOagZXOuXc7524ArgASwF1mVpHteEVEREREJPMKOvExsyLg28Ae4GsjFP9CevtV59yB/p3OuafTdZQBt2UjThERERERya6CTnyALwOLgE8DsaEKmVkIuCb95S8GKdK/7x0ZjU5ERERERHKiYBMfM1tBqhXnLufclhGKXwAEgRPOuSODHN+Z3q7IYIgiIiIiIpIjBZn4mJmH1JieNuBPR3HK3PR2sKQH51xXuq4KMyvJSJAiIpJxfYk+ovEoscSQjfwiIjJN+fIdQJbcCawDPu6cax5F+eL0tnuYMl1Aebpsx0gVmtnuIQ4t6urq4rHHHhtFWCKTQ1dXF4B+b2XSSrokCZegN95LwiXweXwEvUG85sXM8h1eQdLngogMlEwm8x3CiAou8TGzOcBXgcedc3eP9rT01o2ijIiITCJJl6Q30UtbtI24i5/e7/f4KQ+WE/QGlfyIiEjhJT7AvwEBUhMajFZ/C05kmDLh9LZzNBU655YNtt/MdkcikQuvvvrqMYQnkl/9T3T1eyuT0dGOo/zN1r+h1dN6zrF5wXn8ydo/oTZcm4fICps+F0RkII9n8o+gKcTE5+2kxuN866wnfKH0dq6Zbe4v65zrBN5Ifz17sArNLEKqm1ubc27Ebm4iIpIbfYk+njv+HK295yY9AIc6DnGw7SCVoUp8nkL8kyciIqNVqH8FyoErhzhWNOBY//e/D+gFasxs9iAzu61Ob1/MaJQiIjIhCZfgZPTksGWOdx8n6SZ/33MREcmuyd8mNUbOORvsBSxIF9k3YH9b+pweoH905nsHqbZ/34PZjV5ERMbCa16qi6qHLTMjPAOveXMUkYiITFYFl/hMwNfT2y+a2ZL+nWZ2KfApoB34QT4CExGRwQW8AVbVrqIyVDno8QWlC1hUvgivR4mPiMh0p8QnzTn3CPDPQBXwvJndb2YPAVsAP3Cbc64lnzGKiMi5qkJV3HbRbdQU1Zyxf27JXD564UcpD5bnKTIREZlMCnWMz7g45z5rZs8D/wt4CxADHgW+6px7Mq/BiYjIoEK+EMurl/OXG/6S3Sd30xJtoT5Sz3kV51ERqiDgDeQ7RBERmQSmTeLjnHudUazFk1775+4shyMiIhkU8oWo99VTHaom6ZJ4PV7N4iYiImfQXwURESkYfq8/3yGIiMgkpTE+IiIiIiJS8JT4iIiIiIhIwVPiIyIiIiIiBU+Jj4iIiIiIFDwlPiIiIiIiUvCU+IiIiIiISMFT4iMiIiIiIgVPiY+IiIiIiBQ8JT4iIiIiIlLwlPiIiIiIiEjBU+IjIiIiIiIFT4mPiIiIiIgUPCU+IiIiIiJS8Mw5l+8YphUzaw8GgyWLFi3Kdygio9bV1QVAJBLJcyQiMlnoc0FEBjpw4ACxWKzDOVea71iGosQnx8ysEQgDh/Mdy1k8QBXQDCQL+P0z/T6Zqm8i9Yzn3LGe05+pvzLG2CT/19Z4TYa4cxFDNt4jE3Xm+jNhPOfpc2F8JsO1NR6TIe7p/Jkw0Xpyca9wAZB0zvnHGFvOKPERAMxsPvAasMA593qhvn+m3ydT9U2knvGcO9ZzzGw3gHNu2Vhik/xfW+M1GeLORQzZeI9M1Jnrz4TxnKfPhfGZDNfWeEyGuKfzZ8JE69G9QorG+IiIiIiISMFT4iMiIiIiIgVPiY/0awP+Kr0t5PfP9Ptkqr6J1DOec/P9/z2dTNWf9WSIOxcxZOM9MlFnrj8TJvqeMnpT9ec8GeKezp8JE61H9wpojI+IjMJU6LcrIrmlzwURGWgqfCaoxUdERERERAqeWnxERERERKTgqcVHREREREQKnhIfEREREREpeEp8RERERESk4CnxERERERGRgqfER0RERERECp4SHxERERERKXhKfEREREREpOAp8RGZ5sxsjZn9mZnda2ZHzcyZWXSY8q+bmRYAE5nixnrtDzjvFjPbZmadZtZiZg+Z2WVDlL07Xe/GjH8DIjJmubjuB5xzWbpcS/q8bWb2sSHK3pqO5Svj/NZGxZfNykVkSvgS8K58ByEiOTfma9/Mvg58DugBHgZCwFuA68zsfc65+zIepYhkUk6uezO7Cfg5qUaWLcBJ4BrgbjNb6Zz7/IS+i3FS4iMiTwMvANvTr8b8hiMiOTKma9/MriZ189MMXOqcO5DefymwGbjLzDY751qzGbSITEjWr3szqwDuArzAzc65e9P7ZwBPAp8zs/9yzv02w9/biJT4iExzzrm/G/i1meUrFBHJoXFc+19Ib7/af/OTrudpM/s28MfAbcA/ZDJOEcmcHF33dwBlwAP9SU/6nCYz+1PgXuDzQM4TH43xEZGMMLPZZrbHzJJmlpcmbBHJDjMLkeqmAvCLQYr073vHKOsLmNkv0n36f25mgUzEKSKZM4Hr/u3DnPMrIApcm65/NHF8IX1vscfMZo3mnKEo8RGRCTOz80g1X58H3O6c+3qeQxKRzLoACAInnHNHBjm+M71dMVJFZlZM6ubnZuD7wPudc32ZClREMma81/2Ks46flr7WXyI1Tuj8kQIws78FvgbsAN7snDs6utAHp8RHRCbEzFaTSnrqgPc55+7Kc0giknlz09vBbn5wznUBbUCFmZUMVYmZVQKPANcCf++c+4RzLpnpYEUkI8Z83ZtZKVA+3HkD9s8d4jhm5jGz7wB/DjwGXO2cax5b+OdS4iMi42ZmV5Lqo1sEvE0zOokUrOL0tnuYMl1nlT1DuovKE8B64M+cc/87c+GJSBaM57ofeP0Pdd5InxUB4N+BTwL3ATc65zpHjHYUlPiIyLiY2TuBXwMxUk9iHs1zSCKSPf0joIdbw2u4UdJLgN+R6jrzybMHWIvIpDSe6340MyQNVyYCPAi8j9TMcO9zzvWOos5R0axuIjJe95D6DNnonNue72BEJKs60tvIMGXC6e1gT2b/jdTnxf92zn0vk4GJSNaM57rvOOtY+yjOGeizpD4rHiI1ZjijC6arxUdExutn6e3X0oOVRaRwvZHezh7soJlFSPXrb3POdQxS5D9IPTX+nJmNOKBZRCaFMV/3zrl24NRw5w3Y/8Ygx/47ff51pCZAySglPiIyXrcCPwXeBPwq/QEoIoVpH9AL1JjZYDczq9PbF4c4//vAH5GaBOW36ZkgRWRyG+91/8JZx08zMz9wUbrefYPUuRO4ntT4oJ+Z2U3jiHtISnxEZFzSMzHdQmoA4hXAf5lZUX6jEpFscM71kJpZCeC9gxTp3/fgMHV8C/hfQD3wmJktzmiQIpJRE7jufzXMOW8nNZX1o8656BDv+wyp5KcH+I/0mOKMUOIjIuPmnEsAHwH+E7iKVPIzqgXJRGTK6V+f64tmtqR/p5ldCnyKVF/+HwxXgXPum8BngFmkkp+FWYpVRDJjPNf999P732Vm7xlwTi3w92fVOyjn3FbgBlItQz83s7dN5Jvop8RHZJozs7eZ2db+V3p3YOC+4T5w0snPh0lNdnAN8ICZBXMQuohMwFivfefcI8A/A1XA82Z2v5k9BGwB/MBtzrmWkd7XOfcN4HPAHFLJz7xMf28iMrhcXPfpr28DksAvzOy3ZvZzUl3bFgPfGM1MsM65p4C3An3APWZ2w0S/f83qJiI1pNbVGLRJ4AEAABJrSURBVMjO2lczXAXOubiZfYDUAOb3APeZ2U2ZnIJSRDJuzNe+c+6zZvY8qS5rbyE1nf2jwFedc0+O9o2dc/9kZl5SK7L/1sw2OucGG+gsIpmVk+veOXePmV0BfBHYAASAvcA3x7LQuXPuyXQi9hCpe4t3Oud+M9rzz2YZniVORERERERk0lFXNxERERERKXhKfEREREREpOAp8RERERERkYKnxEdERERERAqeEh8RERERESl4SnxERERERKTgKfEREREREZGCp8RHREREREQKnhIfEREREREpeEp8RERERESk4CnxERERERGRgqfER0REJM3MXjczZ2ab8x3LWJjZrem4z37dP0T5zenjr+c4VBnAzL4yxP/bV/Idm0gh8uU7ABGZmsxsKfBu4EpgCVAFhIF2oAl4AXgKuN85d2SYer4CfHmQQ0mgY0B9zwPPputrHGWMbohD/XUfBbYDP3XOPTyaOuX3zMxH6nfgOmADMAOoAHqAE6T+z34L/Kdz7kS+4pTJzczmA6+lv3zcObdxlOdtJvX5A7DAOff6EOXqgFuBa4FlpH5H46R+R08A+4An0689zrlzPjeG+SyJkvqMOpWu5zlgC/CYcy45mu9DRHJHiY+IjEn6JuUfgJsAG6RIVfp1IfBB4Btm9t/AV5xz28fwVh6gLP2aA1wC3AH8i5n9CvhT59z+cX4bA+u+EPiYmf0aeL9zrn2cdU4rZvYB4G+BBYMc9gOlwCLgZuCfzOyHwJecc8dzF2XmpVtI5jGGG/Q8uI1UQg+pm/Jpy8z+APgaEDnrUDC9bz6wFvhIev+lwNYxvEUo/aol9QDo7en9h8zsH4F/GSEB+jfgF+l/zwT+ZwzvLSJjpMRHREbNzK4F/gOoTO86Cfyc1JPSI6RaUSqA2aSexL4VqAduBGKkWgeG80XggQFfh0klJ+eTalF4N6mblXcB15nZnc65H4wi9GPA9QO+9gA1wNXAnUAJcAOpG5DrRlHftGVmHuDrwGcG7H4C+C9SrXwnSf0fzSb1830XqZ/1J4Gn4f9v786jJSnLO45/f8CE5eDAhGFJJgmDw6LsKAQQZCbgKEazTFiigAgGDMJJgByiGHPMYMwxkQiigwIiIksQhLAKkoAiAwiIBMJ+FGYA4bAP6wwwOE/+eKrTdZvu6u7b3bevze9zTp9b3VX93rfq1q1TT73v+7ycOYHV7VpEzBx2HfpgUUTcXbXBJA7a+qYIer5ZvH0DOA+4EniIvB5NA7YEdiWvD1M7KLbxWrIyeY1al3w48wFgOzI4/iqwj6R5rVo8iwcBTxX1fbmL3TOzcXDgY2YdkbQNGZSsUXz0b8A/R8QrLb5ylqQpZKvPcR3+msda3LD9N7BA0tpkt7ijgNWB0yQtiYj/bFPu8hblXivpXPKGfCowV9L73e2t0heoBz1PAftHxDUttj1P0pHAp4D5E1A3MwCKa8XxxdulwO4RcUuTTX9EtkqvCuxLEYRUaHUtAbgI+KykOcC3gbcDuwCXSdo9IpZ1uRtm1mdObmBmbRVjOS6kHvQcFRHHVgQ9AETE8og4C9gKOLfXekTE8xFxNNlKA3kNO6O4yRlvmfeS3U1qPtxq27c6SbOBfyjePg+8pyLoASAilkbEV8in4b8ccBXNavYE1iyWT20R9Py/iHgtIs6OiId6/cURcR1jz/edgM/0Wq6Z9c6Bj5l14kBg42L5mog4qZsvR8TLEfH9flUmIhYAVxVv12Jst6vxuKm03GzMSqWGjFpzis/2k3SNpCckvSppkaTTJG3SYZmStLek84tMY0slvSzpfkmnStq6zfdr9TmzeP9OSQskPSDppWJdu66HjeZTH9d1dEQ82OkXI+KBiLihST1nSDq82M/7in1cLulpSQsl/aOkdarKbsiMNVPSKpI+JenGopxlxX6fKOl32pTVNKtbLQsa2YUJYHaLbFxz+r1/g9Auq1vjeklrSPq0pNskPV+cj/dK+pKk325WxpDNLC2PdyzguEXEEmD/0kdHSVprouthZmO5q5uZdeKQ0vLxLbeaWMeTY4gA9qHz7nTNLC8tr9xDOQCrSLqYN49nmgkcChwo6eCIOK9VAZJ+n+w2s0OT1ZsVr0Ml/Qvw+WZZqBrK+zhwKjmge1yKgG1O8fZx+tCCV9wwP0rzJBnTybEXuwJHS9o7In7cQbFTgZ8A72n4fNPidXAx5qKTsnoyoP2bcJJmAVcA72hY9c7i9RFJsyPikQmvXGuvlZa3GEYFIuJWSdcDu5EPaOZST2RgZkPgwMfMKklak/oN+FKyT/xkcD3wCjmQfnNJ6/aQMnmb0vJjPdbri8COZGaor5MpbqeRWfD+mgw+zpb0RLMbXWXq3Z8CM8i02xeSiQMWkQHa1sARwLZkMojXit/ZyvbAfsBz5GDrG4rvbA4s7mK/di8tXxURy1tu2bmVgCBTXv8XcBeZXnhlsmXlT4CPkMk0LpG0XQddkU4jj/8Pi+WHgQ3Ip+/7kTegV0h6d0Tc30VdDybPtavJ7Fu3FZ81WlRaHsT+TbQ1gB9QH6x/JZnAYkOypXUOGdR/m7yxnyxuKy1/UtLVEXHFEOpxFRn4QCZ8ceBjNkQOfMysna2oXyvuiIg3hlmZmoj4taQ7ySf7IlPJdh34SJpOfcwQQOWYlQ7sCFwAfLQhje01ypTZl5A3vqdL2jQift3w/TPIoOc54AMRcVvD+luL7mv/QbZ0fV7SOa3mMCGfdj8I7Now/1E3qcUB3tXDd1t5EZjVou43A+dLOolswZlKji86pMm2ZTsC/x4Rf9/w+ZWSbgIWkDfzp1BvwWorIhYBSKoFfK+0y5zGYPZvoq1LJhJ5b8O5+D+SrgCuJW/s3ydpi4i4ZxiVbOIG8hjvBPwWcLmke8hA5Fbg5xMUZP68tLzZBPw+M6vgMT5m1s700nJlxiNJa0nasuLVOJdGr8qBTsfjJIrxM+sp56K5mQw0AO4ju5j14jngk83m7oiIy6mnc347+cS/XK/tqXff+3SToKdWzhtkprTXyTlzmrU8lB3e6aSvFcrnwZM9lgVARLxeEbDVtvkZ8K3i7V9IatZtrOwB4LMtyjqZeovlbEnbdlHdrg1o/4ZhfrNzsTgPv1z6aM6E1aiNovvn3uSEojVbAMeQDyYelPSMpEskHShptQFVZVzXKDMbDAc+ZtZOeW6LdvNMfJDsztPq1WzMSi/K9amag2PD8gB0sgvZk+S8HrOKbR4EPtyHFq3zI+KFivWnlZb3bFi3V/FzBTlfUksR8Sx5TCHHibTyOJkOvFfdnAfjUgSk60vapBwwA0uKTaYxdtB6M2e0+RtWHf+B6tP+DcNZFetuLS1v3HKrIYiIx8gWwENp3kq5DjnP1HeBX0r60ACq0ek1yswmgLu6mVk75Znf12y51XC8rbRcFWy08gYZPJwHnBwRS/tQp3azvt9OjtWZwtixRZA3aZAPpV7q4uF/VaayO9olP+jQQM4D5YSo+5OZA3fqoOzpjB1H06jd8S+vbzz+fTeA/ZtoT7cZO/dsaXnS3dgXY9FOJ7uWrkd2jd2O/NvvSr0VZgbZHW6fiOi11bes12uUmfWRAx8za+eZ0vJ6VRtGxPeA75U/K8ajfLz/1QJy/EHNcxXbNc62voJ8EvtkRLzW/CvjVtkNLCKWS3qWHHA/vWF15fGtsEbFuqrj0o3yebB+PwqUNBW4jBz03amqfYX23fDKXf4aj39fDWj/Jlrlw4CIWFEK0MebEbEcmHfT1a+8bdvgPiKeIsfYXQIgaWXgQ8CJZNdTAd+U9MN2c5R1odNrlJlNAAc+ZtbOXWTLyCrAtpJWmQwJDpSTqtae2Ac5tqOVqtnW+62T1pXaDVvjtrVr8rN0N17i9Yp1jckTxuv20vIOZHrsXp1APSj4KTmR7G1koLq0dp5J+gSZNQza3xh307rVj5awKoPYv1FUDq66CfzKYwa7DlSKxCKXFUlS7iQz/q0L7EEGrP2wfWn5vj6VaWbj5MDHzCpFxMuSfgbsTN6U7E6m5h222dRvku4qxrxMBhtUrZQ0hRzLAWO7CUEOhN6MTG/8SES8yORRTmP+x5Km9JLSWtLbgAOKtzcBuzXJcFfTzaDwDaiesLL89xnYOTPA/RtFS8ggVFR322z0u8XPFdTHSXUtIh4uMtTVJhztZ/a1D5aWr+tjuWY2Dk5uYGadOL203JgmeFiOKS1/f2i1eLOd2qx/F5leF/Ipc1kt9a2Y4IH37UTEL8i0y5A3pwdUbN6JTalPqHp+RVAA8IddlNvu+JfXNx7/TnTaSjSo/Rs5RctXLQ32DEltgx9JM6gHSXe3Ob6dKM/f9aaMjOMhaUfqiUeW0HuqfDPrkQMfM+vE2WTWM8j5Oo4cZmUk/Q31wGAJ8LUhVqfRvsXYjlYOLS1f3bCuPKj62KJ1aDI5rrR8gqRZLbdsIGkzSbuUPir3OGiZ5lzShsCfdl5FDi66QbZSnidnPC2XrxY/V63canD7N6rK/wudjAk8qMV3gcyg1+XvLwefD7bcqkOSpgHnlD46MSJe6rVcM+uNAx8za6vo0rQvsKz46KuSviSpsj9+cfOxdr/qUcwTdAL1QGcFcPAk6xK2DnBKkc1rjCJdbm3OnUXA5eX1EbGQ+lPh7YDvSGp5gy1pJUl7Sdq8LzVvIyJ+DPxr8XZt4EZJe1R9R9Jqko4ix7ZsUlr1C+pP1g9odi4VN48XUG8h68Q7gC+2qMthwPuKtwsj4vZm27VRaxnYuNnfuGRQ+zeqFpDZDgE+V7SWNCVpZ3KyV8jxbQuabPYJSd+VtHW7XyzpCOpj6l6gx/TvkmaT53stvfeNwPG9lGlm/eExPmbWkYi4XdI8MvXzNOBY4BBJFwALyRvCF4HVgN8D3k3OS7NprQjqgVMrM4p5TWpWJ2+wNyXHGP059afnS4EjIuLSHnet324BPkrOHfR1crzJ2sA84DDygdMK4NAWSSIOKMrYkBxzsLOkbxWfLSH3fybZZWsemYZ3LnDv4HZpjM+RKXqPILO7XSNpITkY/E5y3MwaRb3mkH+zN417iojnJF1K7sPmwM2SvgLcT6b63hk4sihnIfDeDut3C/AZSVuRE4M+XPz+/ah3z1tG/i3G4yfk4PfpwDeKrIXPUu8C91hELBvg/o2kiFgs6RjgJDLl9/WSzgF+ADxKHt8/ILOwfYw8hgBHR8QjTYqcQqYQP1DS3cBVZDDyGJnRcSqwJfCXjM2693dtMrpNabhGrUQmRViPvObtST60qFkIzIuIVzGz4YsIv/zyy6+OX2Ta10vJm/fo4LWCfIK6Q4vy5ndYTu21HLgY2KSDuta+s3jAx+Sg0u+aS6bLbVX/V4ED2pS3QXHMOjkebwA7V+z7mQPa5/2BxR3W8XXgZGB6Qxnrk4FA1bnzhYbjO6fNObQNmUygVZkvAHtU7Fdtn65rsX5d4FcV5c/p9/6N4xxsWwY50L7l/0a79YM618iAdGkH59Qr5MODVuXsRf6vdXpdWUK2Hrfbx05fi4G/BVbqYt9nlr4/fxD/t3759VZ/ucXHzLoSEQ8Bf1Z0r5pHPi3dhOzitTrZ6vM08L/k0/cLI+Lhcfyq2lw7L5Jzr9xJPrG9OCLazdUyTMvJ4/Ix8mZ0S/KJ8BNkMHN8RFSl3iYingDmFl1m9gd2IVsG1iRvCn8F3E1mWhvK8YiIc4vWvnnA+8nJV9cnWwOXAU8BdxR1vCAinmlSxpOStgeOZmzr4BPkk/JTI+ImSQd1UbUXyHPyMLLlbTOylexRsvXgyxHxeHd7O6bOT0vagUyuMRfYqCj/TWNKBrR/Iy0iTpF0EfBXZMvaFuQ5JXIenHuAa4HTm51TpXIuknQ1mYVyNzKpyCyypW5VMnB6ivw/uppMQDGezHCvkdeoF8jW3dvJoPFHERHjKM/MBkj+vzQz601x4/qd4u0fRcR1w6vNW4+k+cA/FW83iojFw6vNcPgc/M0naSY59g/guIiYP7TKmI0ot/iYmZmNlo0k1VpDXozmY2BsEpC0Hjk+COrzEpnZgDjwMTMzGy1nlJYvJRNM2OR0OPXWSjMbMKezNjMzMzOzkecWHzMzs99wEXEmcOaQq2FdKsbxzB9yNczeMtziY2ZmZmZmI89Z3czMzMzMbOS5xcfMzMzMzEaeAx8zMzMzMxt5DnzMzMzMzGzkOfAxMzMzM7OR58DHzMzMzMxGngMfMzMzMzMbeQ58zMzMzMxs5DnwMTMzMzOzkefAx8zMzMzMRp4DHzMzMzMzG3kOfMzMzMzMbOQ58DEzMzMzs5HnwMfMzMzMzEaeAx8zMzMzMxt5/wcyRGUzo8UBoAAAAABJRU5ErkJggg==)"
      ],
      "metadata": {
        "id": "e8EkF8TR_Osd"
      }
    },
    {
      "cell_type": "code",
      "source": [
        "# prompt: make a visualizaiton of df that shows the following\n",
        "# Scatterplot\n",
        "# Grid horizontal + vertical\n",
        "# y axis title is Life expectancy in years\n",
        "# x axis label is GDP per Capital in US$\n",
        "# colors of dots according to continent name\n",
        "# size of dots according to population\n",
        "# x axis is logarithmic with the following breakpoints: 1k, 10k, 100k,\n",
        "# Title= World development in 2007\n",
        "\n",
        "import pandas as pd\n",
        "import matplotlib.pyplot as plt\n",
        "\n",
        "# Assuming 'df' is your DataFrame and it contains columns: 'continent', 'lifeExp', 'gdpPercap', 'pop'\n",
        "# Replace 'your_file.csv' with the actual file path if you are reading from a file.\n",
        "# df = pd.read_csv('your_file.csv')\n",
        "\n",
        "# Sample DataFrame (replace with your actual data)\n",
        "# data = {'continent': ['Asia', 'Europe', 'Africa', 'Americas', 'Oceania'],\n",
        "#         'lifeExp': [70, 75, 60, 72, 80],\n",
        "#         'gdpPercap': [10000, 20000, 5000, 15000, 25000],\n",
        "#         'pop': [1000000, 5000000, 2000000, 8000000, 1000000]}\n",
        "# df = pd.DataFrame(data)\n",
        "df_2007 = df[df['year'] == 2007]\n",
        "\n",
        "# Create the scatterplot\n",
        "plt.figure(figsize=(12, 8))  # Adjust figure size as needed\n",
        "\n",
        "# Define colors for continents (customize as desired)\n",
        "continent_colors = {'Asia': 'red', 'Europe': 'blue', 'Africa': 'green', 'Americas': 'orange', 'Oceania': 'purple'}\n",
        "\n",
        "# Plot each continent separately with specified colors and sizes\n",
        "for continent, group in df_2007.groupby('continent'):\n",
        "  plt.scatter(group['gdpPercap'], group['lifeExp'],\n",
        "              s=group['pop'] / 1000000,  # Adjust scaling factor as needed\n",
        "              c=continent_colors.get(continent, 'gray'),  # Default to gray if continent color is not defined\n",
        "              label=continent,\n",
        "              alpha=0.7)  # Adjust alpha for better visibility\n",
        "\n",
        "# Customize plot appearance\n",
        "plt.xscale('log')  # Set logarithmic x-axis scale\n",
        "plt.xticks([1000, 10000, 100000], ['1k', '10k', '100k']) # Set the breakpoints\n",
        "\n",
        "plt.xlabel('GDP per Capital in US$', fontsize=12)\n",
        "plt.ylabel('Life expectancy in years', fontsize=12)\n",
        "plt.title('World development in 2007', fontsize=14)\n",
        "\n",
        "# Add a grid\n",
        "plt.grid(True, which=\"both\", ls=\"-\")\n",
        "\n",
        "# Add a legend\n",
        "plt.legend()\n",
        "\n",
        "\n",
        "plt.show()"
      ],
      "metadata": {
        "colab": {
          "base_uri": "https://localhost:8080/",
          "height": 723
        },
        "id": "945NS_hjHPrw",
        "outputId": "602d8112-e395-49c4-ccf3-4c3cfaa48689"
      },
      "execution_count": null,
      "outputs": [
        {
          "output_type": "display_data",
          "data": {
            "text/plain": [
              "<Figure size 1200x800 with 1 Axes>"
            ],
            "image/png": "[encoded data removed]"
          },
          "metadata": {}
        }
      ]
    },
    {
      "cell_type": "code",
      "source": [
        "import pandas as pd\n",
        "import matplotlib.pyplot as plt\n",
        "\n",
        "# Load the dataset (assuming the dataset is named 'gapminder.csv')\n",
        "# df = pd.read_csv('path_to_your_file.csv')  # Replace with the actual path to your dataset\n",
        "\n",
        "# Filter the data for a single year, e.g., 2007 (adjust as needed)\n",
        "data_2007 = df[df['year'] == 2007]\n",
        "\n",
        "# Define the size for bubble sizes based on population\n",
        "bubble_sizes = data_2007['pop'] / 1e6  # Scale population for visualization\n",
        "\n",
        "# Define color for continents\n",
        "colors = {\n",
        "    'Asia': 'red',\n",
        "    'Europe': 'blue',\n",
        "    'Africa': 'green',\n",
        "    'Americas': 'orange',\n",
        "    'Oceania': 'purple'\n",
        "}\n",
        "data_2007['color'] = data_2007['continent'].map(colors)\n",
        "\n",
        "# Create the scatter plot\n",
        "plt.figure(figsize=(10, 6))\n",
        "plt.scatter(\n",
        "    data_2007['gdpPercap'],\n",
        "    data_2007['lifeExp'],\n",
        "    s=bubble_sizes,\n",
        "    c=data_2007['color'],\n",
        "    alpha=0.6,\n",
        "    edgecolors='w',\n",
        "    linewidth=0.5\n",
        ")\n",
        "\n",
        "# Add labels, title, and legend\n",
        "plt.xlabel('GDP per Capita')\n",
        "plt.ylabel('Life Expectancy')\n",
        "plt.title('Life Expectancy vs. GDP per Capita (Bubble size ~ Population)')\n",
        "plt.grid(True)\n",
        "\n",
        "plt.xscale('log')\n",
        "# Create a legend for continents\n",
        "for continent, color in colors.items():\n",
        "    plt.scatter([], [], c=color, alpha=0.6, s=100, label=continent)\n",
        "\n",
        "plt.legend(title=\"Continent\", loc='upper left', fontsize=9)\n",
        "plt.show()\n"
      ],
      "metadata": {
        "colab": {
          "base_uri": "https://localhost:8080/",
          "height": 673
        },
        "id": "vXVcOXt0IkCO",
        "outputId": "2b448784-5400-4db7-e862-2dca5149acfe"
      },
      "execution_count": null,
      "outputs": [
        {
          "output_type": "stream",
          "name": "stderr",
          "text": [
            "<ipython-input-28-4c3b288149cc>:21: SettingWithCopyWarning: \n",
            "A value is trying to be set on a copy of a slice from a DataFrame.\n",
            "Try using .loc[row_indexer,col_indexer] = value instead\n",
            "\n",
            "See the caveats in the documentation: https://pandas.pydata.org/pandas-docs/stable/user_guide/indexing.html#returning-a-view-versus-a-copy\n",
            "  data_2007['color'] = data_2007['continent'].map(colors)\n"
          ]
        },
        {
          "output_type": "display_data",
          "data": {
            "text/plain": [
              "<Figure size 1000x600 with 1 Axes>"
            ],
            "image/png": "[encoded data removed]"
          },
          "metadata": {}
        }
      ]
    },
    {
      "cell_type": "markdown",
      "source": [
        "# matplotlon\n",
        "\n",
        "Comprehensive Guide to Data Visualization with Matplotlib\n",
        "Matplotlib is a versatile Python library for creating static, interactive, and dynamic visualizations. It is widely used in data science, engineering, and research for its flexibility and extensive customization options.\n",
        "\n",
        "Introduction to Matplotlib\n",
        "Purpose of Matplotlib:\n",
        "\n",
        "Matplotlib is used to create 2D visualizations such as line plots, scatter plots, bar charts, and more.\n",
        "It excels in producing publication-quality plots with a high degree of customization.\n",
        "Basic Components of a Plot:\n",
        "\n",
        "Figure: The overall container for all plot elements.\n",
        "Axes: The area where data is plotted, which includes x- and y-axis.\n",
        "Elements: Titles, labels, legends, gridlines, etc."
      ],
      "metadata": {
        "id": "YpNbkGwa_jaz"
      }
    },
    {
      "cell_type": "code",
      "source": [
        "import matplotlib.pyplot as plt\n",
        "\n",
        "# Data\n",
        "x = [1, 2, 3, 4, 5]\n",
        "y = [2, 4,9, 16, 25]"
      ],
      "metadata": {
        "id": "eC0c7rgdADZj"
      },
      "execution_count": null,
      "outputs": []
    },
    {
      "cell_type": "markdown",
      "source": [
        "1. Creating a Simple Line Plot"
      ],
      "metadata": {
        "id": "QnpM9vax_jWE"
      }
    },
    {
      "cell_type": "code",
      "source": [
        "# Scatter plot\n",
        "plt.figure(figsize=(8, 5))\n",
        "plt.scatter(x, y, color='red', label='y = x^2')\n",
        "\n",
        "# Add annotations\n",
        "plt.title(\"Scatter Plot Example\")\n",
        "plt.xlabel(\"X-axis\")\n",
        "plt.ylabel(\"Y-axis\")\n",
        "plt.legend()\n",
        "plt.grid(True)\n",
        "\n",
        "# Show the plot\n",
        "plt.show()"
      ],
      "metadata": {
        "colab": {
          "base_uri": "https://localhost:8080/",
          "height": 487
        },
        "id": "RgAtbso3AGeW",
        "outputId": "7dd206ff-927e-4205-8671-6864a9565020"
      },
      "execution_count": null,
      "outputs": [
        {
          "output_type": "display_data",
          "data": {
            "text/plain": [
              "<Figure size 800x500 with 1 Axes>"
            ],
            "image/png": "[encoded data removed]"
          },
          "metadata": {}
        }
      ]
    },
    {
      "cell_type": "markdown",
      "source": [],
      "metadata": {
        "id": "gybxAAhh_jSM"
      }
    },
    {
      "cell_type": "markdown",
      "source": [
        "2. Scatter Plot"
      ],
      "metadata": {
        "id": "tK-ZDAtz_jOd"
      }
    },
    {
      "cell_type": "code",
      "source": [
        "# Data\n",
        "x = [1, 2, 3, 4, 5]\n",
        "y = [1, 4, 9, 16, 25]\n",
        "\n",
        "# Scatter plot\n",
        "plt.figure(figsize=(8, 5))\n",
        "plt.scatter(x, y, color='red', label='y = x^2')\n",
        "\n",
        "# Add annotations\n",
        "plt.title(\"Scatter Plot Example\")\n",
        "plt.xlabel(\"X-axis\")\n",
        "plt.ylabel(\"Y-axis\")\n",
        "plt.legend()\n",
        "plt.grid(True)\n",
        "\n",
        "# Show the plot\n",
        "plt.show()\n"
      ],
      "metadata": {
        "colab": {
          "base_uri": "https://localhost:8080/",
          "height": 487
        },
        "id": "w65pE0nSARiY",
        "outputId": "4abcdb62-e55a-47cf-c27b-2193d1e4efbb"
      },
      "execution_count": null,
      "outputs": [
        {
          "output_type": "display_data",
          "data": {
            "text/plain": [
              "<Figure size 800x500 with 1 Axes>"
            ],
            "image/png": "[encoded data removed]"
          },
          "metadata": {}
        }
      ]
    },
    {
      "cell_type": "markdown",
      "source": [
        "3. Customizing Plots"
      ],
      "metadata": {
        "id": "YiUhqAoY_jLA"
      }
    },
    {
      "cell_type": "code",
      "source": [
        "# Data\n",
        "x = [1, 2, 3, 4, 5]\n",
        "y = [1, 8, 27, 64, 125]\n",
        "\n",
        "# Line plot with customization\n",
        "plt.figure(figsize=(10, 6))\n",
        "plt.plot(x, y, color='green', linewidth=2, label='y = x^3')\n",
        "plt.title(\"Custom Line Plot\", fontsize=16, color='purple')\n",
        "plt.xlabel(\"X-axis\", fontsize=12)\n",
        "plt.ylabel(\"Y-axis\", fontsize=12)\n",
        "plt.legend(fontsize=10)\n",
        "plt.xticks(fontsize=10, rotation=45)  # Customize x-ticks\n",
        "plt.yticks(fontsize=10)\n",
        "plt.grid(True, linestyle='--', linewidth=0.5)\n",
        "\n",
        "plt.show()\n"
      ],
      "metadata": {
        "colab": {
          "base_uri": "https://localhost:8080/",
          "height": 582
        },
        "id": "FukJfINrAZrQ",
        "outputId": "f087a943-a38c-48d0-fbb7-7ad61bbad44b"
      },
      "execution_count": null,
      "outputs": [
        {
          "output_type": "display_data",
          "data": {
            "text/plain": [
              "<Figure size 1000x600 with 1 Axes>"
            ],
            "image/png": "[encoded data removed]"
          },
          "metadata": {}
        }
      ]
    },
    {
      "cell_type": "markdown",
      "source": [
        "4. Subplots"
      ],
      "metadata": {
        "id": "RKc4Z0G0AQ7h"
      }
    },
    {
      "cell_type": "code",
      "source": [
        "# Data\n",
        "x = [1, 2, 3, 4, 5]\n",
        "y1 = [2, 4, 6, 8, 10]\n",
        "y2 = [1, 4, 9, 16, 25]\n",
        "\n",
        "# Create subplots\n",
        "fig, axes = plt.subplots(1, 2, figsize=(12, 5))\n",
        "\n",
        "# First subplot\n",
        "axes[0].plot(x, y1, color='blue', label='y = 2x')\n",
        "axes[0].set_title(\"Linear Plot\")\n",
        "axes[0].set_xlabel(\"X-axis\")\n",
        "axes[0].set_ylabel(\"Y-axis\")\n",
        "# axes[0].legend()\n",
        "\n",
        "# Second subplot\n",
        "axes[1].plot(x, y2, color='orange', label='y = x^2')\n",
        "axes[1].set_title(\"Quadratic Plot\")\n",
        "axes[1].set_xlabel(\"X-axis\")\n",
        "axes[1].set_ylabel(\"Y-axis\")\n",
        "# axes[1].legend()\n",
        "\n",
        "# plt.tight_layout()\n",
        "plt.show()\n"
      ],
      "metadata": {
        "colab": {
          "base_uri": "https://localhost:8080/",
          "height": 487
        },
        "id": "BTgdIO4kAcwB",
        "outputId": "102ab578-1903-4fc1-91ef-a06d2da642c4"
      },
      "execution_count": null,
      "outputs": [
        {
          "output_type": "display_data",
          "data": {
            "text/plain": [
              "<Figure size 1200x500 with 2 Axes>"
            ],
            "image/png": "[encoded data removed]"
          },
          "metadata": {}
        }
      ]
    },
    {
      "cell_type": "markdown",
      "source": [
        "5. Bar Charts"
      ],
      "metadata": {
        "id": "KlCdNVDE_jCt"
      }
    },
    {
      "cell_type": "code",
      "source": [
        "# Data\n",
        "categories = ['A', 'B', 'C', 'D']\n",
        "values = [5, 7, 3, 8]\n",
        "\n",
        "# Bar chart\n",
        "plt.figure(figsize=(8, 5))\n",
        "plt.bar(categories, values, color='teal')\n",
        "plt.title(\"Bar Chart Example\")\n",
        "plt.xlabel(\"Categories\")\n",
        "plt.ylabel(\"Values\")\n",
        "plt.show()\n"
      ],
      "metadata": {
        "colab": {
          "base_uri": "https://localhost:8080/",
          "height": 487
        },
        "id": "eKjL5zlHAgMh",
        "outputId": "f34bc13b-6bb9-47ba-f235-d0b7617fd1ec"
      },
      "execution_count": null,
      "outputs": [
        {
          "output_type": "display_data",
          "data": {
            "text/plain": [
              "<Figure size 800x500 with 1 Axes>"
            ],
            "image/png": "[encoded data removed]"
          },
          "metadata": {}
        }
      ]
    },
    {
      "cell_type": "markdown",
      "source": [
        "6. Histograms"
      ],
      "metadata": {
        "id": "QDYVp_-P_i96"
      }
    },
    {
      "cell_type": "code",
      "source": [
        "# Data\n",
        "data = np.random.randn(1000)\n",
        "\n",
        "# Histogram\n",
        "plt.figure(figsize=(8, 5))\n",
        "plt.hist(data, bins=20, color='skyblue', edgecolor='black')\n",
        "plt.title(\"Histogram Example\")\n",
        "plt.xlabel(\"Value\")\n",
        "plt.ylabel(\"Frequency\")\n",
        "plt.show()\n"
      ],
      "metadata": {
        "colab": {
          "base_uri": "https://localhost:8080/",
          "height": 487
        },
        "id": "fZaKW5rcAjY6",
        "outputId": "b543f309-fb3a-4fc9-a8d3-f4f4ca23c734"
      },
      "execution_count": null,
      "outputs": [
        {
          "output_type": "display_data",
          "data": {
            "text/plain": [
              "<Figure size 800x500 with 1 Axes>"
            ],
            "image/png": "[encoded data removed]"
          },
          "metadata": {}
        }
      ]
    },
    {
      "cell_type": "markdown",
      "source": [
        "7. Pie Charts"
      ],
      "metadata": {
        "id": "Qz_vdP-U_i6Y"
      }
    },
    {
      "cell_type": "code",
      "source": [
        "# Data\n",
        "labels = ['Category A', 'Category B', 'Category C']\n",
        "sizes = [40, 35, 25]\n",
        "\n",
        "# Pie chart\n",
        "plt.figure(figsize=(7, 7))\n",
        "plt.pie(sizes, labels=labels, autopct='%1.1f%%', startangle=140, colors=['gold', 'lightcoral', 'lightblue'])\n",
        "plt.title(\"Pie Chart Example\")\n",
        "plt.show()\n"
      ],
      "metadata": {
        "colab": {
          "base_uri": "https://localhost:8080/",
          "height": 598
        },
        "id": "48vPTiaHAmOG",
        "outputId": "afb7f452-8370-4277-8561-07aba0dbbd10"
      },
      "execution_count": null,
      "outputs": [
        {
          "output_type": "display_data",
          "data": {
            "text/plain": [
              "<Figure size 700x700 with 1 Axes>"
            ],
            "image/png": "[encoded data removed]"
          },
          "metadata": {}
        }
      ]
    },
    {
      "cell_type": "markdown",
      "source": [],
      "metadata": {
        "id": "_aiWxSSz_iwA"
      }
    },
    {
      "cell_type": "markdown",
      "source": [],
      "metadata": {
        "id": "bQEI-Lss_hiT"
      }
    },
    {
      "cell_type": "code",
      "source": [],
      "metadata": {
        "id": "HnlE-uCy8IRU"
      },
      "execution_count": null,
      "outputs": []
    },
    {
      "cell_type": "code",
      "source": [],
      "metadata": {
        "id": "KguL6GdW_MXb"
      },
      "execution_count": null,
      "outputs": []
    },
    {
      "cell_type": "code",
      "source": [],
      "metadata": {
        "id": "w5IkSF0v_MLV"
      },
      "execution_count": null,
      "outputs": []
    },
    {
      "cell_type": "markdown",
      "source": [],
      "metadata": {
        "id": "-Gk6DcEN_C5H"
      }
    },
    {
      "cell_type": "markdown",
      "source": [
        "# NumPy\n",
        "\n",
        "You are an expert Python tutor specializing in numerical computing with NumPy. Provide me with a detailed, step-by-step guide to effectively utilize NumPy for various tasks. Your instructions should include explanations in text with code examples embedded directly in the text (not as separate chunks).\n",
        "\n",
        "Use fake data generated directly with NumPy to demonstrate its features. Start by creating a sample dataset (e.g., random arrays) and explaining the structure of the data. Cover topics such as inspecting the data (shape, dimensions, data types), slicing and indexing, performing basic arithmetic operations, aggregations (mean, sum, etc.), and common manipulations like reshaping and stacking arrays.\n",
        "\n",
        "Focus on showcasing the strengths of NumPy and how it simplifies numerical computation, without using additional libraries for now.\n",
        "\n"
      ],
      "metadata": {
        "id": "rCj89hju7Ob8"
      }
    },
    {
      "cell_type": "markdown",
      "source": [
        "Step 1: Import NumPy and Create a Sample Dataset\n",
        "Start by importing NumPy and generating random data. NumPy arrays are the primary data structure and can be created from scratch."
      ],
      "metadata": {
        "id": "de2xJkI57OXe"
      }
    },
    {
      "cell_type": "code",
      "source": [
        "# prompt: import NumPy\n",
        "# generate random data 4 rows X 5 columns\n",
        "# show the sape of this data\n",
        "\n",
        "import numpy as np\n",
        "\n",
        "# Generate random data: a 4x5 array of random numbers between 0 and 1\n",
        "data = np.random.rand(4, 5)\n",
        "# print(data)\n",
        "print(data[0])\n",
        "\n",
        "\n",
        "# Show the shape of the data\n",
        "print(\"\\nShape of the data:\", data.shape) # Output: (4, 5) indicating 4 rows and 5 columns"
      ],
      "metadata": {
        "colab": {
          "base_uri": "https://localhost:8080/"
        },
        "id": "efBG6ajpK3nj",
        "outputId": "049c0e39-54d7-4dd7-a87f-17b5e183fec0"
      },
      "execution_count": null,
      "outputs": [
        {
          "output_type": "stream",
          "name": "stdout",
          "text": [
            "[0.61287197 0.54613789 0.64515376 0.72028942 0.41173306]\n",
            "\n",
            "Shape of the data: (4, 5)\n"
          ]
        }
      ]
    },
    {
      "cell_type": "markdown",
      "source": [
        "Step 2: Inspect the Data\n",
        "Understanding the structure of the data is critical. Here’s how to inspect the shape, dimensions, and data types of a NumPy array:"
      ],
      "metadata": {
        "id": "POSv0d3h7OTB"
      }
    },
    {
      "cell_type": "code",
      "source": [
        "# prompt: inspect the shape, dimensions, and data types of data which is a numpy array\n",
        "\n",
        "import numpy as np\n",
        "\n",
        "# Assuming 'data' is your NumPy array (replace with your actual array)\n",
        "# Example: data = np.random.rand(4, 5)  # Create a 4x5 array of random numbers\n",
        "\n",
        "# Inspect the shape of the data\n",
        "print(\"Shape of the data:\", data.shape)\n",
        "\n",
        "# Inspect the dimensions of the data\n",
        "print(\"Dimensions of the data:\", data.ndim)\n",
        "\n",
        "# Inspect the data type of the array elements\n",
        "print(\"Data type of the array elements:\", data.dtype)"
      ],
      "metadata": {
        "colab": {
          "base_uri": "https://localhost:8080/"
        },
        "id": "T0YCw3RyK4hK",
        "outputId": "41bf696f-cb88-4b70-dd1a-67500b6cf38e"
      },
      "execution_count": null,
      "outputs": [
        {
          "output_type": "stream",
          "name": "stdout",
          "text": [
            "Shape of the data: (4, 5)\n",
            "Dimensions of the data: 2\n",
            "Data type of the array elements: float64\n"
          ]
        }
      ]
    },
    {
      "cell_type": "markdown",
      "source": [
        "Step 3: Slicing and Indexing\n",
        "Slicing and indexing allow you to access specific elements, rows, or columns of an array:"
      ],
      "metadata": {
        "id": "YqBGEvkJ7OMt"
      }
    },
    {
      "cell_type": "code",
      "source": [
        "# prompt: slice first row of data which is a numpy array\n",
        "\n",
        "print(data[0,:])"
      ],
      "metadata": {
        "colab": {
          "base_uri": "https://localhost:8080/"
        },
        "id": "RCTur3CkK5La",
        "outputId": "5c206026-fe89-4aba-e796-0d1c2ff0e55b"
      },
      "execution_count": null,
      "outputs": [
        {
          "output_type": "stream",
          "name": "stdout",
          "text": [
            "[0.61287197 0.54613789 0.64515376 0.72028942 0.41173306]\n"
          ]
        }
      ]
    },
    {
      "cell_type": "markdown",
      "source": [
        "Step 4: Perform Basic Arithmetic Operations\n",
        "NumPy allows element-wise arithmetic on arrays, making operations concise and efficient:"
      ],
      "metadata": {
        "id": "gR2rfonh7OFH"
      }
    },
    {
      "cell_type": "code",
      "source": [
        "# Add a scalar to the entire array\n",
        "print(\"Add 5:\\n\", data + 5)\n",
        "\n",
        "# Multiply each element by 2\n",
        "print(\"Multiply by 2:\\n\", data * 2)\n",
        "\n",
        "# Element-wise addition with another array\n",
        "array2 = np.random.rand(4, 5)\n",
        "print(\"Element-wise addition:\\n\", data + array2)\n",
        "\n",
        "# Element-wise multiplication\n",
        "print(\"Element-wise multiplication:\\n\", data * array2)\n"
      ],
      "metadata": {
        "colab": {
          "base_uri": "https://localhost:8080/"
        },
        "id": "MyKoyIJCK51T",
        "outputId": "81652af2-3101-4522-ba4f-002d3e4bf13e"
      },
      "execution_count": null,
      "outputs": [
        {
          "output_type": "stream",
          "name": "stdout",
          "text": [
            "Add 5:\n",
            " [[5.61287197 5.54613789 5.64515376 5.72028942 5.41173306]\n",
            " [5.86011193 5.40967246 5.88529826 5.81491952 5.33352001]\n",
            " [5.28350737 5.50019433 5.85723745 5.71265164 5.97683408]\n",
            " [5.88684159 5.23734585 5.65969137 5.91386296 5.37309639]]\n",
            "Multiply by 2:\n",
            " [[1.22574394 1.09227577 1.29030753 1.44057883 0.82346611]\n",
            " [1.72022386 0.81934492 1.77059652 1.62983903 0.66704001]\n",
            " [0.56701475 1.00038866 1.7144749  1.42530329 1.95366815]\n",
            " [1.77368319 0.47469171 1.31938274 1.82772592 0.74619279]]\n",
            "Element-wise addition:\n",
            " [[1.30100517 1.52488204 1.21508403 1.09567134 1.34880468]\n",
            " [1.30678596 1.01166283 1.09567573 1.64755616 1.13914479]\n",
            " [0.37692088 1.46469384 1.71145783 1.21811465 1.56054658]\n",
            " [1.75475755 0.62987646 0.86537303 1.34273325 1.32732088]]\n",
            "Element-wise multiplication:\n",
            " [[0.42173755 0.53452926 0.36769266 0.27038363 0.38582336]\n",
            " [0.38418966 0.24661888 0.18624681 0.67853185 0.26869198]\n",
            " [0.02648342 0.48243719 0.7322697  0.36021904 0.57019027]\n",
            " [0.76970397 0.09316551 0.13568642 0.39192867 0.35601771]]\n"
          ]
        }
      ]
    },
    {
      "cell_type": "markdown",
      "source": [
        "Step 5: Aggregations\n",
        "Aggregation functions are built into NumPy to calculate statistics efficiently:"
      ],
      "metadata": {
        "id": "y0jutWef7N8a"
      }
    },
    {
      "cell_type": "code",
      "source": [
        "# Calculate the mean\n",
        "print(\"Mean of all elements:\", data.mean())\n",
        "\n",
        "# Calculate the sum\n",
        "print(\"Sum of all elements:\", data.sum())\n",
        "\n",
        "# Calculate the maximum and minimum\n",
        "print(\"Max value:\", data.max())\n",
        "print(\"Min value:\", data.min())\n",
        "\n",
        "# Aggregation along specific axes\n",
        "print(\"Mean across rows:\", data.mean(axis=1))  # Row-wise mean\n",
        "print(\"Sum across columns:\", data.sum(axis=0))  # Column-wise sum\n"
      ],
      "metadata": {
        "colab": {
          "base_uri": "https://localhost:8080/"
        },
        "id": "QIV_YCtHK6aU",
        "outputId": "8609a270-4f0c-4294-ca4f-febc55e00ad8"
      },
      "execution_count": null,
      "outputs": [
        {
          "output_type": "stream",
          "name": "stdout",
          "text": [
            "Mean of all elements: 0.6320485656588651\n",
            "Sum of all elements: 12.640971313177303\n",
            "Max value: 0.9768340751698263\n",
            "Min value: 0.23734585449747336\n",
            "Mean across rows: [0.58723722 0.66070444 0.66608497 0.61416763]\n",
            "Sum across columns: [2.64333287 1.69335053 3.04738084 3.16172354 2.09518353]\n"
          ]
        }
      ]
    },
    {
      "cell_type": "markdown",
      "source": [
        "Step 6: Reshape Arrays\n",
        "Reshaping changes the structure of an array without modifying the data:"
      ],
      "metadata": {
        "id": "Ue4Vj-OS7NeF"
      }
    },
    {
      "cell_type": "code",
      "source": [
        "# Reshape the array into a 10x2 matrix\n",
        "reshaped_data = data.reshape(10, 2)\n",
        "print(\"Reshaped array (10x2):\\n\", reshaped_data)\n",
        "\n",
        "# Flatten the array into a 1D array\n",
        "flattened_data = data.flatten()\n",
        "print(\"Flattened array:\\n\", flattened_data)\n"
      ],
      "metadata": {
        "colab": {
          "base_uri": "https://localhost:8080/"
        },
        "id": "Xx4r4okBK6_9",
        "outputId": "f2b05a7d-650b-4215-ac36-82c73c56514d"
      },
      "execution_count": null,
      "outputs": [
        {
          "output_type": "stream",
          "name": "stdout",
          "text": [
            "Reshaped array (10x2):\n",
            " [[0.61287197 0.54613789]\n",
            " [0.64515376 0.72028942]\n",
            " [0.41173306 0.86011193]\n",
            " [0.40967246 0.88529826]\n",
            " [0.81491952 0.33352001]\n",
            " [0.28350737 0.50019433]\n",
            " [0.85723745 0.71265164]\n",
            " [0.97683408 0.88684159]\n",
            " [0.23734585 0.65969137]\n",
            " [0.91386296 0.37309639]]\n",
            "Flattened array:\n",
            " [0.61287197 0.54613789 0.64515376 0.72028942 0.41173306 0.86011193\n",
            " 0.40967246 0.88529826 0.81491952 0.33352001 0.28350737 0.50019433\n",
            " 0.85723745 0.71265164 0.97683408 0.88684159 0.23734585 0.65969137\n",
            " 0.91386296 0.37309639]\n"
          ]
        }
      ]
    },
    {
      "cell_type": "markdown",
      "source": [
        "Step 7: Stack and Concatenate Arrays\n",
        "NumPy makes it easy to combine arrays:"
      ],
      "metadata": {
        "id": "ZWXMu2v985Cd"
      }
    },
    {
      "cell_type": "code",
      "source": [
        "# Stack arrays vertically (row-wise)\n",
        "vertical_stack = np.vstack([data, array2])\n",
        "print(\"Vertical stack:\\n\", vertical_stack)\n",
        "\n",
        "# Stack arrays horizontally (column-wise)\n",
        "horizontal_stack = np.hstack([data, array2])\n",
        "print(\"Horizontal stack:\\n\", horizontal_stack)\n"
      ],
      "metadata": {
        "colab": {
          "base_uri": "https://localhost:8080/"
        },
        "id": "Ae34a5NjK8Fa",
        "outputId": "8a852d6b-1c1d-4f9f-8fb6-b05ebfa6fc98"
      },
      "execution_count": null,
      "outputs": [
        {
          "output_type": "stream",
          "name": "stdout",
          "text": [
            "Vertical stack:\n",
            " [[0.61287197 0.54613789 0.64515376 0.72028942 0.41173306]\n",
            " [0.86011193 0.40967246 0.88529826 0.81491952 0.33352001]\n",
            " [0.28350737 0.50019433 0.85723745 0.71265164 0.97683408]\n",
            " [0.88684159 0.23734585 0.65969137 0.91386296 0.37309639]\n",
            " [0.6881332  0.97874415 0.56993026 0.37538192 0.93707163]\n",
            " [0.44667403 0.60199037 0.21037747 0.83263665 0.80562479]\n",
            " [0.09341351 0.96449951 0.85422039 0.505463   0.58371251]\n",
            " [0.86791596 0.3925306  0.20568166 0.42887029 0.95422448]]\n",
            "Horizontal stack:\n",
            " [[0.61287197 0.54613789 0.64515376 0.72028942 0.41173306 0.6881332\n",
            "  0.97874415 0.56993026 0.37538192 0.93707163]\n",
            " [0.86011193 0.40967246 0.88529826 0.81491952 0.33352001 0.44667403\n",
            "  0.60199037 0.21037747 0.83263665 0.80562479]\n",
            " [0.28350737 0.50019433 0.85723745 0.71265164 0.97683408 0.09341351\n",
            "  0.96449951 0.85422039 0.505463   0.58371251]\n",
            " [0.88684159 0.23734585 0.65969137 0.91386296 0.37309639 0.86791596\n",
            "  0.3925306  0.20568166 0.42887029 0.95422448]]\n"
          ]
        }
      ]
    },
    {
      "cell_type": "markdown",
      "source": [
        "\n",
        "## Step-by-Step Guide to Creating a Single-Neuron Neural Network for Shape Classification\n",
        "A single-neuron neural network is a simple yet effective way to understand how neural networks process information. This guide demonstrates how to classify shapes into categories (circle, square, triangle, rectangle) using Python and NumPy."
      ],
      "metadata": {
        "id": "4ynzyemj87ew"
      }
    },
    {
      "cell_type": "markdown",
      "source": [],
      "metadata": {
        "id": "AFm5MPb187bb"
      }
    },
    {
      "cell_type": "markdown",
      "source": [
        "Step 1: Preprocess Shape Data\n",
        "We’ll first flatten the binary matrices representing the shapes into 1D vectors and assign numerical labels to the shapes."
      ],
      "metadata": {
        "id": "uWKZucF487Ys"
      }
    },
    {
      "cell_type": "code",
      "source": [
        "import numpy as np\n",
        "\n",
        "# Define the shapes as binary matrices\n",
        "shapes = {\n",
        "    \"square\": np.array([\n",
        "        [1, 1, 1, 1, 1],\n",
        "        [1, 0, 0, 0, 1],\n",
        "        [1, 0, 0, 0, 1],\n",
        "        [1, 0, 0, 0, 1],\n",
        "        [1, 1, 1, 1, 1]\n",
        "    ]),\n",
        "    \"triangle\": np.array([\n",
        "        [1, 0, 0, 0, 0],\n",
        "        [1, 1, 0, 0, 0],\n",
        "        [1, 0, 1, 0, 0],\n",
        "        [1, 0, 0, 1, 0],\n",
        "        [1, 1, 1, 1, 1]\n",
        "    ]),\n",
        "    \"circle\": np.array([\n",
        "        [0, 0, 1, 0, 0],\n",
        "        [0, 1, 0, 1, 0],\n",
        "        [1, 0, 0, 0, 1],\n",
        "        [0, 1, 0, 1, 0],\n",
        "        [0, 0, 1, 0, 0]\n",
        "    ]),\n",
        "    \"rectangle\": np.array([\n",
        "        [0, 0, 0, 0, 0],\n",
        "        [1, 1, 1, 1, 1],\n",
        "        [1, 0, 0, 0, 1],\n",
        "        [1, 1, 1, 1, 1],\n",
        "        [0, 0, 0, 0, 0]\n",
        "    ])\n",
        "}\n",
        "\n",
        "# Flatten each shape into a 1D vector\n",
        "flattened_shapes = {name: matrix.flatten() for name, matrix in shapes.items()}\n",
        "\n",
        "# Create the input dataset (X) and labels (y)\n",
        "X = np.array(list(flattened_shapes.values()))\n",
        "y = np.array([0, 1, 2, 3])  # Labels: square=0, triangle=1, circle=2, rectangle=3\n"
      ],
      "metadata": {
        "id": "N8nGZHlb-F0q"
      },
      "execution_count": null,
      "outputs": []
    },
    {
      "cell_type": "markdown",
      "source": [
        "Step 2: Define the Single-Neuron Model\n",
        "The neuron includes weights, bias, and an activation function (softmax for multi-class classification).\n",
        "\n",
        "python\n",
        "Copy code\n"
      ],
      "metadata": {
        "id": "9k2DjfGy87WV"
      }
    },
    {
      "cell_type": "code",
      "source": [
        "# Initialize weights and bias\n",
        "weights = np.random.randn(25, 4)  # 25 inputs, 4 output classes\n",
        "bias = np.random.randn(4)\n",
        "\n",
        "# Define the softmax activation function\n",
        "def softmax(z):\n",
        "    exp_z = np.exp(z - np.max(z))  # Numerical stability adjustment\n",
        "    return exp_z / exp_z.sum(axis=1, keepdims=True)\n",
        "\n",
        "# Forward pass function\n",
        "def forward(X, weights, bias):\n",
        "    z = np.dot(X, weights) + bias  # Weighted sum\n",
        "    return softmax(z)  # Apply softmax to produce probabilities\n"
      ],
      "metadata": {
        "id": "-pRzxeJL-j1u"
      },
      "execution_count": null,
      "outputs": []
    },
    {
      "cell_type": "markdown",
      "source": [
        "Step 3: Train the Model\n",
        "We’ll use the cross-entropy loss function and gradient descent for optimization.\n",
        "\n"
      ],
      "metadata": {
        "id": "-V1dszCS87T4"
      }
    },
    {
      "cell_type": "code",
      "source": [
        "# Define cross-entropy loss\n",
        "def cross_entropy_loss(y_true, y_pred):\n",
        "    n = y_true.shape[0]\n",
        "    log_likelihood = -np.log(y_pred[range(n), y_true])\n",
        "    return log_likelihood.mean()\n",
        "\n",
        "# One-hot encode the labels for gradient calculation\n",
        "y_one_hot = np.eye(4)[y]\n",
        "\n",
        "# Training parameters\n",
        "learning_rate = 0.01\n",
        "epochs = 1000\n",
        "\n",
        "# Training loop\n",
        "for epoch in range(epochs):\n",
        "    # Forward pass\n",
        "    y_pred = forward(X, weights, bias)\n",
        "\n",
        "    # Calculate loss\n",
        "    loss = cross_entropy_loss(y, y_pred)\n",
        "\n",
        "    # Backward pass (gradient calculation)\n",
        "    grad_z = y_pred - y_one_hot  # Gradient of loss w.r.t. z\n",
        "    grad_w = np.dot(X.T, grad_z) / X.shape[0]  # Gradient w.r.t. weights\n",
        "    grad_b = grad_z.mean(axis=0)  # Gradient w.r.t. bias\n",
        "\n",
        "    # Update weights and bias\n",
        "    weights -= learning_rate * grad_w\n",
        "    bias -= learning_rate * grad_b\n",
        "\n",
        "    # Print loss every 100 epochs\n",
        "    if epoch % 100 == 0:\n",
        "        print(f\"Epoch {epoch}, Loss: {loss}\")\n"
      ],
      "metadata": {
        "colab": {
          "base_uri": "https://localhost:8080/"
        },
        "id": "jb6Mz8KW-oQu",
        "outputId": "136c88f3-ab37-48e8-9c89-c4f26b92eb5f"
      },
      "execution_count": null,
      "outputs": [
        {
          "output_type": "stream",
          "name": "stdout",
          "text": [
            "Epoch 0, Loss: 5.075498634702265\n",
            "Epoch 100, Loss: 3.2635433407682872\n",
            "Epoch 200, Loss: 1.9550337758707352\n",
            "Epoch 300, Loss: 0.8796040189138516\n",
            "Epoch 400, Loss: 0.3178936530108522\n",
            "Epoch 500, Loss: 0.17249133855133564\n",
            "Epoch 600, Loss: 0.11849543962356583\n",
            "Epoch 700, Loss: 0.09112808959797113\n",
            "Epoch 800, Loss: 0.07464702427270875\n",
            "Epoch 900, Loss: 0.06359531009335458\n"
          ]
        }
      ]
    },
    {
      "cell_type": "markdown",
      "source": [
        "Step 4: Validate the Model\n",
        "After training, test the model's performance on the training data."
      ],
      "metadata": {
        "id": "oK7Jh55V87Rh"
      }
    },
    {
      "cell_type": "code",
      "source": [
        "# Test the model\n",
        "y_pred = forward(X, weights, bias)\n",
        "predictions = np.argmax(y_pred, axis=1)  # Get the predicted class\n",
        "print(\"Predicted labels:\", predictions)\n",
        "print(\"True labels:\", y)\n"
      ],
      "metadata": {
        "colab": {
          "base_uri": "https://localhost:8080/"
        },
        "id": "IHfVzrlE-0sL",
        "outputId": "9d09f847-2bf0-432c-8925-f67320ff863c"
      },
      "execution_count": null,
      "outputs": [
        {
          "output_type": "stream",
          "name": "stdout",
          "text": [
            "Predicted labels: [0 1 2 3]\n",
            "True labels: [0 1 2 3]\n"
          ]
        }
      ]
    },
    {
      "cell_type": "markdown",
      "source": [],
      "metadata": {
        "id": "ccZ0d_en87PA"
      }
    },
    {
      "cell_type": "code",
      "source": [
        "# Define an imperfect square\n",
        "imperfect_square = np.array([\n",
        "    [0,1,1,0,0],\n",
        "    [0,1,0,1,1],\n",
        "    [1,0,0,0,1],  # A small imperfection here\n",
        "    [0,1,0,1,0],\n",
        "    [0,0,1,0,0]\n",
        "])\n",
        "\n",
        "# Flatten the matrix into a vector\n",
        "imperfect_square_flattened = imperfect_square.flatten().reshape(1, -1)  # Shape (1, 25)\n",
        "\n",
        "# Predict the label using the trained model\n",
        "y_pred = forward(imperfect_square_flattened, weights, bias)\n",
        "predicted_label = np.argmax(y_pred, axis=1)[0]  # Get the predicted class\n",
        "\n",
        "# Display the result\n",
        "print(\"Predicted label for the imperfect square:\", predicted_label)\n",
        "\n"
      ],
      "metadata": {
        "colab": {
          "base_uri": "https://localhost:8080/"
        },
        "id": "J3EHP0Z5OdDW",
        "outputId": "6b906982-cb1d-4f8e-a39f-168f08e9c2f5"
      },
      "execution_count": null,
      "outputs": [
        {
          "output_type": "stream",
          "name": "stdout",
          "text": [
            "Predicted label for the imperfect square: 2\n"
          ]
        }
      ]
    },
    {
      "cell_type": "markdown",
      "source": [],
      "metadata": {
        "id": "hvHM93ok87Mb"
      }
    },
    {
      "cell_type": "markdown",
      "source": [],
      "metadata": {
        "id": "WE-lSD8w87H6"
      }
    },
    {
      "cell_type": "markdown",
      "source": [],
      "metadata": {
        "id": "adcXkclM87FQ"
      }
    },
    {
      "cell_type": "markdown",
      "source": [],
      "metadata": {
        "id": "ygYcR61I87Cn"
      }
    },
    {
      "cell_type": "markdown",
      "source": [],
      "metadata": {
        "id": "j40VmuFf86_z"
      }
    },
    {
      "cell_type": "markdown",
      "source": [],
      "metadata": {
        "id": "GoWcLkDc868z"
      }
    },
    {
      "cell_type": "markdown",
      "source": [],
      "metadata": {
        "id": "f7qSJTCN864b"
      }
    },
    {
      "cell_type": "markdown",
      "source": [],
      "metadata": {
        "id": "2vYCHus_860w"
      }
    },
    {
      "cell_type": "markdown",
      "source": [],
      "metadata": {
        "id": "bwc4wYSp86xa"
      }
    },
    {
      "cell_type": "markdown",
      "source": [],
      "metadata": {
        "id": "tsJGxHTo86pP"
      }
    },
    {
      "cell_type": "markdown",
      "source": [],
      "metadata": {
        "id": "kw7dVt2D86as"
      }
    },
    {
      "cell_type": "markdown",
      "source": [],
      "metadata": {
        "id": "t_JoVDAz85x0"
      }
    },
    {
      "cell_type": "code",
      "source": [],
      "metadata": {
        "id": "qgYxnfv36-qf"
      },
      "execution_count": null,
      "outputs": []
    },
    {
      "cell_type": "code",
      "execution_count": null,
      "metadata": {
        "id": "BBrf1EEGi4DQ"
      },
      "outputs": [],
      "source": []
    }
  ]
}