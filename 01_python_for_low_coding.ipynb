{
  "nbformat": 4,
  "nbformat_minor": 0,
  "metadata": {
    "colab": {
      "provenance": [],
      "authorship_tag": "ABX9TyPCuHdpLfhagmFcjRtXQ104",
      "include_colab_link": true
    },
    "kernelspec": {
      "name": "python3",
      "display_name": "Python 3"
    },
    "language_info": {
      "name": "python"
    }
  },
  "cells": [
    {
      "cell_type": "markdown",
      "metadata": {
        "id": "view-in-github",
        "colab_type": "text"
      },
      "source": [
        "<a href=\"https://colab.research.google.com/github/IyadSultan/low-coding-AI/blob/main/01_python_for_low_coding.ipynb\" target=\"_parent\"><img src=\"https://colab.research.google.com/assets/colab-badge.svg\" alt=\"Open In Colab\"/></a>"
      ]
    },
    {
      "cell_type": "code",
      "execution_count": null,
      "metadata": {
        "colab": {
          "base_uri": "https://localhost:8080/"
        },
        "id": "gC0ynDP_ATYO",
        "outputId": "33a3d1a7-87af-4dc9-a33b-cd653a6c6346"
      },
      "outputs": [
        {
          "output_type": "stream",
          "name": "stdout",
          "text": [
            "Enter your name: Ahmad\n",
            "Hello, Ahmad!\n"
          ]
        }
      ],
      "source": [
        "user_name = input(\"Enter your name: \")\n",
        "\n",
        "print(\"Hello, \" + user_name + \"!\")"
      ]
    },
    {
      "cell_type": "markdown",
      "source": [
        "# H1\n",
        "## H2\n",
        "### H3\n",
        "- bullet1\n",
        "-bullet2\n"
      ],
      "metadata": {
        "id": "r0OzyGp9A-i6"
      }
    },
    {
      "cell_type": "code",
      "source": [
        "age = int(input(\"Enter your age: \"))\n",
        "\n",
        "if age < 18:\n",
        "    print(\"You are a minor.\")\n",
        "elif age == 18:\n",
        "    print(\"You're 18, a special age!\")\n",
        "else:\n",
        "    print(\"You are an adult.\")\n"
      ],
      "metadata": {
        "colab": {
          "base_uri": "https://localhost:8080/"
        },
        "id": "ma_eVghrBBUG",
        "outputId": "07892112-dde9-415a-86c8-fb1f29595a43"
      },
      "execution_count": null,
      "outputs": [
        {
          "output_type": "stream",
          "name": "stdout",
          "text": [
            "Enter your age: 18\n",
            "You're 18, a special age!\n"
          ]
        }
      ]
    },
    {
      "cell_type": "code",
      "source": [
        "# For loop\n",
        "for i in range(5):  # Range: 0 to 4\n",
        "    print(\"Iteration:\", i)\n",
        "\n",
        "\n"
      ],
      "metadata": {
        "colab": {
          "base_uri": "https://localhost:8080/"
        },
        "id": "b2K_b8NiBOcu",
        "outputId": "84bc438a-c25b-4140-acd2-4fc16126d7da"
      },
      "execution_count": null,
      "outputs": [
        {
          "output_type": "stream",
          "name": "stdout",
          "text": [
            "Iteration: 0\n",
            "Iteration: 1\n",
            "Iteration: 2\n",
            "Iteration: 3\n",
            "Iteration: 4\n"
          ]
        }
      ]
    },
    {
      "cell_type": "code",
      "source": [
        "# While loop\n",
        "count = 0\n",
        "while count < 3:\n",
        "    print(\"Count:\", count)\n",
        "    count += 1"
      ],
      "metadata": {
        "colab": {
          "base_uri": "https://localhost:8080/"
        },
        "id": "kicF15zZBOZe",
        "outputId": "86a4c6b8-1b42-4abf-d812-5e7113cd4f88"
      },
      "execution_count": null,
      "outputs": [
        {
          "output_type": "stream",
          "name": "stdout",
          "text": [
            "Count: 0\n",
            "Count: 1\n",
            "Count: 2\n"
          ]
        }
      ]
    },
    {
      "cell_type": "code",
      "source": [
        "def greet(name):\n",
        "    return f\"Hello, {name}!\"\n",
        "\n",
        "print(greet(\"Iyad\"))\n"
      ],
      "metadata": {
        "colab": {
          "base_uri": "https://localhost:8080/"
        },
        "id": "tFBw7ntTBOWM",
        "outputId": "ccff0a5f-e6d3-447b-89df-06604143c93c"
      },
      "execution_count": null,
      "outputs": [
        {
          "output_type": "stream",
          "name": "stdout",
          "text": [
            "Hello, Iyad!\n"
          ]
        }
      ]
    },
    {
      "cell_type": "code",
      "source": [
        "fruits = [\"apple\", \"banana\", \"cherry\"]\n",
        "\n",
        "\n"
      ],
      "metadata": {
        "id": "2A6CFyBuBOS8"
      },
      "execution_count": null,
      "outputs": []
    },
    {
      "cell_type": "code",
      "source": [
        "# Access elements\n",
        "print(fruits[0])  # apple\n",
        "\n"
      ],
      "metadata": {
        "colab": {
          "base_uri": "https://localhost:8080/"
        },
        "id": "XFZeCeJIBOPk",
        "outputId": "c1171809-1330-4bc0-c188-aa632ad1d364"
      },
      "execution_count": null,
      "outputs": [
        {
          "output_type": "stream",
          "name": "stdout",
          "text": [
            "apple\n"
          ]
        }
      ]
    },
    {
      "cell_type": "code",
      "source": [
        "# Add an item\n",
        "fruits.append(\"orange\")\n",
        "print(fruits)\n",
        "\n"
      ],
      "metadata": {
        "colab": {
          "base_uri": "https://localhost:8080/"
        },
        "id": "fDc5cSFqBOMd",
        "outputId": "6bb0ca54-6f85-421d-a29d-303b95ddb807"
      },
      "execution_count": null,
      "outputs": [
        {
          "output_type": "stream",
          "name": "stdout",
          "text": [
            "['apple', 'banana', 'cherry', 'orange']\n"
          ]
        }
      ]
    },
    {
      "cell_type": "code",
      "source": [
        "# Iterate\n",
        "for fruit in fruits:\n",
        "    print(fruit)"
      ],
      "metadata": {
        "colab": {
          "base_uri": "https://localhost:8080/"
        },
        "id": "zpOilT-mBOJL",
        "outputId": "a076a5e7-7edb-4c52-f64b-ca1cbf452001"
      },
      "execution_count": null,
      "outputs": [
        {
          "output_type": "stream",
          "name": "stdout",
          "text": [
            "apple\n",
            "banana\n",
            "cherry\n",
            "orange\n"
          ]
        }
      ]
    },
    {
      "cell_type": "code",
      "source": [
        "person = {\n",
        "    \"name\": \"Alice\",\n",
        "    \"age\": 25,\n",
        "    \"city\": \"New York\"\n",
        "}\n",
        "\n"
      ],
      "metadata": {
        "id": "9-iqrrSNBOFz"
      },
      "execution_count": null,
      "outputs": []
    },
    {
      "cell_type": "code",
      "source": [
        "# Access value by key\n",
        "print(person[\"name\"])\n",
        "\n",
        "\n"
      ],
      "metadata": {
        "colab": {
          "base_uri": "https://localhost:8080/"
        },
        "id": "-SoyfupsBOBQ",
        "outputId": "146ac7eb-a0b4-457e-94b4-2227b8cf9505"
      },
      "execution_count": null,
      "outputs": [
        {
          "output_type": "stream",
          "name": "stdout",
          "text": [
            "Alice\n"
          ]
        }
      ]
    },
    {
      "cell_type": "code",
      "source": [
        "# Add a new key-value pair\n",
        "person[\"job\"] = \"Engineer\"\n",
        "print(person)"
      ],
      "metadata": {
        "colab": {
          "base_uri": "https://localhost:8080/"
        },
        "id": "nLGvKDfgBN9E",
        "outputId": "cb88d883-593c-4860-977e-f3c3dcb43e63"
      },
      "execution_count": null,
      "outputs": [
        {
          "output_type": "stream",
          "name": "stdout",
          "text": [
            "{'name': 'Alice', 'age': 25, 'city': 'New York', 'job': 'Engineer'}\n"
          ]
        }
      ]
    },
    {
      "cell_type": "code",
      "source": [
        "# prompt: iterate throguh person items and print their keys and vlaues\n",
        "# meow meow\n",
        "\n",
        "person = {\n",
        "    \"name\": \"Alice\",\n",
        "    \"age\": 25,\n",
        "    \"city\": \"New York\"\n",
        "}\n",
        "\n",
        "\n",
        "for key, value in person.items():\n",
        "    print(f\"Key: {key}, Value: {value}\")\n"
      ],
      "metadata": {
        "colab": {
          "base_uri": "https://localhost:8080/"
        },
        "id": "-Sw10ohRDP3b",
        "outputId": "0d93580d-8ad7-4d9d-a3f0-8b44c1c00bb4"
      },
      "execution_count": null,
      "outputs": [
        {
          "output_type": "stream",
          "name": "stdout",
          "text": [
            "Key: name, Value: Alice\n",
            "Key: age, Value: 25\n",
            "Key: city, Value: New York\n"
          ]
        }
      ]
    },
    {
      "cell_type": "code",
      "source": [
        "# prompt: change this code so I append (add text) to the existing file.\n",
        "# change the code so it adds a new line then it adds the text\n",
        "# if the file does not exist then create it\n",
        "# just work on this code\n",
        "# with open(\"example.txt\", \"w\") as file:\n",
        "#     # Write the string \"Hello, Python!\" to the file.\n",
        "#     file.write(\"Hello, Python!\")\n",
        "\n",
        "with open(\"example.txt\", \"w\") as file:\n",
        "    # Add a new line\n",
        "    file.write(\"\\n\")\n",
        "    # Write the string \"Hello, Python!\" to the file.\n",
        "    file.write(\"Hello, Python!\")"
      ],
      "metadata": {
        "id": "fgK_wp_BFYQw"
      },
      "execution_count": null,
      "outputs": []
    },
    {
      "cell_type": "code",
      "source": [
        "# Read from a file\n",
        "with open(\"example.txt\", \"r\") as file:\n",
        "    content = file.read()\n",
        "    print(content)"
      ],
      "metadata": {
        "colab": {
          "base_uri": "https://localhost:8080/"
        },
        "id": "xRTIWtk6DPwC",
        "outputId": "5ad4b6b0-63b5-43f5-f382-76c33ae4942c"
      },
      "execution_count": null,
      "outputs": [
        {
          "output_type": "stream",
          "name": "stdout",
          "text": [
            "\n",
            "Hello, Python!\n"
          ]
        }
      ]
    },
    {
      "cell_type": "code",
      "source": [
        "# prompt: change the code to print the type of  error\n",
        "# try:\n",
        "#     num = int(input(\"Enter a number: \"))\n",
        "#     print(\"Your number is\", num)\n",
        "# except ValueError:\n",
        "#     print(\"That's not a valid number!\")\n",
        "\n",
        "try:\n",
        "    num = int(input(\"Enter a number: \"))\n",
        "    print(\"Your number is\", num)\n",
        "except ValueError as e:\n",
        "    print(f\"Error: {e}\")"
      ],
      "metadata": {
        "colab": {
          "base_uri": "https://localhost:8080/"
        },
        "id": "Hal4m8G2DPsY",
        "outputId": "a6c16d17-a469-464a-be62-5b29f699fd23"
      },
      "execution_count": null,
      "outputs": [
        {
          "output_type": "stream",
          "name": "stdout",
          "text": [
            "Enter a number: A\n",
            "Error: invalid literal for int() with base 10: 'A'\n"
          ]
        }
      ]
    },
    {
      "cell_type": "code",
      "source": [
        "def area(length, width):\n",
        "    return length * width\n",
        "\n",
        "print(area(5, 3))"
      ],
      "metadata": {
        "colab": {
          "base_uri": "https://localhost:8080/"
        },
        "id": "K2xFywjmHQk1",
        "outputId": "17de7700-bf3b-44d6-d836-f1320b071c7a"
      },
      "execution_count": null,
      "outputs": [
        {
          "output_type": "stream",
          "name": "stdout",
          "text": [
            "15\n"
          ]
        }
      ]
    },
    {
      "cell_type": "code",
      "source": [
        "class Student:\n",
        "    def __init__(self, name, score):\n",
        "        self.name = name\n",
        "        self.score = score\n",
        "\n",
        "    def greet(self):\n",
        "        return f\"My name is {self.name} and my score is {self.score}.\""
      ],
      "metadata": {
        "id": "QAtYbg25IEXZ"
      },
      "execution_count": null,
      "outputs": []
    },
    {
      "cell_type": "code",
      "source": [
        "class Student:\n",
        "    def __init__(self, name, score):\n",
        "        self.name = name\n",
        "        self.score = score\n",
        "\n",
        "    def greet(self):\n",
        "        return f\"My name is {self.name} and my score is {self.score}.\"\n",
        "\n",
        "    def __str__(self):\n",
        "        return \"I am a student\"\n",
        "\n",
        "# Create an object\n",
        "alice = Student(\"Alice\", 25)\n",
        "Ahmad = Student(\"Ahmad\", 90)\n",
        "Samer = Student(\"Samer\", 100)\n",
        "Khalid = Student(\"Khalid\", 50)\n",
        "\n",
        "# Access attributes\n",
        "print(alice)\n",
        "\n",
        "\n"
      ],
      "metadata": {
        "colab": {
          "base_uri": "https://localhost:8080/"
        },
        "id": "l6SD8q1IDPoy",
        "outputId": "a0dbc928-769d-4d85-e0fc-f4f5335d004d"
      },
      "execution_count": null,
      "outputs": [
        {
          "output_type": "stream",
          "name": "stdout",
          "text": [
            "I am a student\n"
          ]
        }
      ]
    },
    {
      "cell_type": "code",
      "source": [
        "class Person:\n",
        "    def __init__(self, name, age):\n",
        "        self.name = name\n",
        "        self.age = age\n",
        "\n",
        "    def __str__(self):\n",
        "        return f\"Person(name={self.name}, age={self.age})\"\n",
        "\n",
        "    def __repr__(self):\n",
        "        return f\"Person('{self.name}', {self.age})\"\n",
        "\n",
        "person = Person(\"Alice\", 30)\n",
        "print(str(person))  # Person(name=Alice, age=30)\n",
        "print(repr(person))  # Person('Alice', 30)\n"
      ],
      "metadata": {
        "colab": {
          "base_uri": "https://localhost:8080/"
        },
        "id": "g4ZSOraMDPls",
        "outputId": "a8db9452-72f4-4f92-c7bb-3346acefac99"
      },
      "execution_count": null,
      "outputs": [
        {
          "output_type": "stream",
          "name": "stdout",
          "text": [
            "Person(name=Alice, age=30)\n",
            "Person('Alice', 30)\n"
          ]
        }
      ]
    },
    {
      "cell_type": "code",
      "source": [
        "class Collection:\n",
        "    def __init__(self, items):\n",
        "        self.items = items\n",
        "\n",
        "    def __len__(self):\n",
        "        return len(self.items)\n",
        "\n",
        "collection = Collection([1, 2, 3, 4])\n",
        "print(len(collection))  # 4\n"
      ],
      "metadata": {
        "colab": {
          "base_uri": "https://localhost:8080/"
        },
        "id": "kgnHXcNnDPia",
        "outputId": "9fb50255-8305-479d-9596-e2e6a71752e6"
      },
      "execution_count": null,
      "outputs": [
        {
          "output_type": "stream",
          "name": "stdout",
          "text": [
            "4\n"
          ]
        }
      ]
    },
    {
      "cell_type": "code",
      "source": [
        "class CustomList:\n",
        "    def __init__(self, items):\n",
        "        self.items = items\n",
        "\n",
        "    def __getitem__(self, index):\n",
        "        return self.items[index]\n",
        "\n",
        "    def __setitem__(self, index, value):\n",
        "        self.items[index] = value\n",
        "\n",
        "    def __delitem__(self, index):\n",
        "        del self.items[index]\n",
        "\n"
      ],
      "metadata": {
        "id": "kBlIPVl8DPfZ"
      },
      "execution_count": null,
      "outputs": []
    },
    {
      "cell_type": "code",
      "source": [
        "custom_list = CustomList([10, 20, 30])\n",
        "print(custom_list[1])  # 20\n",
        "\n",
        "\n"
      ],
      "metadata": {
        "colab": {
          "base_uri": "https://localhost:8080/"
        },
        "id": "Y1tr0QXyDPb_",
        "outputId": "7b5fc2cd-5e66-49d4-ac60-e75ccdebf4a4"
      },
      "execution_count": null,
      "outputs": [
        {
          "output_type": "stream",
          "name": "stdout",
          "text": [
            "20\n"
          ]
        }
      ]
    },
    {
      "cell_type": "code",
      "source": [
        "custom_list[1] = 25\n",
        "print(custom_list[1])  # 25\n",
        "\n"
      ],
      "metadata": {
        "id": "3dzsKlNWJvNy"
      },
      "execution_count": null,
      "outputs": []
    },
    {
      "cell_type": "code",
      "source": [
        "del custom_list[1]\n",
        "print(custom_list.items)  # [10, 30]"
      ],
      "metadata": {
        "colab": {
          "base_uri": "https://localhost:8080/"
        },
        "id": "WIWgrudkJvCA",
        "outputId": "596661b0-6d1e-41f4-d075-64bff218b46e"
      },
      "execution_count": null,
      "outputs": [
        {
          "output_type": "stream",
          "name": "stdout",
          "text": [
            "[10, 30]\n"
          ]
        }
      ]
    }
  ]
}